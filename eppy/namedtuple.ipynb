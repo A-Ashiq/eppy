{
 "metadata": {
  "name": ""
 },
 "nbformat": 3,
 "nbformat_minor": 0,
 "worksheets": [
  {
   "cells": [
    {
     "cell_type": "code",
     "collapsed": false,
     "input": [
      "import collections\n",
      "import string\n",
      "\n",
      "from bs4 import BeautifulSoup, NavigableString, Tag\n",
      "fname = \"resources/outputfiles/V_7_2/5ZoneCAVtoVAVWarmestTempFlowTable_ABUPS.html\"\n",
      "soup = BeautifulSoup(open(fname, 'r'))\n"
     ],
     "language": "python",
     "metadata": {},
     "outputs": [],
     "prompt_number": 23
    },
    {
     "cell_type": "code",
     "collapsed": false,
     "input": [
      "import readhtml"
     ],
     "language": "python",
     "metadata": {},
     "outputs": [],
     "prompt_number": 2
    },
    {
     "cell_type": "code",
     "collapsed": false,
     "input": [
      "def asciidigits(s):\n",
      "    if s not in string.ascii_letters + string.digits:\n",
      "        s = '_'\n",
      "    return s\n",
      "\n",
      "def nospace(s):\n",
      "    return ''.join([asciidigits(i) for i in s])\n",
      "\n",
      "def transpose(arr):\n",
      "    return map(list, zip(*arr))\n",
      "    "
     ],
     "language": "python",
     "metadata": {},
     "outputs": [],
     "prompt_number": 152
    },
    {
     "cell_type": "code",
     "collapsed": false,
     "input": [
      "lt = readhtml.lines_table(open(fname, 'r'))"
     ],
     "language": "python",
     "metadata": {},
     "outputs": [],
     "prompt_number": 8
    },
    {
     "cell_type": "code",
     "collapsed": false,
     "input": [
      "grid = lt[0][1]"
     ],
     "language": "python",
     "metadata": {},
     "outputs": [],
     "prompt_number": 11
    },
    {
     "cell_type": "code",
     "collapsed": false,
     "input": [
      "grid"
     ],
     "language": "python",
     "metadata": {},
     "outputs": [
      {
       "metadata": {},
       "output_type": "pyout",
       "prompt_number": 52,
       "text": [
        "[['',\n",
        "  u'Total Energy [kWh]',\n",
        "  u'Energy Per Total Building Area [kWh/m2]',\n",
        "  u'Energy Per Conditioned Building Area [kWh/m2]'],\n",
        " [u'Total Site Energy', 47694.47, 51.44, 51.44],\n",
        " [u'Net Site Energy', 47694.47, 51.44, 51.44],\n",
        " [u'Total Source Energy', 140159.1, 151.16, 151.16],\n",
        " [u'Net Source Energy', 140159.1, 151.16, 151.16]]"
       ]
      }
     ],
     "prompt_number": 52
    },
    {
     "cell_type": "code",
     "collapsed": false,
     "input": [
      "hnames = grid[0]"
     ],
     "language": "python",
     "metadata": {},
     "outputs": [],
     "prompt_number": 53
    },
    {
     "cell_type": "code",
     "collapsed": false,
     "input": [
      "hnames = [nospace(n) for n in hnames[1:]]"
     ],
     "language": "python",
     "metadata": {},
     "outputs": [],
     "prompt_number": 54
    },
    {
     "cell_type": "code",
     "collapsed": false,
     "input": [
      "vnames = [nospace(row[0]) for row in grid[1:]]"
     ],
     "language": "python",
     "metadata": {},
     "outputs": [],
     "prompt_number": 55
    },
    {
     "cell_type": "code",
     "collapsed": false,
     "input": [
      "hnames"
     ],
     "language": "python",
     "metadata": {},
     "outputs": [
      {
       "metadata": {},
       "output_type": "pyout",
       "prompt_number": 56,
       "text": [
        "[u'Total_Energy__kWh_',\n",
        " u'Energy_Per_Total_Building_Area__kWh_m2_',\n",
        " u'Energy_Per_Conditioned_Building_Area__kWh_m2_']"
       ]
      }
     ],
     "prompt_number": 56
    },
    {
     "cell_type": "code",
     "collapsed": false,
     "input": [
      "vnames_s = \" \".join(vnames)\n",
      "ntcol = collections.namedtuple('ntcol', vnames_s)"
     ],
     "language": "python",
     "metadata": {},
     "outputs": [],
     "prompt_number": 103
    },
    {
     "cell_type": "code",
     "collapsed": false,
     "input": [
      "hnames_s = \" \".join(hnames)\n",
      "ntrow = collections.namedtuple('ntrow', hnames_s)"
     ],
     "language": "python",
     "metadata": {},
     "outputs": [],
     "prompt_number": 100
    },
    {
     "cell_type": "code",
     "collapsed": false,
     "input": [
      "def make_ntgrid(grid):\n",
      "    hnames = [nospace(n) for n in grid[0][1:]]\n",
      "    vnames = [nospace(row[0]) for row in grid[1:]]\n",
      "    vnames_s = \" \".join(vnames)\n",
      "    hnames_s = \" \".join(hnames)\n",
      "    ntcol = collections.namedtuple('ntcol', vnames_s)\n",
      "    ntrow = collections.namedtuple('ntrow', hnames_s)\n",
      "    rdict = [dict(zip(hnames, row[1:])) for row in grid[1:]]  \n",
      "    ntrows = [ntrow(**rdict[i]) for i, name in enumerate(vnames)]\n",
      "    ntcols = ntcol(**dict(zip(vnames, ntrows)))\n",
      "    return ntcols"
     ],
     "language": "python",
     "metadata": {},
     "outputs": [],
     "prompt_number": 159
    },
    {
     "cell_type": "code",
     "collapsed": false,
     "input": [
      "cdict =  [dict(zip(hnames, row[1:])) for row in grid[1:]] "
     ],
     "language": "python",
     "metadata": {},
     "outputs": [],
     "prompt_number": 148
    },
    {
     "cell_type": "code",
     "collapsed": false,
     "input": [
      "grid"
     ],
     "language": "python",
     "metadata": {},
     "outputs": [
      {
       "metadata": {},
       "output_type": "pyout",
       "prompt_number": 153,
       "text": [
        "[['',\n",
        "  u'Total Energy [kWh]',\n",
        "  u'Energy Per Total Building Area [kWh/m2]',\n",
        "  u'Energy Per Conditioned Building Area [kWh/m2]'],\n",
        " [u'Total Site Energy', 47694.47, 51.44, 51.44],\n",
        " [u'Net Site Energy', 47694.47, 51.44, 51.44],\n",
        " [u'Total Source Energy', 140159.1, 151.16, 151.16],\n",
        " [u'Net Source Energy', 140159.1, 151.16, 151.16]]"
       ]
      }
     ],
     "prompt_number": 153
    },
    {
     "cell_type": "code",
     "collapsed": false,
     "input": [
      "ntrows = make_ntgrid(grid)"
     ],
     "language": "python",
     "metadata": {},
     "outputs": [],
     "prompt_number": 160
    },
    {
     "cell_type": "code",
     "collapsed": false,
     "input": [
      "ntcols = make_ntgrid(transpose(grid))"
     ],
     "language": "python",
     "metadata": {},
     "outputs": [],
     "prompt_number": 161
    },
    {
     "cell_type": "code",
     "collapsed": false,
     "input": [
      "ntrows"
     ],
     "language": "python",
     "metadata": {},
     "outputs": [
      {
       "metadata": {},
       "output_type": "pyout",
       "prompt_number": 162,
       "text": [
        "ntcol(Total_Site_Energy=ntrow(Total_Energy__kWh_=47694.47, Energy_Per_Total_Building_Area__kWh_m2_=51.44, Energy_Per_Conditioned_Building_Area__kWh_m2_=51.44), Net_Site_Energy=ntrow(Total_Energy__kWh_=47694.47, Energy_Per_Total_Building_Area__kWh_m2_=51.44, Energy_Per_Conditioned_Building_Area__kWh_m2_=51.44), Total_Source_Energy=ntrow(Total_Energy__kWh_=140159.1, Energy_Per_Total_Building_Area__kWh_m2_=151.16, Energy_Per_Conditioned_Building_Area__kWh_m2_=151.16), Net_Source_Energy=ntrow(Total_Energy__kWh_=140159.1, Energy_Per_Total_Building_Area__kWh_m2_=151.16, Energy_Per_Conditioned_Building_Area__kWh_m2_=151.16))"
       ]
      }
     ],
     "prompt_number": 162
    },
    {
     "cell_type": "code",
     "collapsed": false,
     "input": [
      "ntcols"
     ],
     "language": "python",
     "metadata": {},
     "outputs": [
      {
       "metadata": {},
       "output_type": "pyout",
       "prompt_number": 163,
       "text": [
        "ntcol(Total_Energy__kWh_=ntrow(Total_Site_Energy=47694.47, Net_Site_Energy=47694.47, Total_Source_Energy=140159.1, Net_Source_Energy=140159.1), Energy_Per_Total_Building_Area__kWh_m2_=ntrow(Total_Site_Energy=51.44, Net_Site_Energy=51.44, Total_Source_Energy=151.16, Net_Source_Energy=151.16), Energy_Per_Conditioned_Building_Area__kWh_m2_=ntrow(Total_Site_Energy=51.44, Net_Site_Energy=51.44, Total_Source_Energy=151.16, Net_Source_Energy=151.16))"
       ]
      }
     ],
     "prompt_number": 163
    },
    {
     "cell_type": "code",
     "collapsed": false,
     "input": [
      "ntcols[0]"
     ],
     "language": "python",
     "metadata": {},
     "outputs": [
      {
       "metadata": {},
       "output_type": "pyout",
       "prompt_number": 164,
       "text": [
        "ntrow(Total_Site_Energy=47694.47, Net_Site_Energy=47694.47, Total_Source_Energy=140159.1, Net_Source_Energy=140159.1)"
       ]
      }
     ],
     "prompt_number": 164
    },
    {
     "cell_type": "code",
     "collapsed": false,
     "input": [
      "ntcols.Energy_Per_Conditioned_Building_Area__kWh_m2_.Total_Source_Energy"
     ],
     "language": "python",
     "metadata": {},
     "outputs": [
      {
       "metadata": {},
       "output_type": "pyout",
       "prompt_number": 167,
       "text": [
        "151.16"
       ]
      }
     ],
     "prompt_number": 167
    },
    {
     "cell_type": "code",
     "collapsed": false,
     "input": [],
     "language": "python",
     "metadata": {},
     "outputs": []
    }
   ],
   "metadata": {}
  }
 ]
}