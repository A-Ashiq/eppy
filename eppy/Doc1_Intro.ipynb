{
 "metadata": {
  "name": "Doc1_Intro"
 },
 "nbformat": 3,
 "nbformat_minor": 0,
 "worksheets": [
  {
   "cells": [
    {
     "cell_type": "heading",
     "level": 1,
     "metadata": {},
     "source": [
      "Eppy Documentation"
     ]
    },
    {
     "cell_type": "markdown",
     "metadata": {},
     "source": [
      "Authors: Santosh Philip, Leora Tanjuatco"
     ]
    },
    {
     "cell_type": "markdown",
     "metadata": {},
     "source": [
      "Eppy is a scripting language for E+ idf files, and E+ output files. Eppy is written in the programming language Python. As a result it takes full advantage of the rich data structure and idioms that are avaliable in python. You can programmatically navigate, search, and modify E+ idf files useing eppy. The power of using a scripting language allows you to do the following:\n",
      "\n",
      "- Make a large number of changes in an idf file with a few lines of eppy code.\n",
      "- Use conditions and filters when making changes to a idf file\n",
      "- Make changes to multiple idf files.\n",
      "- Read data from the output files of a E+ simulation run.\n",
      "- Based to the results of a E+ simulation run, generate the input file for the next simulation run.\n",
      "\n",
      "So what does this matter?   \n",
      "Here are some of the things you can do with eppy:\n",
      "\n",
      "- Change construction for all north facing walls.\n",
      "- Change the glass type for all windows larger than 2 square meters.\n",
      "- Change the number of people in all the interior zones.\n",
      "- Change the lighting power in all south facing zones. \n",
      "- Change the efficiency and fan power of all rooftop units.\n",
      "- Find the energy use of all the models in a folder (or of models that were run after a certain date) \n",
      "- If a model is using more energy than expected, keep increasing the R-value of the roof until you get to the expected energy use."
     ]
    },
    {
     "cell_type": "heading",
     "level": 2,
     "metadata": {},
     "source": [
      "Quick Start"
     ]
    },
    {
     "cell_type": "markdown",
     "metadata": {},
     "source": [
      "Here is a short IDF file that I\u2019ll be using as an example to start us off:"
     ]
    },
    {
     "cell_type": "raw",
     "metadata": {},
     "source": [
      "VERSION,\n",
      "    7.2;                     !- Version Identifier\n",
      "\n",
      "SIMULATIONCONTROL,\n",
      "    Yes,                     !- Do Zone Sizing Calculation\n",
      "    Yes,                     !- Do System Sizing Calculation\n",
      "    Yes,                     !- Do Plant Sizing Calculation\n",
      "    No,                      !- Run Simulation for Sizing Periods\n",
      "    Yes;                     !- Run Simulation for Weather File Run Periods\n",
      "\n",
      "BUILDING,\n",
      "    White House,             !- Name\n",
      "    30.,                     !- North Axis {deg}\n",
      "    City,                    !- Terrain\n",
      "    0.04,                    !- Loads Convergence Tolerance Value\n",
      "    0.4,                     !- Temperature Convergence Tolerance Value {deltaC}\n",
      "    FullExterior,            !- Solar Distribution\n",
      "    25,                      !- Maximum Number of Warmup Days\n",
      "    6;                       !- Minimum Number of Warmup Days\n",
      "\n",
      "SITE:LOCATION,\n",
      "    CHICAGO_IL_USA TMY2-94846,  !- Name\n",
      "    41.78,                   !- Latitude {deg}\n",
      "    -87.75,                  !- Longitude {deg}\n",
      "    -6.00,                   !- Time Zone {hr}\n",
      "    190.00;                  !- Elevation {m}"
     ]
    },
    {
     "cell_type": "markdown",
     "metadata": {},
     "source": [
      "To use eppy to look at this model, we have to run a little code first:"
     ]
    },
    {
     "cell_type": "code",
     "collapsed": false,
     "input": [
      "import modeleditor\n",
      "from modeleditor import IDF\n",
      "\n",
      "iddfile = \"../iddfiles/Energy+V7_2_0.idd\"\n",
      "IDF.setiddname(iddfile)\n",
      "\n",
      "fname1 = \"../idffiles/V_7_2/smallfile.idf\"\n",
      "idf1 = IDF(fname1)"
     ],
     "language": "python",
     "metadata": {},
     "outputs": [],
     "prompt_number": 1
    },
    {
     "cell_type": "markdown",
     "metadata": {},
     "source": [
      "Now that the behind-the-scenes work is done, \n",
      "we can print the model using this command:"
     ]
    },
    {
     "cell_type": "raw",
     "metadata": {},
     "source": [
      " filename.printidf()"
     ]
    },
    {
     "cell_type": "markdown",
     "metadata": {},
     "source": [
      "For this example, we have named the file \"idf1\". So the command looks like this:"
     ]
    },
    {
     "cell_type": "code",
     "collapsed": false,
     "input": [
      "idf1.printidf()"
     ],
     "language": "python",
     "metadata": {},
     "outputs": [
      {
       "output_type": "stream",
       "stream": "stdout",
       "text": [
        "VERSION,\n",
        "     7.3;\n",
        "\n",
        "SIMULATIONCONTROL,\n",
        "     Yes,\n",
        "     Yes,\n",
        "     Yes,\n",
        "     No,\n",
        "     Yes;\n",
        "\n",
        "BUILDING,\n",
        "     White House,\n",
        "     30.0,\n",
        "     City,\n",
        "     0.04,\n",
        "     0.4,\n",
        "     FullExterior,\n",
        "     25,\n",
        "     6;\n",
        "\n",
        "SITE:LOCATION,\n",
        "     CHICAGO_IL_USA TMY2-94846,\n",
        "     41.78,\n",
        "     -87.75,\n",
        "     -6.0,\n",
        "     190.0;\n",
        "\n",
        "\n"
       ]
      }
     ],
     "prompt_number": 2
    },
    {
     "cell_type": "markdown",
     "metadata": {},
     "source": [
      "Looks like the same file as before, except that all the comments have been removed. Well ... this version of eppy is not smart enough to deal with comments. It just removes all of them :-("
     ]
    },
    {
     "cell_type": "markdown",
     "metadata": {},
     "source": [
      "As you can see, this file has four objects:\n",
      "\n",
      "- VERSION\n",
      "- SIMULATIONCONTROL\n",
      "- BUILDING\n",
      "- SITE:LOCATION\n",
      "\n",
      "\n",
      "So, let us look take a closer look at the BUILDING object:"
     ]
    },
    {
     "cell_type": "code",
     "collapsed": false,
     "input": [
      "print idf1.idfobjects['BUILDING']  # put the name of the object you'd like to look at in brackets"
     ],
     "language": "python",
     "metadata": {},
     "outputs": [
      {
       "output_type": "stream",
       "stream": "stdout",
       "text": [
        "[\n",
        "BUILDING,                 \n",
        "    White House,              !- Name\n",
        "    30.0,                     !- North Axis\n",
        "    City,                     !- Terrain\n",
        "    0.04,                     !- Loads Convergence Tolerance Value\n",
        "    0.4,                      !- Temperature Convergence Tolerance Value\n",
        "    FullExterior,             !- Solar Distribution\n",
        "    25,                       !- Maximum Number of Warmup Days\n",
        "    6;                        !- Minimum Number of Warmup Days\n",
        "]\n"
       ]
      }
     ],
     "prompt_number": 3
    },
    {
     "cell_type": "markdown",
     "metadata": {},
     "source": [
      "We can also zoom in on the object and look just at its individual parts.    \n",
      "For example, let us look at the name of the building:"
     ]
    },
    {
     "cell_type": "code",
     "collapsed": false,
     "input": [
      "building = idf1.idfobjects['BUILDING'][0] # more behind-the-scenes work\n",
      "                                          # we'll explain the [0] later"
     ],
     "language": "python",
     "metadata": {},
     "outputs": [],
     "prompt_number": 4
    },
    {
     "cell_type": "code",
     "collapsed": false,
     "input": [
      "print building.Name"
     ],
     "language": "python",
     "metadata": {},
     "outputs": [
      {
       "output_type": "stream",
       "stream": "stdout",
       "text": [
        "White House\n"
       ]
      }
     ],
     "prompt_number": 5
    },
    {
     "cell_type": "markdown",
     "metadata": {},
     "source": [
      "Now that we've isolated the building name, we can change it."
     ]
    },
    {
     "cell_type": "code",
     "collapsed": false,
     "input": [
      "building.Name = \"Empire State Building\""
     ],
     "language": "python",
     "metadata": {},
     "outputs": [],
     "prompt_number": 6
    },
    {
     "cell_type": "code",
     "collapsed": false,
     "input": [
      "print building.Name"
     ],
     "language": "python",
     "metadata": {},
     "outputs": [
      {
       "output_type": "stream",
       "stream": "stdout",
       "text": [
        "Empire State Building\n"
       ]
      }
     ],
     "prompt_number": 7
    },
    {
     "cell_type": "markdown",
     "metadata": {},
     "source": [
      "Did this actually change the name in the model ? Let us print the entire model and see."
     ]
    },
    {
     "cell_type": "code",
     "collapsed": false,
     "input": [
      "idf1.printidf()"
     ],
     "language": "python",
     "metadata": {},
     "outputs": [
      {
       "output_type": "stream",
       "stream": "stdout",
       "text": [
        "VERSION,\n",
        "     7.3;\n",
        "\n",
        "SIMULATIONCONTROL,\n",
        "     Yes,\n",
        "     Yes,\n",
        "     Yes,\n",
        "     No,\n",
        "     Yes;\n",
        "\n",
        "BUILDING,\n",
        "     Empire State Building,\n",
        "     30.0,\n",
        "     City,\n",
        "     0.04,\n",
        "     0.4,\n",
        "     FullExterior,\n",
        "     25,\n",
        "     6;\n",
        "\n",
        "SITE:LOCATION,\n",
        "     CHICAGO_IL_USA TMY2-94846,\n",
        "     41.78,\n",
        "     -87.75,\n",
        "     -6.0,\n",
        "     190.0;\n",
        "\n",
        "\n"
       ]
      }
     ],
     "prompt_number": 8
    },
    {
     "cell_type": "markdown",
     "metadata": {},
     "source": [
      "Yes! It did. So we know we can change any field in any object. "
     ]
    },
    {
     "cell_type": "code",
     "collapsed": false,
     "input": [],
     "language": "python",
     "metadata": {},
     "outputs": []
    }
   ],
   "metadata": {}
  }
 ]
}