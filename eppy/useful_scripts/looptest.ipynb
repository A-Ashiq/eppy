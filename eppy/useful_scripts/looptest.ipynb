{
 "metadata": {
  "name": "",
  "signature": "sha256:4ca9df6c4b5771928953103fa6238086dbff5980c39fc36f259c95f5d637883d"
 },
 "nbformat": 3,
 "nbformat_minor": 0,
 "worksheets": [
  {
   "cells": [
    {
     "cell_type": "code",
     "collapsed": false,
     "input": [
      "import sys\n",
      "# pathnameto_eppy = 'c:/eppy'\n",
      "pathnameto_eppy = '../../'\n",
      "sys.path.append(pathnameto_eppy)\n",
      "\n",
      "from eppy import modeleditor\n",
      "from eppy.modeleditor import IDF\n",
      "iddfile = \"../../eppy/resources/iddfiles/Energy+V8_1_0.idd\"\n",
      "fname1 = \"../../eppy/resources/idffiles/V8_1_0/Boiler.idf\""
     ],
     "language": "python",
     "metadata": {},
     "outputs": [],
     "prompt_number": 1
    },
    {
     "cell_type": "code",
     "collapsed": false,
     "input": [
      "IDF.setiddname(iddfile)\n",
      "idf1 = IDF(fname1)"
     ],
     "language": "python",
     "metadata": {},
     "outputs": [],
     "prompt_number": 2
    },
    {
     "cell_type": "code",
     "collapsed": false,
     "input": [
      "idf1 = IDF(fname1)"
     ],
     "language": "python",
     "metadata": {},
     "outputs": [],
     "prompt_number": 3
    },
    {
     "cell_type": "code",
     "collapsed": false,
     "input": [
      "idf1.saveas(\"bl.idf\")"
     ],
     "language": "python",
     "metadata": {},
     "outputs": [],
     "prompt_number": 4
    },
    {
     "cell_type": "code",
     "collapsed": false,
     "input": [
      "keys = idf1.idfobjects.keys()"
     ],
     "language": "python",
     "metadata": {},
     "outputs": [],
     "prompt_number": 5
    },
    {
     "cell_type": "code",
     "collapsed": false,
     "input": [
      "from eppy.bunch_subclass import BadEPFieldError\n",
      "for key in keys:\n",
      "    for idfobject in idf1.idfobjects[key]:\n",
      "        try:\n",
      "            name = idfobject.Name\n",
      "            print name\n",
      "            if name.find(\":\") != -1:\n",
      "                #print key, name\n",
      "                newname = name.replace(':', '_') \n",
      "                #print idfobject[0]\n",
      "                modeleditor.rename(idf1, key, name, newname)\n",
      "        except BadEPFieldError , e:\n",
      "            pass\n",
      "        "
     ],
     "language": "python",
     "metadata": {},
     "outputs": [
      {
       "output_type": "stream",
       "stream": "stdout",
       "text": [
        "LTHW Loop AvailabilityManager List\n",
        "Primary HT HW Loop AvailabilityManager List\n",
        "DHW Loop Setpoint Manager\n",
        "Primary HT HW Loop Setpoint Manager\n",
        "Building:SAPZone1 Water Outlet\n",
        "Building:SAPZone1 Electric Convector\n",
        "Building:SAPZone2 Electric Convector\n",
        "ExternalWallMaterialInner\n",
        "ExternalRoofMaterialInner\n",
        "ExternalFloorMaterialInner\n",
        "InternalPartitionMaterial\n",
        "LTHW Loop Demand Side Connectors\n",
        "LTHW Loop Supply Side Connectors\n",
        "Primary HT HW Loop Demand Side Connectors\n",
        "Primary HT HW Loop Supply Side Connectors\n",
        "LTHW Loop Availability\n",
        "Primary HT HW Loop Availability\n",
        "1\n",
        "Building:SAPZone1 Equipment\n",
        "Building:SAPZone2 Equipment\n",
        "Auxiliary Water Heater"
       ]
      },
      {
       "output_type": "stream",
       "stream": "stdout",
       "text": [
        "\n",
        "Building:SAPZone1 Design Specification Outdoor Air Object\n",
        "Building:SAPZone2 Design Specification Outdoor Air Object\n",
        "Electricity:Facility\n",
        "Gas:Facility\n",
        "DistrictHeating:Facility\n",
        "SolarWater:Facility\n",
        "People Building:SAPZone2\n",
        "People Building:SAPZone1"
       ]
      },
      {
       "output_type": "stream",
       "stream": "stdout",
       "text": [
        "\n",
        "Building:SAPZone2 Water Convector\n",
        "Building:SAPZone1 Water Convector\n",
        "Building:SAPZone1 Water Convector/1/1\n",
        "Building:SAPZone2 Water Convector/1/1\n",
        "ETI Dwellings\n",
        "CondensingBoilerEff\n",
        "HPWHHeatingCapFTemp\n",
        "HPWHHeatingCOPFTemp\n",
        "Off\n",
        "Summer Control Type Week Sch\n",
        "Winter Control Type Week Sch\n",
        "Summer Control Type Week Sch - cool\n",
        "Winter Control Type Week Sch - heat\n",
        "0\n",
        "50\n",
        "Off\n",
        "Summer Control Type Day Sch\n",
        "Winter Control Type Day Sch\n",
        "Summer Control Type Day Sch - cool\n",
        "Winter Control Type Day Sch - heat\n",
        "100% efficient\n",
        "Purchased Heating\n",
        "75\n",
        "Ambient Temp Schedule\n",
        "ASHP Tank Temp Schedule\n",
        "Hot Water Set Point Temp Schedule\n",
        "PlantHPWHSch\n",
        "PlantHPWHTempSch\n",
        "On\n",
        "Off\n",
        "Work efficiency\n",
        "OpaqueShade\n",
        "Zone Comfort Control Type Sched\n",
        "Design Days Only\n",
        "2\n",
        "7\n",
        "41\n",
        "46\n",
        "47\n",
        "48\n",
        "60\n",
        "61\n",
        "63\n",
        "71\n",
        "72\n",
        "89\n",
        "90\n",
        "91\n",
        "99\n",
        "TypOperativeTempControlSch\n",
        "AirVelocitySchedule\n",
        "ETI_Cool\n",
        "ETI_DHW\n",
        "ETI_Heat_Zone1\n",
        "ETI_Heat_Zone2\n",
        "ETI_Equip\n",
        "ETI_Occ\n",
        "ETI_StorageOn\n",
        "ETI_StorageOff\n",
        "Activity Schedule 25\n",
        "Clothing Schedule 25\n",
        "Activity Schedule 32\n",
        "Clothing Schedule 32\n",
        "LTHW Loop\n",
        "Primary HT HW Loop\n",
        "Primary Boiler\n",
        "Secondary Boiler\n",
        "Building:SAPZone2 Infiltration\n",
        "Building:SAPZone1 Infiltration\n",
        "Building:SAPZone2\n",
        "Building:SAPZone1"
       ]
      },
      {
       "output_type": "stream",
       "stream": "stdout",
       "text": [
        "\n",
        "Building:SAPZone1 Dual SP"
       ]
      },
      {
       "output_type": "stream",
       "stream": "stdout",
       "text": [
        "\n",
        "Building:SAPZone2 Dual SP\n",
        "Primary HT HW Loop Scheme ElecStorageOn\n",
        "Primary HT HW Loop Scheme ElecStorageOff\n",
        "LTHW Loop Scheme ElecStorageOn\n",
        "LTHW Loop Scheme ElecStorageOff\n",
        "Building:SAPZone2 Equipment 1\n",
        "Building:SAPZone1 Equipment 1\n",
        "ExternalWindowMaterial"
       ]
      },
      {
       "output_type": "stream",
       "stream": "stdout",
       "text": [
        "\n",
        "New style low temperature boiler\n",
        "LTHW Loop Demand Side Inlet Branch\n",
        "LTHW Loop Demand Side Bypass Branch\n",
        "Water Outlet Group DHW Plant Loop Branch\n",
        "Building:SAPZone2 Water Convector DHW Plant Loop Branch\n",
        "Building:SAPZone1 Water Convector DHW Plant Loop Branch"
       ]
      },
      {
       "output_type": "stream",
       "stream": "stdout",
       "text": [
        "\n",
        "LTHW Loop Demand Side Outlet Branch"
       ]
      },
      {
       "output_type": "stream",
       "stream": "stdout",
       "text": [
        "\n",
        "LTHW Loop Supply Side Inlet Branch\n",
        "Auxiliary Water Heater DHW Plant Loop Branch\n",
        "LTHW Loop Supply Side Outlet Branch\n",
        "Primary HT HW Loop Demand Side Inlet Branch\n",
        "Primary HT HW Loop Demand Side Bypass Branch\n",
        "Building:SAPZone1 Water Convector/1/1 HW Plant Loop Branch\n",
        "Auxiliary Water Heater HW Plant Loop Branch"
       ]
      },
      {
       "output_type": "stream",
       "stream": "stdout",
       "text": [
        "\n",
        "Building:SAPZone2 Water Convector/1/1 HW Plant Loop Branch\n",
        "Primary HT HW Loop Demand Side Outlet Branch"
       ]
      },
      {
       "output_type": "stream",
       "stream": "stdout",
       "text": [
        "\n",
        "Primary HT HW Loop Supply Side Inlet Branch\n",
        "Primary HT HW Loop Supply Side Bypass Branch\n",
        "DHN DHW Plant Loop Branch\n",
        "Primary Boiler HW Plant Loop Branch\n",
        "Primary HT HW Loop Supply Side Outlet Branch\n",
        "Secondary Boiler HW Plant Loop Branch\n",
        "LTHW Loop Supply Pump\n",
        "Primary HT HW Loop Supply Pump\n",
        "Summer Design Day in ETI Dwellings Jul\n",
        "Winter Design Day in ETI Dwellings\n",
        "HT HW Loop PrimaryBoiler Equipment List\n",
        "HT HW Loop SecondaryBoiler Equipment List\n",
        "HT HW Loop DHN Equipment List\n",
        "LTHW Loop Scheme ElecStorageOn Equipment List\n",
        "LTHW Loop Scheme ElecStorageOff Equipment List\n",
        "LTHW Loop Demand Splitter\n",
        "LTHW Loop Supply Splitter\n",
        "Primary HT HW Loop Demand Splitter\n",
        "Primary HT HW Loop Supply Splitter\n",
        "LTHW Loop Demand Side Inlet Branch Pipe\n",
        "LTHW Loop Demand Side Bypass Pipe\n",
        "LTHW Loop Demand Side Outlet Branch Pipe\n",
        "LTHW Loop Supply Side Outlet Branch Pipe\n",
        "Primary HT HW Loop Demand Side Inlet Branch Pipe\n",
        "Primary HT HW Loop Demand Side Bypass Pipe\n",
        "Primary HT HW Loop Demand Side Outlet Branch Pipe\n",
        "Primary HT HW Loop Supply Side Bypass Pipe\n",
        "Primary HT HW Loop Supply Side Outlet Branch Pipe\n",
        "HPWHPLFFPLR\n",
        "DHW Loop Setpoint Manager Node List\n",
        "Primary HT HW Loop Setpoint Manager Node List\n",
        "Building:SAPZone2_GroundFloor_0_0_0\n",
        "Building:SAPZone2_Roof_1_0_0"
       ]
      },
      {
       "output_type": "stream",
       "stream": "stdout",
       "text": [
        "\n",
        "Building:SAPZone2_Wall_2_0_0"
       ]
      },
      {
       "output_type": "stream",
       "stream": "stdout",
       "text": [
        "\n",
        "Building:SAPZone2_Wall_3_0_0"
       ]
      },
      {
       "output_type": "stream",
       "stream": "stdout",
       "text": [
        "\n",
        "Building:SAPZone2_Wall_4_0_0"
       ]
      },
      {
       "output_type": "stream",
       "stream": "stdout",
       "text": [
        "\n",
        "Building:SAPZone2_Partition_5_0_0"
       ]
      },
      {
       "output_type": "stream",
       "stream": "stdout",
       "text": [
        "\n",
        "Building:SAPZone1_Partition_3_0_10000"
       ]
      },
      {
       "output_type": "stream",
       "stream": "stdout",
       "text": [
        "\n",
        "Building:SAPZone1_GroundFloor_0_0_0"
       ]
      },
      {
       "output_type": "stream",
       "stream": "stdout",
       "text": [
        "\n",
        "Building:SAPZone1_Roof_1_0_0"
       ]
      },
      {
       "output_type": "stream",
       "stream": "stdout",
       "text": [
        "\n",
        "Building:SAPZone1_Wall_2_0_0"
       ]
      },
      {
       "output_type": "stream",
       "stream": "stdout",
       "text": [
        "\n",
        "Building:SAPZone1_Wall_4_0_0"
       ]
      },
      {
       "output_type": "stream",
       "stream": "stdout",
       "text": [
        "\n",
        "Building:SAPZone1_Wall_5_0_0"
       ]
      },
      {
       "output_type": "stream",
       "stream": "stdout",
       "text": [
        "\n",
        "LTHW Loop Demand Mixer"
       ]
      },
      {
       "output_type": "stream",
       "stream": "stdout",
       "text": [
        "\n",
        "LTHW Loop Supply Mixer\n",
        "Primary HT HW Loop Demand Mixer\n",
        "Primary HT HW Loop Supply Mixer\n",
        "Unseen University\n",
        "Building:SAPZone2_Wall_2_0_0_0_0_0_Win\n",
        "Building:SAPZone2_Wall_4_0_0_0_0_0_Win"
       ]
      },
      {
       "output_type": "stream",
       "stream": "stdout",
       "text": [
        "\n",
        "Building:SAPZone1_Wall_2_0_0_0_0_0_Win"
       ]
      },
      {
       "output_type": "stream",
       "stream": "stdout",
       "text": [
        "\n",
        "Building:SAPZone1_Wall_4_0_0_0_0_0_Win"
       ]
      },
      {
       "output_type": "stream",
       "stream": "stdout",
       "text": [
        "\n",
        "Building:SAPZone1 Design Specification Zone Air Distribution Object"
       ]
      },
      {
       "output_type": "stream",
       "stream": "stdout",
       "text": [
        "\n",
        "Building:SAPZone2 Design Specification Zone Air Distribution Object\n",
        "Building:SAPZone1 Thermostat\n",
        "Building:SAPZone2 Thermostat"
       ]
      },
      {
       "output_type": "stream",
       "stream": "stdout",
       "text": [
        "\n",
        "LTHW Loop Demand Side Branches\n",
        "LTHW Loop Supply Side Branches\n",
        "Primary HT HW Loop Demand Side Branches\n",
        "Primary HT HW Loop Supply Side Branches\n",
        "Project Wall\n",
        "Project Flat Roof\n",
        "Project Ground Floor\n",
        "Project Partition\n",
        "Project Partition_Rev\n",
        "1001\n",
        "Water Outlet Group\n",
        "Building\n",
        "Primary HT HW Loop Operation\n",
        "LTHW Loop Operation\n",
        "Any Number\n",
        "Fraction\n",
        "Temperature\n",
        "Control Type\n",
        "On/Off\n"
       ]
      }
     ],
     "prompt_number": 6
    },
    {
     "cell_type": "code",
     "collapsed": false,
     "input": [
      "idf1.saveas(\"b2.idf\")"
     ],
     "language": "python",
     "metadata": {},
     "outputs": [],
     "prompt_number": 7
    },
    {
     "cell_type": "code",
     "collapsed": false,
     "input": [
      "idf1.idfobjects['ZONE']"
     ],
     "language": "python",
     "metadata": {},
     "outputs": [
      {
       "metadata": {},
       "output_type": "pyout",
       "prompt_number": 34,
       "text": [
        "[\n",
        "Zone,                     \n",
        "    Building:SAPZone2,        !- Name\n",
        "    0.0,                      !- Direction of Relative North\n",
        "    0.0,                      !- X Origin\n",
        "    0.0,                      !- Y Origin\n",
        "    0.0,                      !- Z Origin\n",
        "    1,                        !- Type\n",
        "    1,                        !- Multiplier\n",
        "    ,                         !- Ceiling Height\n",
        "    ,                         !- Volume\n",
        "    ,                         !- Floor Area\n",
        "    TARP;                     !- Zone Inside Convection Algorithm\n",
        ",\n",
        " \n",
        "Zone,                     \n",
        "    Building:SAPZone1,        !- Name\n",
        "    0.0,                      !- Direction of Relative North\n",
        "    0.0,                      !- X Origin\n",
        "    0.0,                      !- Y Origin\n",
        "    0.0,                      !- Z Origin\n",
        "    1,                        !- Type\n",
        "    1,                        !- Multiplier\n",
        "    ,                         !- Ceiling Height\n",
        "    ,                         !- Volume\n",
        "    ,                         !- Floor Area\n",
        "    TARP;                     !- Zone Inside Convection Algorithm\n",
        "]"
       ]
      }
     ],
     "prompt_number": 34
    },
    {
     "cell_type": "code",
     "collapsed": false,
     "input": [
      "\"asfdsaljfa;slfj\".find(':')"
     ],
     "language": "python",
     "metadata": {},
     "outputs": [
      {
       "metadata": {},
       "output_type": "pyout",
       "prompt_number": 10,
       "text": [
        "-1"
       ]
      }
     ],
     "prompt_number": 10
    },
    {
     "cell_type": "code",
     "collapsed": false,
     "input": [],
     "language": "python",
     "metadata": {},
     "outputs": []
    }
   ],
   "metadata": {}
  }
 ]
}