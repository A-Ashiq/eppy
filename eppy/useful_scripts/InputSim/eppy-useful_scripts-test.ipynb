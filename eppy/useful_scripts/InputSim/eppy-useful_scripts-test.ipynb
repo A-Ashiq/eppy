{
 "metadata": {
  "name": "",
  "signature": "sha256:5593237ee484a8e99651607d5fdd865abf2797bb09e6560f8edc65d6a095cd34"
 },
 "nbformat": 3,
 "nbformat_minor": 0,
 "worksheets": [
  {
   "cells": [
    {
     "cell_type": "code",
     "collapsed": false,
     "input": [
      "from eppy import modeleditor\n",
      "from eppy.modeleditor import IDF\n",
      "\n",
      "try:\n",
      "    IDF.setiddname('/Applications/EnergyPlus-8-1-0/Energy+.idd')\n",
      "except modeleditor.IDDAlreadySetError as e:\n",
      "    pass\n",
      "\n",
      "simFile = IDF('ASHRAE90.1_SchoolPrimary_STD2007_Salem.idf')\n",
      "simFile.saveas('90.1-07_PrimSch.idf')"
     ],
     "language": "python",
     "metadata": {},
     "outputs": [],
     "prompt_number": 5
    },
    {
     "cell_type": "code",
     "collapsed": false,
     "input": [],
     "language": "python",
     "metadata": {},
     "outputs": []
    }
   ],
   "metadata": {}
  }
 ]
}