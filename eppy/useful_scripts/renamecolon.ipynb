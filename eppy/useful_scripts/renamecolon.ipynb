{
 "metadata": {
  "name": "",
  "signature": "sha256:497738360d67241d4f11b7b27bea6f77ad3898be3edc13671da6a1dbfd85ddfa"
 },
 "nbformat": 3,
 "nbformat_minor": 0,
 "worksheets": [
  {
   "cells": [
    {
     "cell_type": "code",
     "collapsed": false,
     "input": [
      "import sys\n",
      "# pathnameto_eppy = 'c:/eppy'\n",
      "pathnameto_eppy = '../../'\n",
      "sys.path.append(pathnameto_eppy)\n",
      "\n",
      "from eppy import modeleditor\n",
      "from eppy.modeleditor import IDF\n",
      "iddfile = \"../../eppy/resources/iddfiles/Energy+V8_1_0.idd\"\n",
      "fname1 = \"../../eppy/resources/idffiles/V8_1_0/Boiler.idf\""
     ],
     "language": "python",
     "metadata": {},
     "outputs": [],
     "prompt_number": 2
    },
    {
     "cell_type": "code",
     "collapsed": false,
     "input": [
      "IDF.setiddname(iddfile)\n",
      "idf1 = IDF(fname1)"
     ],
     "language": "python",
     "metadata": {},
     "outputs": [],
     "prompt_number": 3
    },
    {
     "cell_type": "code",
     "collapsed": false,
     "input": [
      "idf1 = IDF(fname1)"
     ],
     "language": "python",
     "metadata": {},
     "outputs": [],
     "prompt_number": 4
    },
    {
     "cell_type": "code",
     "collapsed": false,
     "input": [
      "idf1.saveas(\"bl.idf\")"
     ],
     "language": "python",
     "metadata": {},
     "outputs": [],
     "prompt_number": 5
    },
    {
     "cell_type": "code",
     "collapsed": false,
     "input": [
      "keys = idf1.idfobjects.keys()"
     ],
     "language": "python",
     "metadata": {},
     "outputs": [],
     "prompt_number": 6
    },
    {
     "cell_type": "code",
     "collapsed": false,
     "input": [
      "# rename object name and any field that refers to that name\n",
      "from eppy.bunch_subclass import BadEPFieldError\n",
      "for key in keys:\n",
      "    for idfobject in idf1.idfobjects[key]:\n",
      "        try:\n",
      "            name = idfobject.Name\n",
      "            if name.find(\":\") != -1:\n",
      "                newname = name.replace(':', '_') \n",
      "                # print \"%s, %s, %s\" %  (key, name, newname)\n",
      "                modeleditor.rename(idf1, key, name, newname)\n",
      "        except BadEPFieldError , e:\n",
      "            pass\n",
      "        "
     ],
     "language": "python",
     "metadata": {},
     "outputs": [],
     "prompt_number": 7
    },
    {
     "cell_type": "code",
     "collapsed": false,
     "input": [
      "idf1.saveas(\"bl_renamed_names.idf\")"
     ],
     "language": "python",
     "metadata": {},
     "outputs": [],
     "prompt_number": 8
    },
    {
     "cell_type": "code",
     "collapsed": false,
     "input": [
      "# rename any fields that have a colon\n",
      "obj = idf1.idfobjects['ZONE'][0]"
     ],
     "language": "python",
     "metadata": {},
     "outputs": [],
     "prompt_number": 9
    },
    {
     "cell_type": "code",
     "collapsed": false,
     "input": [
      "obj.keys()"
     ],
     "language": "python",
     "metadata": {},
     "outputs": [
      {
       "metadata": {},
       "output_type": "pyout",
       "prompt_number": 10,
       "text": [
        "['objidd', 'obj', 'objls', '__functions']"
       ]
      }
     ],
     "prompt_number": 10
    },
    {
     "cell_type": "code",
     "collapsed": false,
     "input": [
      "obj['obj']"
     ],
     "language": "python",
     "metadata": {},
     "outputs": [
      {
       "metadata": {},
       "output_type": "pyout",
       "prompt_number": 11,
       "text": [
        "['Zone', 'Building_SAPZone2', 0.0, 0.0, 0.0, 0.0, 1, 1, '', '', '', 'TARP']"
       ]
      }
     ],
     "prompt_number": 11
    },
    {
     "cell_type": "code",
     "collapsed": false,
     "input": [
      "obj['objidd']"
     ],
     "language": "python",
     "metadata": {},
     "outputs": [
      {
       "metadata": {},
       "output_type": "pyout",
       "prompt_number": 12,
       "text": [
        "[{'format': ['vertices'], 'memo': ['Defines a thermal zone of the building.']},\n",
        " {'field': ['Name'],\n",
        "  'reference': ['ZoneNames',\n",
        "   'OutFaceEnvNames',\n",
        "   'ZoneAndZoneListNames',\n",
        "   'AirflowNetworkNodeAndZoneNames'],\n",
        "  'required-field': [''],\n",
        "  'type': ['alpha']},\n",
        " {'default': ['0'],\n",
        "  'field': ['Direction of Relative North'],\n",
        "  'type': ['real'],\n",
        "  'units': ['deg']},\n",
        " {'default': ['0'], 'field': ['X Origin'], 'type': ['real'], 'units': ['m']},\n",
        " {'default': ['0'], 'field': ['Y Origin'], 'type': ['real'], 'units': ['m']},\n",
        " {'default': ['0'], 'field': ['Z Origin'], 'type': ['real'], 'units': ['m']},\n",
        " {'default': ['1'],\n",
        "  'field': ['Type'],\n",
        "  'maximum': ['1'],\n",
        "  'minimum': ['1'],\n",
        "  'type': ['integer']},\n",
        " {'default': ['1'],\n",
        "  'field': ['Multiplier'],\n",
        "  'minimum': ['1'],\n",
        "  'type': ['integer']},\n",
        " {'autocalculatable': [''],\n",
        "  'default': ['autocalculate'],\n",
        "  'field': ['Ceiling Height'],\n",
        "  'note': ['If this field is 0.0, negative or autocalculate, then the average height',\n",
        "   'of the zone is automatically calculated and used in subsequent calculations.',\n",
        "   'If this field is positive, then the number entered here will be used.',\n",
        "   'Note that the Zone Ceiling Height is the distance from the Floor to',\n",
        "   'the Ceiling in the Zone, not an absolute height from the ground.'],\n",
        "  'type': ['real'],\n",
        "  'units': ['m']},\n",
        " {'autocalculatable': [''],\n",
        "  'default': ['autocalculate'],\n",
        "  'field': ['Volume'],\n",
        "  'note': ['If this field is 0.0, negative or autocalculate, then the volume of the zone',\n",
        "   'is automatically calculated and used in subsequent calculations.',\n",
        "   'If this field is positive, then the number entered here will be used.'],\n",
        "  'type': ['real'],\n",
        "  'units': ['m3']},\n",
        " {'autocalculatable': [''],\n",
        "  'default': ['autocalculate'],\n",
        "  'field': ['Floor Area'],\n",
        "  'note': ['If this field is 0.0, negative or autocalculate, then the floor area of the zone',\n",
        "   'is automatically calculated and used in subsequent calculations.',\n",
        "   'If this field is positive, then the number entered here will be used.'],\n",
        "  'type': ['real'],\n",
        "  'units': ['m2']},\n",
        " {'field': ['Zone Inside Convection Algorithm'],\n",
        "  'key': ['Simple',\n",
        "   'TARP',\n",
        "   'CeilingDiffuser',\n",
        "   'AdaptiveConvectionAlgorithm',\n",
        "   'TrombeWall'],\n",
        "  'note': ['Will default to same value as SurfaceConvectionAlgorithm:Inside object',\n",
        "   'setting this field overrides the default SurfaceConvectionAlgorithm:Inside for this zone',\n",
        "   'Simple = constant natural convection (ASHRAE)',\n",
        "   'TARP = variable natural convection based on temperature difference (ASHRAE)',\n",
        "   'CeilingDiffuser = ACH based forced and mixed convection correlations',\n",
        "   'for ceiling diffuser configuration with simple natural convection limit',\n",
        "   'AdaptiveConvectionAlgorithm = dynamic selection of convection models based on conditions',\n",
        "   'TrombeWall = variable natural convection in an enclosed rectangular cavity'],\n",
        "  'type': ['choice']},\n",
        " {'field': ['Zone Outside Convection Algorithm'],\n",
        "  'key': ['SimpleCombined',\n",
        "   'TARP',\n",
        "   'DOE-2',\n",
        "   'MoWiTT',\n",
        "   'AdaptiveConvectionAlgorithm'],\n",
        "  'note': ['Will default to same value as SurfaceConvectionAlgorithm:Outside object',\n",
        "   'setting this field overrides the default SurfaceConvectionAlgorithm:Outside for this zone',\n",
        "   'SimpleCombined = Combined radiation and convection coefficient using simple ASHRAE model',\n",
        "   'TARP = correlation from models developed by ASHRAE, Walton, and Sparrow et. al.',\n",
        "   'MoWiTT = correlation from measurements by Klems and Yazdanian for smooth surfaces',\n",
        "   'DOE-2 = correlation from measurements by Klems and Yazdanian for rough surfaces',\n",
        "   'AdaptiveConvectionAlgorithm = dynamic selection of correlations based on conditions'],\n",
        "  'type': ['choice']},\n",
        " {'default': ['Yes'],\n",
        "  'field': ['Part of Total Floor Area'],\n",
        "  'key': ['Yes', 'No'],\n",
        "  'type': ['choice']}]"
       ]
      }
     ],
     "prompt_number": 12
    },
    {
     "cell_type": "code",
     "collapsed": false,
     "input": [],
     "language": "python",
     "metadata": {},
     "outputs": []
    }
   ],
   "metadata": {}
  }
 ]
}