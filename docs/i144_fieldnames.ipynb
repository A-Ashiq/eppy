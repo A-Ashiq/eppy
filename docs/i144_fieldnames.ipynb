{
 "metadata": {
  "name": ""
 },
 "nbformat": 3,
 "nbformat_minor": 0,
 "worksheets": [
  {
   "cells": [
    {
     "cell_type": "code",
     "collapsed": false,
     "input": [
      "# you would normaly install eppy by doing\n",
      "# python setup.py install\n",
      "# or\n",
      "# pip install eppy\n",
      "# or\n",
      "# easy_install eppy\n",
      "\n",
      "# if you have not done so, uncomment the following three lines\n",
      "import sys\n",
      "# pathnameto_eppy = 'c:/eppy'\n",
      "pathnameto_eppy = '../'\n",
      "sys.path.append(pathnameto_eppy) \n",
      "\n",
      "from eppy import modeleditor \n",
      "from eppy.modeleditor import IDF\n",
      "iddfile = \"/Applications/EnergyPlus-8-6-0/Energy+.idd\"\n",
      "fname1 = \"../eppy/resources/idffiles/V_7_2/smallfile.idf\""
     ],
     "language": "python",
     "metadata": {},
     "outputs": [],
     "prompt_number": 1
    },
    {
     "cell_type": "code",
     "collapsed": false,
     "input": [
      "import StringIO\n",
      "IDF.setiddname(iddfile)\n",
      "idf1 = IDF(StringIO.StringIO(\"\"))"
     ],
     "language": "python",
     "metadata": {},
     "outputs": [],
     "prompt_number": 2
    },
    {
     "cell_type": "code",
     "collapsed": false,
     "input": [
      "idf = idf1"
     ],
     "language": "python",
     "metadata": {},
     "outputs": [],
     "prompt_number": 3
    },
    {
     "cell_type": "code",
     "collapsed": false,
     "input": [
      "o1 = idf.newidfobject(\"GROUNDHEATTRANSFER:SLAB:YFACE\")"
     ],
     "language": "python",
     "metadata": {},
     "outputs": [],
     "prompt_number": 5
    },
    {
     "cell_type": "code",
     "collapsed": false,
     "input": [
      "o1"
     ],
     "language": "python",
     "metadata": {},
     "outputs": [
      {
       "metadata": {},
       "output_type": "pyout",
       "prompt_number": 6,
       "text": [
        "\n",
        "    GROUNDHEATTRANSFER:SLAB:YFACE,;\n"
       ]
      }
     ],
     "prompt_number": 6
    },
    {
     "cell_type": "code",
     "collapsed": false,
     "input": [
      "o1.fieldnames"
     ],
     "language": "python",
     "metadata": {},
     "outputs": [
      {
       "metadata": {},
       "output_type": "pyout",
       "prompt_number": 7,
       "text": [
        "[u'key',\n",
        " u'a',\n",
        " u'a',\n",
        " u'a',\n",
        " u'a',\n",
        " u'a',\n",
        " u'a',\n",
        " u'a',\n",
        " u'a',\n",
        " u'a',\n",
        " u'a',\n",
        " u'a',\n",
        " u'a',\n",
        " u'a',\n",
        " u'a',\n",
        " u'a',\n",
        " u'a',\n",
        " u'a',\n",
        " u'a',\n",
        " u'a',\n",
        " u'a',\n",
        " u'a',\n",
        " u'a',\n",
        " u'a',\n",
        " u'a',\n",
        " u'a',\n",
        " u'a',\n",
        " u'a',\n",
        " u'a',\n",
        " u'a',\n",
        " u'a',\n",
        " u'a',\n",
        " u'a',\n",
        " u'a',\n",
        " u'a',\n",
        " u'a',\n",
        " u'a',\n",
        " u'a',\n",
        " u'a',\n",
        " u'a',\n",
        " u'a']"
       ]
      }
     ],
     "prompt_number": 7
    },
    {
     "cell_type": "code",
     "collapsed": false,
     "input": [
      "o1.objidd"
     ],
     "language": "python",
     "metadata": {},
     "outputs": [
      {
       "metadata": {},
       "output_type": "pyout",
       "prompt_number": 10,
       "text": [
        "[{u'group': u'Detailed Ground Heat Transfer',\n",
        "  u'idfobj': u'GroundHeatTransfer:Slab:YFACE',\n",
        "  u'memo': [u'This is only needed when using manual gridding (not recommended)',\n",
        "   u'YFACE: Y Direction cell face coordinates: m,']},\n",
        " {u'field': u'afield 1'},\n",
        " {u'field': u'afield 2'},\n",
        " {u'field': u'afield 3'},\n",
        " {u'field': u'afield 4'},\n",
        " {u'field': u'afield 5'},\n",
        " {u'field': u'afield 6'},\n",
        " {u'field': u'afield 7'},\n",
        " {u'field': u'afield 8'},\n",
        " {u'field': u'afield 9'},\n",
        " {u'field': u'afield 10'},\n",
        " {u'field': u'afield 11'},\n",
        " {u'field': u'afield 12'},\n",
        " {u'field': u'afield 13'},\n",
        " {u'field': u'afield 14', u'note': [u'fields as indicated']},\n",
        " {u'field': u'afield 15'},\n",
        " {u'field': u'afield 16'},\n",
        " {u'field': u'afield 17'},\n",
        " {u'field': u'afield 18'},\n",
        " {u'field': u'afield 19'},\n",
        " {u'field': u'afield 20'},\n",
        " {u'field': u'afield 21'},\n",
        " {u'field': u'afield 22'},\n",
        " {u'field': u'afield 23'},\n",
        " {u'field': u'afield 24'},\n",
        " {u'field': u'afield 25'},\n",
        " {u'field': u'afield 26'},\n",
        " {u'field': u'afield 27'},\n",
        " {u'field': u'afield 28'},\n",
        " {u'field': u'afield 29', u'note': [u'fields as indicated']},\n",
        " {u'field': u'afield 30'},\n",
        " {u'field': u'afield 31'},\n",
        " {u'field': u'afield 32'},\n",
        " {u'field': u'afield 33'},\n",
        " {u'field': u'afield 34'},\n",
        " {u'field': u'afield 35'},\n",
        " {u'field': u'afield 36'},\n",
        " {u'field': u'afield 37'},\n",
        " {u'field': u'afield 38'},\n",
        " {u'field': u'afield 39'},\n",
        " {u'field': u'afield 40', u'note': [u'fields as indicated']}]"
       ]
      }
     ],
     "prompt_number": 10
    },
    {
     "cell_type": "code",
     "collapsed": false,
     "input": [
      "o3 = idf.newidfobject(\"SITE:SPECTRUMDATA\")"
     ],
     "language": "python",
     "metadata": {},
     "outputs": [],
     "prompt_number": 11
    },
    {
     "cell_type": "code",
     "collapsed": false,
     "input": [
      "ver = idf.newidfobject(\"version\".upper())"
     ],
     "language": "python",
     "metadata": {},
     "outputs": [],
     "prompt_number": 27
    },
    {
     "cell_type": "code",
     "collapsed": false,
     "input": [
      "ver"
     ],
     "language": "python",
     "metadata": {},
     "outputs": [
      {
       "metadata": {},
       "output_type": "pyout",
       "prompt_number": 28,
       "text": [
        "\n",
        "VERSION,                  \n",
        "    8.6;                      !- Version Identifier\n"
       ]
      }
     ],
     "prompt_number": 28
    },
    {
     "cell_type": "code",
     "collapsed": false,
     "input": [
      "print ver"
     ],
     "language": "python",
     "metadata": {},
     "outputs": [
      {
       "output_type": "stream",
       "stream": "stdout",
       "text": [
        "\n",
        "VERSION,                  \n",
        "    8.6;                      !- Version Identifier\n",
        "\n"
       ]
      }
     ],
     "prompt_number": 29
    },
    {
     "cell_type": "code",
     "collapsed": false,
     "input": [
      "print ver.obj"
     ],
     "language": "python",
     "metadata": {},
     "outputs": [
      {
       "output_type": "stream",
       "stream": "stdout",
       "text": [
        "['VERSION', u'8.6']\n"
       ]
      }
     ],
     "prompt_number": 30
    },
    {
     "cell_type": "code",
     "collapsed": false,
     "input": [
      "ver.obj[-1] = 'Spiderman'\n",
      "print ver.obj\n",
      "print ver"
     ],
     "language": "python",
     "metadata": {},
     "outputs": [
      {
       "output_type": "stream",
       "stream": "stdout",
       "text": [
        "['VERSION', 'Spiderman']\n",
        "\n",
        "VERSION,                  \n",
        "    Spiderman;                !- Version Identifier\n",
        "\n"
       ]
      }
     ],
     "prompt_number": 31
    },
    {
     "cell_type": "code",
     "collapsed": false,
     "input": [
      "o0"
     ],
     "language": "python",
     "metadata": {},
     "outputs": [
      {
       "metadata": {},
       "output_type": "pyout",
       "prompt_number": 21,
       "text": [
        "\n",
        "VERSION,                  \n",
        "    Spiderman;                !- Version Identifier\n"
       ]
      }
     ],
     "prompt_number": 21
    },
    {
     "cell_type": "code",
     "collapsed": false,
     "input": [
      "o1.obj"
     ],
     "language": "python",
     "metadata": {},
     "outputs": [
      {
       "metadata": {},
       "output_type": "pyout",
       "prompt_number": 22,
       "text": [
        "['GROUNDHEATTRANSFER:SLAB:YFACE']"
       ]
      }
     ],
     "prompt_number": 22
    },
    {
     "cell_type": "code",
     "collapsed": false,
     "input": [
      "o1.obj.append(5)"
     ],
     "language": "python",
     "metadata": {},
     "outputs": [],
     "prompt_number": 23
    },
    {
     "cell_type": "code",
     "collapsed": false,
     "input": [
      "o1"
     ],
     "language": "python",
     "metadata": {},
     "outputs": [
      {
       "metadata": {},
       "output_type": "pyout",
       "prompt_number": 24,
       "text": [
        "\n",
        "GROUNDHEATTRANSFER:SLAB:YFACE,\n",
        "    5;                        !- a\n"
       ]
      }
     ],
     "prompt_number": 24
    },
    {
     "cell_type": "code",
     "collapsed": false,
     "input": [
      "o1.obj.extend([5,6,7,9])"
     ],
     "language": "python",
     "metadata": {},
     "outputs": [],
     "prompt_number": 25
    },
    {
     "cell_type": "code",
     "collapsed": false,
     "input": [
      "o1"
     ],
     "language": "python",
     "metadata": {},
     "outputs": [
      {
       "metadata": {},
       "output_type": "pyout",
       "prompt_number": 26,
       "text": [
        "\n",
        "GROUNDHEATTRANSFER:SLAB:YFACE,\n",
        "    5,                        !- a\n",
        "    5,                        !- a\n",
        "    6,                        !- a\n",
        "    7,                        !- a\n",
        "    9;                        !- a\n"
       ]
      }
     ],
     "prompt_number": 26
    },
    {
     "cell_type": "code",
     "collapsed": false,
     "input": [
      "groundtr_x = idf.newidfobject(\"GROUNDHEATTRANSFER:SLAB:XFACE\")\n",
      "print groundtr_x.obj"
     ],
     "language": "python",
     "metadata": {},
     "outputs": [
      {
       "output_type": "stream",
       "stream": "stdout",
       "text": [
        "['GROUNDHEATTRANSFER:SLAB:XFACE']\n"
       ]
      }
     ],
     "prompt_number": 35
    },
    {
     "cell_type": "code",
     "collapsed": false,
     "input": [
      "groundtr_x.obj.append(5)\n",
      "print groundtr_x.obj\n",
      "print groundtr_x"
     ],
     "language": "python",
     "metadata": {},
     "outputs": [
      {
       "output_type": "stream",
       "stream": "stdout",
       "text": [
        "['GROUNDHEATTRANSFER:SLAB:XFACE', 5]\n",
        "\n",
        "GROUNDHEATTRANSFER:SLAB:XFACE,\n",
        "    5;                        !- a\n",
        "\n"
       ]
      }
     ],
     "prompt_number": 36
    },
    {
     "cell_type": "code",
     "collapsed": false,
     "input": [
      "groundtr_x.obj.extend([6,7,99])\n",
      "print groundtr_x.obj\n",
      "print groundtr_x"
     ],
     "language": "python",
     "metadata": {},
     "outputs": [
      {
       "output_type": "stream",
       "stream": "stdout",
       "text": [
        "['GROUNDHEATTRANSFER:SLAB:XFACE', 5, 6, 7, 99]\n",
        "\n",
        "GROUNDHEATTRANSFER:SLAB:XFACE,\n",
        "    5,                        !- a\n",
        "    6,                        !- a\n",
        "    7,                        !- a\n",
        "    99;                       !- a\n",
        "\n"
       ]
      }
     ],
     "prompt_number": 37
    },
    {
     "cell_type": "code",
     "collapsed": false,
     "input": [],
     "language": "python",
     "metadata": {},
     "outputs": []
    }
   ],
   "metadata": {}
  }
 ]
}