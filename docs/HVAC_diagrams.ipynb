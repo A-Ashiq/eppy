{
 "metadata": {
  "name": "HVAC_diagrams"
 },
 "nbformat": 3,
 "nbformat_minor": 0,
 "worksheets": [
  {
   "cells": [
    {
     "cell_type": "code",
     "collapsed": false,
     "input": [
      "\"\"\"HVAC diagrams\"\"\""
     ],
     "language": "python",
     "metadata": {},
     "outputs": [
      {
       "output_type": "pyout",
       "prompt_number": 1,
       "text": [
        "'HVAC diagrams'"
       ]
      }
     ],
     "prompt_number": 1
    },
    {
     "cell_type": "code",
     "collapsed": false,
     "input": [
      "# you would normaly install eppy by doing\n",
      "# python setup.py install\n",
      "# or\n",
      "# pip install eppy\n",
      "# or\n",
      "# easy_install eppy\n",
      "\n",
      "# if you have not done so, uncomment the following three lines\n",
      "import sys\n",
      "# pathnameto_eppy = 'c:/eppy'\n",
      "pathnameto_eppy = '../'\n",
      "sys.path.append(pathnameto_eppy) "
     ],
     "language": "python",
     "metadata": {},
     "outputs": [],
     "prompt_number": 2
    },
    {
     "cell_type": "code",
     "collapsed": false,
     "input": [
      "from eppy import modeleditor \n",
      "from eppy.modeleditor import IDF\n",
      "iddfile = \"../eppy/resources/iddfiles/Energy+V8_0_0.idd\"\n",
      "fname = \"../eppy/resources/idffiles/V8_0_0/5ZoneSupRetPlenRAB.idf\"\n",
      "IDF.setiddname(iddfile)"
     ],
     "language": "python",
     "metadata": {},
     "outputs": [],
     "prompt_number": 3
    },
    {
     "cell_type": "code",
     "collapsed": false,
     "input": [
      "idf = IDF(fname)"
     ],
     "language": "python",
     "metadata": {},
     "outputs": [],
     "prompt_number": 4
    },
    {
     "cell_type": "code",
     "collapsed": false,
     "input": [
      "# idf.model"
     ],
     "language": "python",
     "metadata": {},
     "outputs": [],
     "prompt_number": 5
    },
    {
     "cell_type": "code",
     "collapsed": false,
     "input": [
      "from eppy.EPlusInterfaceFunctions import readidf\n",
      "from eppy.ex_loopdiagram import makeairplantloop, makediagram\n",
      "\n",
      "print \"readingfile\"\n",
      "data, commdct = readidf.readdatacommdct(fname, iddfile=iddfile)\n",
      "print \"constructing the loops\"\n",
      "edges = makeairplantloop(data, commdct)\n",
      "print \"making the diagram\"\n",
      "g = makediagram(edges)\n",
      "dotname = \"a.dot\"\n",
      "pngname = \"a.png\"\n",
      "# dotname = '%s.dot' % (os.path.splitext(fname)[0])\n",
      "# pngname = '%s.png' % (os.path.splitext(fname)[0])\n",
      "g.write(dotname)\n",
      "g.write_png(pngname)\n"
     ],
     "language": "python",
     "metadata": {},
     "outputs": [
      {
       "output_type": "stream",
       "stream": "stdout",
       "text": [
        "readingfile\n",
        "constructing the loops"
       ]
      },
      {
       "output_type": "stream",
       "stream": "stdout",
       "text": [
        "\n",
        "making the diagram\n"
       ]
      },
      {
       "output_type": "pyout",
       "prompt_number": 6,
       "text": [
        "True"
       ]
      }
     ],
     "prompt_number": 6
    },
    {
     "cell_type": "code",
     "collapsed": false,
     "input": [],
     "language": "python",
     "metadata": {},
     "outputs": []
    }
   ],
   "metadata": {}
  }
 ]
}