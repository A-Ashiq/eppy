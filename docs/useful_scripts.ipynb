{
 "metadata": {
  "name": ""
 },
 "nbformat": 3,
 "nbformat_minor": 0,
 "worksheets": [
  {
   "cells": [
    {
     "cell_type": "heading",
     "level": 1,
     "metadata": {},
     "source": [
      "Useful Scripts"
     ]
    },
    {
     "cell_type": "heading",
     "level": 2,
     "metadata": {},
     "source": [
      "Location of the scripts"
     ]
    },
    {
     "cell_type": "code",
     "collapsed": false,
     "input": [
      "# these scripts are all in the folder useful_scripts\n",
      "# Let us change directory to that folder\n",
      "import os\n",
      "os.chdir(\"../eppy/useful_scripts\")"
     ],
     "language": "python",
     "metadata": {},
     "outputs": [],
     "prompt_number": 1
    },
    {
     "cell_type": "code",
     "collapsed": false,
     "input": [
      "# you would normaly install eppy by doing\n",
      "# python setup.py install\n",
      "# or\n",
      "# pip install eppy\n",
      "# or\n",
      "# easy_install eppy\n",
      "\n",
      "# if you have not done so, uncomment the following three lines\n",
      "import sys\n",
      "# pathnameto_eppy = 'c:/eppy'\n",
      "pathnameto_eppy = '../../'\n",
      "sys.path.append(pathnameto_eppy) \n"
     ],
     "language": "python",
     "metadata": {},
     "outputs": [],
     "prompt_number": 2
    },
    {
     "cell_type": "markdown",
     "metadata": {},
     "source": [
      "The scripts are in the following folder:\n",
      "\n",
      "- ./eppy/useful_scripts\n",
      "\n",
      "The scripts are:\n",
      "\n",
      "    - idfdiff.py\n",
      "    - eppyreadtest_folder.py\n",
      "    - eppyreadtest_file.py\n",
      "        "
     ]
    },
    {
     "cell_type": "heading",
     "level": 2,
     "metadata": {},
     "source": [
      "Compare two idf files - idfdiff.py"
     ]
    },
    {
     "cell_type": "markdown",
     "metadata": {},
     "source": [
      "You would the script from the command line. This would be the terminal on Mac or unix, and the dos prompt on windows. Let us look at the help for this script, by typing:\n"
     ]
    },
    {
     "cell_type": "code",
     "collapsed": false,
     "input": [
      "%%bash\n",
      "# ignore the line above. It simply lets me run a command line from ipython notebook\n",
      "python idfdiff.py -h"
     ],
     "language": "python",
     "metadata": {},
     "outputs": [
      {
       "output_type": "stream",
       "stream": "stdout",
       "text": [
        "usage: idfdiff.py [-h] idd file1 file2\n",
        "\n",
        "do a diff between two idf files prints the difference in a csv file format.\n",
        "You can redirect the output to a csv file and open as a spreadsheet.\n",
        "\n",
        "positional arguments:\n",
        "  idd         location of idd file = ./somewhere/eplusv8-0-1.idd\n",
        "  file1       location of first with idf files = ./somewhere/f1.idf\n",
        "  file2       location of second with idf files = ./somewhere/f2.idf\n",
        "\n",
        "optional arguments:\n",
        "  -h, --help  show this help message and exit\n"
       ]
      }
     ],
     "prompt_number": 3
    },
    {
     "cell_type": "code",
     "collapsed": false,
     "input": [
      "%%bash\n",
      "# python idfdiff.py idd file1 file2\n",
      "python idfdiff.py ../resources/iddfiles/Energy+V7_2_0.idd ../resources/idffiles/V_7_2/constructions.idf ../resources/idffiles/V_7_2/constructions_diff.idf"
     ],
     "language": "python",
     "metadata": {},
     "outputs": [
      {
       "output_type": "stream",
       "stream": "stdout",
       "text": [
        "Object Key, Object Name, Field Name, ../resources/idffiles/V_7_2/constructions.idf, ../resources/idffiles/V_7_2/constructions_diff.idf\n",
        "\n",
        "MATERIAL F08 Metal surface  is not in ../resources/idffiles/V_7_2/constructions_diff.idf\n",
        "MATERIAL F08 Metal surface haha  is not in ../resources/idffiles/V_7_2/constructions.idf\n",
        "MATERIAL, G05 25mm wood, Conductivity, 0.15, 0.155\n",
        "CONSTRUCTION, Exterior Door, Outside Layer, F08 Metal surface, F08 Metal surface haha\n"
       ]
      }
     ],
     "prompt_number": 4
    },
    {
     "cell_type": "code",
     "collapsed": false,
     "input": [
      "%%bash\n",
      "# python idfdiff.py idd file1 file2\n",
      "python idfdiff.py ../resources/iddfiles/Energy+V7_2_0.idd ../resources/idffiles/V_7_2/constructions.idf ../resources/idffiles/V_7_2/constructions_diff.idf > a.csv"
     ],
     "language": "python",
     "metadata": {},
     "outputs": [],
     "prompt_number": 17
    },
    {
     "cell_type": "code",
     "collapsed": false,
     "input": [
      "os.chdir(\"../\")\n",
      "from eppy import ex_inits #no need to know this code, it just shows the image below\n",
      "for_images = ex_inits\n",
      "for_images.display_png(for_images.plantloop1) # display the image below\n",
      "# os.chdir(\"./useful_scripts\")"
     ],
     "language": "python",
     "metadata": {},
     "outputs": [
      {
       "ename": "ImportError",
       "evalue": "No module named eppy",
       "output_type": "pyerr",
       "traceback": [
        "\u001b[0;31m---------------------------------------------------------------------------\u001b[0m\n\u001b[0;31mImportError\u001b[0m                               Traceback (most recent call last)",
        "\u001b[0;32m<ipython-input-5-9951be449ac6>\u001b[0m in \u001b[0;36m<module>\u001b[0;34m()\u001b[0m\n\u001b[1;32m      1\u001b[0m \u001b[0mos\u001b[0m\u001b[0;34m.\u001b[0m\u001b[0mchdir\u001b[0m\u001b[0;34m(\u001b[0m\u001b[0;34m\"../\"\u001b[0m\u001b[0;34m)\u001b[0m\u001b[0;34m\u001b[0m\u001b[0m\n\u001b[0;32m----> 2\u001b[0;31m \u001b[0;32mfrom\u001b[0m \u001b[0meppy\u001b[0m \u001b[0;32mimport\u001b[0m \u001b[0mex_inits\u001b[0m \u001b[0;31m#no need to know this code, it just shows the image below\u001b[0m\u001b[0;34m\u001b[0m\u001b[0m\n\u001b[0m\u001b[1;32m      3\u001b[0m \u001b[0mfor_images\u001b[0m \u001b[0;34m=\u001b[0m \u001b[0mex_inits\u001b[0m\u001b[0;34m\u001b[0m\u001b[0m\n\u001b[1;32m      4\u001b[0m \u001b[0mfor_images\u001b[0m\u001b[0;34m.\u001b[0m\u001b[0mdisplay_png\u001b[0m\u001b[0;34m(\u001b[0m\u001b[0mfor_images\u001b[0m\u001b[0;34m.\u001b[0m\u001b[0mplantloop1\u001b[0m\u001b[0;34m)\u001b[0m \u001b[0;31m# display the image below\u001b[0m\u001b[0;34m\u001b[0m\u001b[0m\n\u001b[1;32m      5\u001b[0m \u001b[0;31m# os.chdir(\"./useful_scripts\")\u001b[0m\u001b[0;34m\u001b[0m\u001b[0;34m\u001b[0m\u001b[0m\n",
        "\u001b[0;31mImportError\u001b[0m: No module named eppy"
       ]
      }
     ],
     "prompt_number": 5
    },
    {
     "cell_type": "code",
     "collapsed": false,
     "input": [
      "os.chdir(\"./useful_scripts\")"
     ],
     "language": "python",
     "metadata": {},
     "outputs": [
      {
       "ename": "OSError",
       "evalue": "[Errno 2] No such file or directory: './useful_scripts'",
       "output_type": "pyerr",
       "traceback": [
        "\u001b[0;31m---------------------------------------------------------------------------\u001b[0m\n\u001b[0;31mOSError\u001b[0m                                   Traceback (most recent call last)",
        "\u001b[0;32m<ipython-input-23-61852b002e76>\u001b[0m in \u001b[0;36m<module>\u001b[0;34m()\u001b[0m\n\u001b[0;32m----> 1\u001b[0;31m \u001b[0mos\u001b[0m\u001b[0;34m.\u001b[0m\u001b[0mchdir\u001b[0m\u001b[0;34m(\u001b[0m\u001b[0;34m\"./useful_scripts\"\u001b[0m\u001b[0;34m)\u001b[0m\u001b[0;34m\u001b[0m\u001b[0m\n\u001b[0m",
        "\u001b[0;31mOSError\u001b[0m: [Errno 2] No such file or directory: './useful_scripts'"
       ]
      }
     ],
     "prompt_number": 23
    },
    {
     "cell_type": "code",
     "collapsed": false,
     "input": [
      "pwd"
     ],
     "language": "python",
     "metadata": {},
     "outputs": [
      {
       "metadata": {},
       "output_type": "pyout",
       "prompt_number": 6,
       "text": [
        "u'/Users/santoshphilip/Documents/coolshadow/eppy/eppy/useful_scripts'"
       ]
      }
     ],
     "prompt_number": 6
    },
    {
     "cell_type": "code",
     "collapsed": false,
     "input": [
      "os.chdir(\"../\")"
     ],
     "language": "python",
     "metadata": {},
     "outputs": [],
     "prompt_number": 7
    },
    {
     "cell_type": "code",
     "collapsed": false,
     "input": [
      "pwd"
     ],
     "language": "python",
     "metadata": {},
     "outputs": [
      {
       "metadata": {},
       "output_type": "pyout",
       "prompt_number": 8,
       "text": [
        "u'/Users/santoshphilip/Documents/coolshadow/eppy/eppy'"
       ]
      }
     ],
     "prompt_number": 8
    },
    {
     "cell_type": "code",
     "collapsed": false,
     "input": [],
     "language": "python",
     "metadata": {},
     "outputs": []
    }
   ],
   "metadata": {}
  }
 ]
}