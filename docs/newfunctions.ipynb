{
 "metadata": {
  "name": ""
 },
 "nbformat": 3,
 "nbformat_minor": 0,
 "worksheets": [
  {
   "cells": [
    {
     "cell_type": "heading",
     "level": 1,
     "metadata": {},
     "source": [
      "New functions"
     ]
    },
    {
     "cell_type": "markdown",
     "metadata": {},
     "source": [
      "These are recently written functions that have not made it into the main documentation"
     ]
    },
    {
     "cell_type": "heading",
     "level": 2,
     "metadata": {},
     "source": [
      "Python Lesson: Errors and Exceptions"
     ]
    },
    {
     "cell_type": "code",
     "collapsed": false,
     "input": [
      "# you would normaly install eppy by doing\n",
      "# python setup.py install\n",
      "# or\n",
      "# pip install eppy\n",
      "# or\n",
      "# easy_install eppy\n",
      "\n",
      "# if you have not done so, uncomment the following three lines\n",
      "import sys\n",
      "# pathnameto_eppy = 'c:/eppy'\n",
      "pathnameto_eppy = '../'\n",
      "sys.path.append(pathnameto_eppy) \n"
     ],
     "language": "python",
     "metadata": {},
     "outputs": [],
     "prompt_number": 12
    },
    {
     "cell_type": "markdown",
     "metadata": {},
     "source": [
      "When things go wrong in your eppy script, you get \"Errors and Exceptions\". \n",
      "\n",
      "To know more about how this works in python and eppy, take a look at [Python: Errors and Exceptions](http://docs.python.org/2/tutorial/errors.html)"
     ]
    },
    {
     "cell_type": "heading",
     "level": 2,
     "metadata": {},
     "source": [
      "Setting IDD name"
     ]
    },
    {
     "cell_type": "markdown",
     "metadata": {},
     "source": [
      "When you work with Energyplus you are working with **idf** files (files that have the extension \\*.idf). There is another file that is very important, called the **idd** file. This is the file that defines all the objects in Energyplus. Esch version of Energyplus has a different **idd** file. \n",
      "\n",
      "So eppy needs to know which **idd** file to use. Only one **idd** file can be used in a script or program. This means that you cannot change the **idd** file once you have selected it. Of course you have to first select an **idd** file before eppy can work.\n",
      "\n",
      "If you use eppy and break the above rules, eppy will raise an exception. So let us use eppy incorrectly and make eppy raise the exception, just see how that happens.\n",
      "\n",
      "First let us try to open an **idf** file without setting an **idd** file."
     ]
    },
    {
     "cell_type": "code",
     "collapsed": false,
     "input": [
      "from eppy import modeleditor \n",
      "from eppy.modeleditor import IDF\n",
      "fname1 = \"../eppy/resources/idffiles/V_7_2/smallfile.idf\"\n"
     ],
     "language": "python",
     "metadata": {},
     "outputs": [],
     "prompt_number": 13
    },
    {
     "cell_type": "markdown",
     "metadata": {},
     "source": [
      "Now let us open file fname1 without setting the **idd** file"
     ]
    },
    {
     "cell_type": "code",
     "collapsed": false,
     "input": [
      "try:\n",
      "    idf1 = IDF(fname1)\n",
      "except Exception, e:\n",
      "    raise e\n",
      "    "
     ],
     "language": "python",
     "metadata": {},
     "outputs": [],
     "prompt_number": 14
    },
    {
     "cell_type": "markdown",
     "metadata": {},
     "source": [
      "OK. It does not let you do that and it raises an exception\n",
      "\n",
      "So let us set the **idd** file and then open the idf file"
     ]
    },
    {
     "cell_type": "code",
     "collapsed": false,
     "input": [
      "iddfile = \"../eppy/resources/iddfiles/Energy+V7_2_0.idd\"\n",
      "IDF.setiddname(iddfile)\n",
      "idf1 = IDF(fname1)\n"
     ],
     "language": "python",
     "metadata": {},
     "outputs": [
      {
       "ename": "IDDAlreadySetError",
       "evalue": "IDD file is set to: ../eppy/resources/iddfiles/Energy+V7_2_0.idd",
       "output_type": "pyerr",
       "traceback": [
        "\u001b[0;31m---------------------------------------------------------------------------\u001b[0m\n\u001b[0;31mIDDAlreadySetError\u001b[0m                        Traceback (most recent call last)",
        "\u001b[0;32m<ipython-input-15-e0e181a1b8ca>\u001b[0m in \u001b[0;36m<module>\u001b[0;34m()\u001b[0m\n\u001b[1;32m      1\u001b[0m \u001b[0middfile\u001b[0m \u001b[0;34m=\u001b[0m \u001b[0;34m\"../eppy/resources/iddfiles/Energy+V7_2_0.idd\"\u001b[0m\u001b[0;34m\u001b[0m\u001b[0m\n\u001b[0;32m----> 2\u001b[0;31m \u001b[0mIDF\u001b[0m\u001b[0;34m.\u001b[0m\u001b[0msetiddname\u001b[0m\u001b[0;34m(\u001b[0m\u001b[0middfile\u001b[0m\u001b[0;34m)\u001b[0m\u001b[0;34m\u001b[0m\u001b[0m\n\u001b[0m\u001b[1;32m      3\u001b[0m \u001b[0midf1\u001b[0m \u001b[0;34m=\u001b[0m \u001b[0mIDF\u001b[0m\u001b[0;34m(\u001b[0m\u001b[0mfname1\u001b[0m\u001b[0;34m)\u001b[0m\u001b[0;34m\u001b[0m\u001b[0m\n",
        "\u001b[0;32m/Users/santoshphilip/Documents/coolshadow/eppy_git/eppy/eppy/modeleditor.py\u001b[0m in \u001b[0;36msetiddname\u001b[0;34m(cls, arg, testing)\u001b[0m\n\u001b[1;32m    389\u001b[0m             \u001b[0;32mif\u001b[0m \u001b[0mtesting\u001b[0m \u001b[0;34m==\u001b[0m \u001b[0mFalse\u001b[0m\u001b[0;34m:\u001b[0m\u001b[0;34m\u001b[0m\u001b[0m\n\u001b[1;32m    390\u001b[0m                 \u001b[0merrortxt\u001b[0m \u001b[0;34m=\u001b[0m \u001b[0;34m\"IDD file is set to: %s\"\u001b[0m  \u001b[0;34m%\u001b[0m \u001b[0;34m(\u001b[0m\u001b[0mcls\u001b[0m\u001b[0;34m.\u001b[0m\u001b[0middname\u001b[0m\u001b[0;34m,\u001b[0m \u001b[0;34m)\u001b[0m\u001b[0;34m\u001b[0m\u001b[0m\n\u001b[0;32m--> 391\u001b[0;31m                 \u001b[0;32mraise\u001b[0m \u001b[0mIDDAlreadySetError\u001b[0m\u001b[0;34m(\u001b[0m\u001b[0merrortxt\u001b[0m\u001b[0;34m)\u001b[0m\u001b[0;34m\u001b[0m\u001b[0m\n\u001b[0m\u001b[1;32m    392\u001b[0m     \u001b[0;34m@\u001b[0m\u001b[0mclassmethod\u001b[0m\u001b[0;34m\u001b[0m\u001b[0m\n\u001b[1;32m    393\u001b[0m     \u001b[0;32mdef\u001b[0m \u001b[0mgetiddname\u001b[0m\u001b[0;34m(\u001b[0m\u001b[0mcls\u001b[0m\u001b[0;34m)\u001b[0m\u001b[0;34m:\u001b[0m\u001b[0;34m\u001b[0m\u001b[0m\n",
        "\u001b[0;31mIDDAlreadySetError\u001b[0m: IDD file is set to: ../eppy/resources/iddfiles/Energy+V7_2_0.idd"
       ]
      }
     ],
     "prompt_number": 15
    },
    {
     "cell_type": "markdown",
     "metadata": {},
     "source": [
      "That worked without raising an exception\n",
      "\n",
      "Now let us try to change the **idd** file. Eppy should not let you do this and should raise an exception."
     ]
    },
    {
     "cell_type": "code",
     "collapsed": false,
     "input": [
      "try:\n",
      "    IDF.setiddname(\"anotheridd.idd\")\n",
      "except Exception, e:\n",
      "    raise e   \n",
      "    "
     ],
     "language": "python",
     "metadata": {},
     "outputs": [
      {
       "ename": "IDDAlreadySetError",
       "evalue": "IDD file is set to: ../eppy/resources/iddfiles/Energy+V7_2_0.idd",
       "output_type": "pyerr",
       "traceback": [
        "\u001b[0;31m---------------------------------------------------------------------------\u001b[0m\n\u001b[0;31mIDDAlreadySetError\u001b[0m                        Traceback (most recent call last)",
        "\u001b[0;32m<ipython-input-16-52df819ac489>\u001b[0m in \u001b[0;36m<module>\u001b[0;34m()\u001b[0m\n\u001b[1;32m      2\u001b[0m     \u001b[0mIDF\u001b[0m\u001b[0;34m.\u001b[0m\u001b[0msetiddname\u001b[0m\u001b[0;34m(\u001b[0m\u001b[0;34m\"anotheridd.idd\"\u001b[0m\u001b[0;34m)\u001b[0m\u001b[0;34m\u001b[0m\u001b[0m\n\u001b[1;32m      3\u001b[0m \u001b[0;32mexcept\u001b[0m \u001b[0mException\u001b[0m\u001b[0;34m,\u001b[0m \u001b[0me\u001b[0m\u001b[0;34m:\u001b[0m\u001b[0;34m\u001b[0m\u001b[0m\n\u001b[0;32m----> 4\u001b[0;31m     \u001b[0;32mraise\u001b[0m \u001b[0me\u001b[0m\u001b[0;34m\u001b[0m\u001b[0m\n\u001b[0m\u001b[1;32m      5\u001b[0m \u001b[0;34m\u001b[0m\u001b[0m\n",
        "\u001b[0;31mIDDAlreadySetError\u001b[0m: IDD file is set to: ../eppy/resources/iddfiles/Energy+V7_2_0.idd"
       ]
      }
     ],
     "prompt_number": 16
    },
    {
     "cell_type": "markdown",
     "metadata": {},
     "source": [
      "Excellent!! It raised the exception we were expecting."
     ]
    },
    {
     "cell_type": "heading",
     "level": 2,
     "metadata": {},
     "source": [
      "Check range for fields"
     ]
    },
    {
     "cell_type": "markdown",
     "metadata": {},
     "source": [
      "The fields of idf objects often have a range of legal values. The following functions will let you discover what that range is and test if your value lies within that range"
     ]
    },
    {
     "cell_type": "markdown",
     "metadata": {},
     "source": [
      "demonstrate two new functions:\n",
      "\n",
      "- EpBunch.getrange(fieldname) # will return the ranges for that field\n",
      "- EpBunch.checkrange(fieldname) # will throw an exception if the value is outside the range"
     ]
    },
    {
     "cell_type": "code",
     "collapsed": false,
     "input": [
      "from eppy import modeleditor \n",
      "from eppy.modeleditor import IDF\n",
      "iddfile = \"../eppy/resources/iddfiles/Energy+V7_2_0.idd\"\n",
      "fname1 = \"../eppy/resources/idffiles/V_7_2/smallfile.idf\"\n"
     ],
     "language": "python",
     "metadata": {},
     "outputs": [],
     "prompt_number": 17
    },
    {
     "cell_type": "code",
     "collapsed": false,
     "input": [
      "# IDF.setiddname(iddfile)# idd ws set further up in this page\n",
      "idf1 = IDF(fname1)\n"
     ],
     "language": "python",
     "metadata": {},
     "outputs": [],
     "prompt_number": 18
    },
    {
     "cell_type": "code",
     "collapsed": false,
     "input": [
      "building = idf1.idfobjects['building'.upper()][0]\n",
      "print building\n"
     ],
     "language": "python",
     "metadata": {},
     "outputs": [
      {
       "output_type": "stream",
       "stream": "stdout",
       "text": [
        "\n",
        "BUILDING,                 \n",
        "    Empire State Building,    !- Name\n",
        "    30.0,                     !- North Axis\n",
        "    City,                     !- Terrain\n",
        "    0.04,                     !- Loads Convergence Tolerance Value\n",
        "    0.4,                      !- Temperature Convergence Tolerance Value\n",
        "    FullExterior,             !- Solar Distribution\n",
        "    25,                       !- Maximum Number of Warmup Days\n",
        "    6;                        !- Minimum Number of Warmup Days\n",
        "\n"
       ]
      }
     ],
     "prompt_number": 19
    },
    {
     "cell_type": "code",
     "collapsed": false,
     "input": [
      "print building.getrange(\"Loads_Convergence_Tolerance_Value\")\n"
     ],
     "language": "python",
     "metadata": {},
     "outputs": [
      {
       "output_type": "stream",
       "stream": "stdout",
       "text": [
        "{'maximum<': None, 'minimum': None, 'type': 'real', 'maximum': 0.5, 'minimum>': 0.0}\n"
       ]
      }
     ],
     "prompt_number": 20
    },
    {
     "cell_type": "code",
     "collapsed": false,
     "input": [
      "print building.checkrange(\"Loads_Convergence_Tolerance_Value\")\n"
     ],
     "language": "python",
     "metadata": {},
     "outputs": [
      {
       "output_type": "stream",
       "stream": "stdout",
       "text": [
        "0.04\n"
       ]
      }
     ],
     "prompt_number": 21
    },
    {
     "cell_type": "markdown",
     "metadata": {},
     "source": [
      "Let us set these values outside the range and see what happens"
     ]
    },
    {
     "cell_type": "code",
     "collapsed": false,
     "input": [
      "building.Loads_Convergence_Tolerance_Value = 0.6\n",
      "from eppy.bunch_subclass import RangeError\n",
      "try:\n",
      "    print building.checkrange(\"Loads_Convergence_Tolerance_Value\")\n",
      "except RangeError, e:\n",
      "    raise e\n",
      "    "
     ],
     "language": "python",
     "metadata": {},
     "outputs": [
      {
       "ename": "RangeError",
       "evalue": "Value 0.6 is not less or equal to the 'maximum' of 0.5",
       "output_type": "pyerr",
       "traceback": [
        "\u001b[0;31m---------------------------------------------------------------------------\u001b[0m\n\u001b[0;31mRangeError\u001b[0m                                Traceback (most recent call last)",
        "\u001b[0;32m<ipython-input-22-a824cb1ec673>\u001b[0m in \u001b[0;36m<module>\u001b[0;34m()\u001b[0m\n\u001b[1;32m      4\u001b[0m     \u001b[0;32mprint\u001b[0m \u001b[0mbuilding\u001b[0m\u001b[0;34m.\u001b[0m\u001b[0mcheckrange\u001b[0m\u001b[0;34m(\u001b[0m\u001b[0;34m\"Loads_Convergence_Tolerance_Value\"\u001b[0m\u001b[0;34m)\u001b[0m\u001b[0;34m\u001b[0m\u001b[0m\n\u001b[1;32m      5\u001b[0m \u001b[0;32mexcept\u001b[0m \u001b[0mRangeError\u001b[0m\u001b[0;34m,\u001b[0m \u001b[0me\u001b[0m\u001b[0;34m:\u001b[0m\u001b[0;34m\u001b[0m\u001b[0m\n\u001b[0;32m----> 6\u001b[0;31m     \u001b[0;32mraise\u001b[0m \u001b[0me\u001b[0m\u001b[0;34m\u001b[0m\u001b[0m\n\u001b[0m\u001b[1;32m      7\u001b[0m \u001b[0;34m\u001b[0m\u001b[0m\n",
        "\u001b[0;31mRangeError\u001b[0m: Value 0.6 is not less or equal to the 'maximum' of 0.5"
       ]
      }
     ],
     "prompt_number": 22
    },
    {
     "cell_type": "markdown",
     "metadata": {},
     "source": [
      "So the Range Check works"
     ]
    },
    {
     "cell_type": "heading",
     "level": 2,
     "metadata": {},
     "source": [
      "Looping through all the fields in an idf object"
     ]
    },
    {
     "cell_type": "markdown",
     "metadata": {},
     "source": [
      "We have seen how to check the range of field in the idf object. What if you want to do a *range check* on all the fields in an idf object ? To do this we will need a list of all the fields in the idf object. We can do this easily by the following line"
     ]
    },
    {
     "cell_type": "code",
     "collapsed": false,
     "input": [
      "print building.fieldnames\n"
     ],
     "language": "python",
     "metadata": {},
     "outputs": [
      {
       "output_type": "stream",
       "stream": "stdout",
       "text": [
        "['key', 'Name', 'North_Axis', 'Terrain', 'Loads_Convergence_Tolerance_Value', 'Temperature_Convergence_Tolerance_Value', 'Solar_Distribution', 'Maximum_Number_of_Warmup_Days', 'Minimum_Number_of_Warmup_Days']\n"
       ]
      }
     ],
     "prompt_number": 15
    },
    {
     "cell_type": "markdown",
     "metadata": {},
     "source": [
      "So let us use this"
     ]
    },
    {
     "cell_type": "code",
     "collapsed": false,
     "input": [
      "for fieldname in building.fieldnames:\n",
      "    print \"%s = %s\" % (fieldname, building[fieldname])\n",
      "    "
     ],
     "language": "python",
     "metadata": {},
     "outputs": [
      {
       "output_type": "stream",
       "stream": "stdout",
       "text": [
        "key = BUILDING\n",
        "Name = Empire State Building\n",
        "North_Axis = 30.0\n",
        "Terrain = City\n",
        "Loads_Convergence_Tolerance_Value = 0.6\n",
        "Temperature_Convergence_Tolerance_Value = 0.4\n",
        "Solar_Distribution = FullExterior\n",
        "Maximum_Number_of_Warmup_Days = 25\n",
        "Minimum_Number_of_Warmup_Days = 6\n"
       ]
      }
     ],
     "prompt_number": 16
    },
    {
     "cell_type": "markdown",
     "metadata": {},
     "source": [
      "Now let us test if the values are in the legal range. We know that \"Loads_Convergence_Tolerance_Value\" is out of range"
     ]
    },
    {
     "cell_type": "code",
     "collapsed": false,
     "input": [
      "from eppy.bunch_subclass import RangeError\n",
      "for fieldname in building.fieldnames:\n",
      "    try:\n",
      "        building.checkrange(fieldname)\n",
      "        print \"%s = %s #-in range\" % (fieldname, building[fieldname],)\n",
      "    except RangeError as e:\n",
      "        print \"%s = %s #-****OUT OF RANGE****\" % (fieldname, building[fieldname],)\n",
      "        "
     ],
     "language": "python",
     "metadata": {},
     "outputs": [
      {
       "output_type": "stream",
       "stream": "stdout",
       "text": [
        "key = BUILDING #-in range\n",
        "Name = Empire State Building #-in range\n",
        "North_Axis = 30.0 #-in range\n",
        "Terrain = City #-in range\n",
        "Loads_Convergence_Tolerance_Value = 0.6 #-****OUT OF RANGE****\n",
        "Temperature_Convergence_Tolerance_Value = 0.4 #-in range\n",
        "Solar_Distribution = FullExterior #-in range\n",
        "Maximum_Number_of_Warmup_Days = 25 #-in range\n",
        "Minimum_Number_of_Warmup_Days = 6 #-in range\n"
       ]
      }
     ],
     "prompt_number": 27
    },
    {
     "cell_type": "markdown",
     "metadata": {},
     "source": [
      "You see, we caught the out of range value"
     ]
    },
    {
     "cell_type": "heading",
     "level": 2,
     "metadata": {},
     "source": [
      "Blank idf file"
     ]
    },
    {
     "cell_type": "markdown",
     "metadata": {},
     "source": [
      "Until now in all our examples, we have been reading an idf file from disk:\n",
      "\n",
      "- How do I create a blank new idf file  \n",
      "- give it a file name\n",
      "- Save it to the disk\n",
      "\n",
      "Here are the steps to do that"
     ]
    },
    {
     "cell_type": "code",
     "collapsed": false,
     "input": [
      "# some initial steps\n",
      "from eppy.modeleditor import IDF\n",
      "iddfile = \"../eppy/resources/iddfiles/Energy+V7_2_0.idd\"\n",
      "# IDF.setiddname(iddfile) # Has already been set \n",
      "\n",
      "# - Let us first open a file from the disk\n",
      "fname1 = \"../eppy/resources/idffiles/V_7_2/smallfile.idf\"\n",
      "idf_fromfilename = IDF(fname1) # initialize the IDF object with the file name\n",
      "\n",
      "idf_fromfilename.printidf()\n"
     ],
     "language": "python",
     "metadata": {},
     "outputs": [
      {
       "output_type": "stream",
       "stream": "stdout",
       "text": [
        "\n",
        "VERSION,                  \n",
        "    7.3;                      !- Version Identifier\n",
        "\n",
        "SIMULATIONCONTROL,        \n",
        "    Yes,                      !- Do Zone Sizing Calculation\n",
        "    Yes,                      !- Do System Sizing Calculation\n",
        "    Yes,                      !- Do Plant Sizing Calculation\n",
        "    No,                       !- Run Simulation for Sizing Periods\n",
        "    Yes;                      !- Run Simulation for Weather File Run Periods\n",
        "\n",
        "BUILDING,                 \n",
        "    Empire State Building,    !- Name\n",
        "    30.0,                     !- North Axis\n",
        "    City,                     !- Terrain\n",
        "    0.04,                     !- Loads Convergence Tolerance Value\n",
        "    0.4,                      !- Temperature Convergence Tolerance Value\n",
        "    FullExterior,             !- Solar Distribution\n",
        "    25,                       !- Maximum Number of Warmup Days\n",
        "    6;                        !- Minimum Number of Warmup Days\n",
        "\n",
        "SITE:LOCATION,            \n",
        "    CHICAGO_IL_USA TMY2-94846,    !- Name\n",
        "    41.78,                    !- Latitude\n",
        "    -87.75,                   !- Longitude\n",
        "    -6.0,                     !- Time Zone\n",
        "    190.0;                    !- Elevation\n",
        "\n"
       ]
      }
     ],
     "prompt_number": 28
    },
    {
     "cell_type": "code",
     "collapsed": false,
     "input": [
      "# - now let us open a file from the disk differently\n",
      "fname1 = \"../eppy/resources/idffiles/V_7_2/smallfile.idf\"\n",
      "fhandle = open(fname1, 'r') # open the file for reading and assign it a file handle\n",
      "idf_fromfilehandle = IDF(fhandle) # initialize the IDF object with the file handle\n",
      "\n",
      "idf_fromfilehandle.printidf()\n"
     ],
     "language": "python",
     "metadata": {},
     "outputs": [
      {
       "output_type": "stream",
       "stream": "stdout",
       "text": [
        "\n",
        "VERSION,                  \n",
        "    7.3;                      !- Version Identifier\n",
        "\n",
        "SIMULATIONCONTROL,        \n",
        "    Yes,                      !- Do Zone Sizing Calculation\n",
        "    Yes,                      !- Do System Sizing Calculation\n",
        "    Yes,                      !- Do Plant Sizing Calculation\n",
        "    No,                       !- Run Simulation for Sizing Periods\n",
        "    Yes;                      !- Run Simulation for Weather File Run Periods\n",
        "\n",
        "BUILDING,                 \n",
        "    Empire State Building,    !- Name\n",
        "    30.0,                     !- North Axis\n",
        "    City,                     !- Terrain\n",
        "    0.04,                     !- Loads Convergence Tolerance Value\n",
        "    0.4,                      !- Temperature Convergence Tolerance Value\n",
        "    FullExterior,             !- Solar Distribution\n",
        "    25,                       !- Maximum Number of Warmup Days\n",
        "    6;                        !- Minimum Number of Warmup Days\n",
        "\n",
        "SITE:LOCATION,            \n",
        "    CHICAGO_IL_USA TMY2-94846,    !- Name\n",
        "    41.78,                    !- Latitude\n",
        "    -87.75,                   !- Longitude\n",
        "    -6.0,                     !- Time Zone\n",
        "    190.0;                    !- Elevation\n",
        "\n"
       ]
      }
     ],
     "prompt_number": 29
    },
    {
     "cell_type": "code",
     "collapsed": false,
     "input": [
      "# So IDF object can be initialized with either a file name or a file handle\n",
      "\n",
      "# - How do I create a blank new idf file  \n",
      "idftxt = \"\" # empty string\n",
      "from StringIO import StringIO\n",
      "fhandle = StringIO(idftxt) # we can make a file handle of a string\n",
      "idf_emptyfile = IDF(fhandle) # initialize the IDF object with the file handle\n",
      "\n",
      "idf_emptyfile.printidf()\n"
     ],
     "language": "python",
     "metadata": {},
     "outputs": [
      {
       "output_type": "stream",
       "stream": "stdout",
       "text": [
        "\n"
       ]
      }
     ],
     "prompt_number": 30
    },
    {
     "cell_type": "markdown",
     "metadata": {},
     "source": [
      "It did not print anything. Why should it. It was empty. \n",
      "\n",
      "What if we give it a string that was not blank"
     ]
    },
    {
     "cell_type": "code",
     "collapsed": false,
     "input": [
      "# - The string does not have to be blank\n",
      "idftxt = \"VERSION, 7.3;\" # Not an emplty string. has just the version number\n",
      "fhandle = StringIO(idftxt) # we can make a file handle of a string\n",
      "idf_notemptyfile = IDF(fhandle) # initialize the IDF object with the file handle\n",
      "\n",
      "idf_notemptyfile.printidf()\n"
     ],
     "language": "python",
     "metadata": {},
     "outputs": [
      {
       "output_type": "stream",
       "stream": "stdout",
       "text": [
        "\n",
        "VERSION,                  \n",
        "    7.3;                      !- Version Identifier\n",
        "\n"
       ]
      }
     ],
     "prompt_number": 31
    },
    {
     "cell_type": "markdown",
     "metadata": {},
     "source": [
      "Aha !\n",
      "\n",
      "Now let us give it a file name"
     ]
    },
    {
     "cell_type": "code",
     "collapsed": false,
     "input": [
      "# - give it a file name\n",
      "idf_notemptyfile.idfname = \"notemptyfile.idf\"\n",
      "# - Save it to the disk\n",
      "idf_notemptyfile.save()\n"
     ],
     "language": "python",
     "metadata": {},
     "outputs": [],
     "prompt_number": 32
    },
    {
     "cell_type": "markdown",
     "metadata": {},
     "source": [
      "Let us confirm that the file was saved to disk"
     ]
    },
    {
     "cell_type": "code",
     "collapsed": false,
     "input": [
      "txt = open(\"notemptyfile.idf\", 'r').read()# read the file from the disk\n",
      "print txt\n"
     ],
     "language": "python",
     "metadata": {},
     "outputs": [
      {
       "output_type": "stream",
       "stream": "stdout",
       "text": [
        "\n",
        "VERSION,                  \n",
        "    7.3;                      !- Version Identifier\n",
        "\n"
       ]
      }
     ],
     "prompt_number": 33
    },
    {
     "cell_type": "markdown",
     "metadata": {},
     "source": [
      "Yup ! that file was saved. Let us delete it since we were just playing"
     ]
    },
    {
     "cell_type": "code",
     "collapsed": false,
     "input": [
      "import os\n",
      "os.remove(\"notemptyfile.idf\")\n"
     ],
     "language": "python",
     "metadata": {},
     "outputs": [],
     "prompt_number": 34
    },
    {
     "cell_type": "heading",
     "level": 2,
     "metadata": {},
     "source": [
      "Deleting, copying/adding and making new idfobjects"
     ]
    },
    {
     "cell_type": "heading",
     "level": 3,
     "metadata": {},
     "source": [
      "Making a new idf object"
     ]
    },
    {
     "cell_type": "markdown",
     "metadata": {},
     "source": [
      "Let us start with a blank idf file and make some new \"MATERIAL\" objects in it"
     ]
    },
    {
     "cell_type": "code",
     "collapsed": false,
     "input": [
      "# making a blank idf object\n",
      "blankstr = \"\"\n",
      "from StringIO import StringIO\n",
      "idf = IDF(StringIO(blankstr))\n"
     ],
     "language": "python",
     "metadata": {},
     "outputs": [],
     "prompt_number": 19
    },
    {
     "cell_type": "markdown",
     "metadata": {},
     "source": [
      "To make and add a new idfobject object, we use the function IDF.newidfobject(). We want to make an object of type \"MATERIAL\""
     ]
    },
    {
     "cell_type": "code",
     "collapsed": false,
     "input": [
      "newobject = idf.newidfobject(\"material\".upper()) # the key for the object type has to be in upper case\n",
      "                                     # .upper() makes it upper case\n",
      "    "
     ],
     "language": "python",
     "metadata": {},
     "outputs": [],
     "prompt_number": 20
    },
    {
     "cell_type": "code",
     "collapsed": false,
     "input": [
      "print newobject\n"
     ],
     "language": "python",
     "metadata": {},
     "outputs": [
      {
       "output_type": "stream",
       "stream": "stdout",
       "text": [
        "\n",
        "MATERIAL,                 \n",
        "    ,                         !- Name\n",
        "    ,                         !- Roughness\n",
        "    ,                         !- Thickness\n",
        "    ,                         !- Conductivity\n",
        "    ,                         !- Density\n",
        "    ,                         !- Specific Heat\n",
        "    0.9,                      !- Thermal Absorptance\n",
        "    0.7,                      !- Solar Absorptance\n",
        "    0.7;                      !- Visible Absorptance\n",
        "\n"
       ]
      }
     ],
     "prompt_number": 21
    },
    {
     "cell_type": "markdown",
     "metadata": {},
     "source": [
      "Let us give this a name, say \"Shiny new material object\""
     ]
    },
    {
     "cell_type": "code",
     "collapsed": false,
     "input": [
      "newobject.Name = \"Shiny new material object\"\n",
      "print newobject\n"
     ],
     "language": "python",
     "metadata": {},
     "outputs": [
      {
       "output_type": "stream",
       "stream": "stdout",
       "text": [
        "\n",
        "MATERIAL,                 \n",
        "    Shiny new material object,    !- Name\n",
        "    ,                         !- Roughness\n",
        "    ,                         !- Thickness\n",
        "    ,                         !- Conductivity\n",
        "    ,                         !- Density\n",
        "    ,                         !- Specific Heat\n",
        "    0.9,                      !- Thermal Absorptance\n",
        "    0.7,                      !- Solar Absorptance\n",
        "    0.7;                      !- Visible Absorptance\n",
        "\n"
       ]
      }
     ],
     "prompt_number": 22
    },
    {
     "cell_type": "code",
     "collapsed": false,
     "input": [
      "anothermaterial = idf.newidfobject(\"material\".upper())\n",
      "anothermaterial.Name = \"Lousy material\"\n",
      "thirdmaterial = idf.newidfobject(\"material\".upper())\n",
      "thirdmaterial.Name = \"third material\"\n",
      "print thirdmaterial\n"
     ],
     "language": "python",
     "metadata": {},
     "outputs": [
      {
       "output_type": "stream",
       "stream": "stdout",
       "text": [
        "\n",
        "MATERIAL,                 \n",
        "    third material,           !- Name\n",
        "    ,                         !- Roughness\n",
        "    ,                         !- Thickness\n",
        "    ,                         !- Conductivity\n",
        "    ,                         !- Density\n",
        "    ,                         !- Specific Heat\n",
        "    0.9,                      !- Thermal Absorptance\n",
        "    0.7,                      !- Solar Absorptance\n",
        "    0.7;                      !- Visible Absorptance\n",
        "\n"
       ]
      }
     ],
     "prompt_number": 23
    },
    {
     "cell_type": "markdown",
     "metadata": {},
     "source": [
      "Let us look at all the \"MATERIAL\" objects"
     ]
    },
    {
     "cell_type": "code",
     "collapsed": false,
     "input": [
      "print idf.idfobjects[\"MATERIAL\"]\n"
     ],
     "language": "python",
     "metadata": {},
     "outputs": [
      {
       "output_type": "stream",
       "stream": "stdout",
       "text": [
        "[\n",
        "MATERIAL,                 \n",
        "    Shiny new material object,    !- Name\n",
        "    ,                         !- Roughness\n",
        "    ,                         !- Thickness\n",
        "    ,                         !- Conductivity\n",
        "    ,                         !- Density\n",
        "    ,                         !- Specific Heat\n",
        "    0.9,                      !- Thermal Absorptance\n",
        "    0.7,                      !- Solar Absorptance\n",
        "    0.7;                      !- Visible Absorptance\n",
        ", \n",
        "MATERIAL,                 \n",
        "    Lousy material,           !- Name\n",
        "    ,                         !- Roughness\n",
        "    ,                         !- Thickness\n",
        "    ,                         !- Conductivity\n",
        "    ,                         !- Density\n",
        "    ,                         !- Specific Heat\n",
        "    0.9,                      !- Thermal Absorptance\n",
        "    0.7,                      !- Solar Absorptance\n",
        "    0.7;                      !- Visible Absorptance\n",
        ", \n",
        "MATERIAL,                 \n",
        "    third material,           !- Name\n",
        "    ,                         !- Roughness\n",
        "    ,                         !- Thickness\n",
        "    ,                         !- Conductivity\n",
        "    ,                         !- Density\n",
        "    ,                         !- Specific Heat\n",
        "    0.9,                      !- Thermal Absorptance\n",
        "    0.7,                      !- Solar Absorptance\n",
        "    0.7;                      !- Visible Absorptance\n",
        "]\n"
       ]
      }
     ],
     "prompt_number": 24
    },
    {
     "cell_type": "markdown",
     "metadata": {},
     "source": [
      "As we can see there are three MATERIAL idfobjects. They are:\n",
      "\n",
      "1. Shiny new material object\n",
      "2. Lousy material\n",
      "3. third material"
     ]
    },
    {
     "cell_type": "heading",
     "level": 3,
     "metadata": {},
     "source": [
      "Deleting an idf object"
     ]
    },
    {
     "cell_type": "markdown",
     "metadata": {},
     "source": [
      "Let us remove 2. Lousy material. It is the second material in the list. So let us remove the second material"
     ]
    },
    {
     "cell_type": "code",
     "collapsed": false,
     "input": [
      "idf.popidfobject('MATERIAL', 1) # first material is '0', second is '1'\n"
     ],
     "language": "python",
     "metadata": {},
     "outputs": [],
     "prompt_number": 25
    },
    {
     "cell_type": "code",
     "collapsed": false,
     "input": [
      "print idf.idfobjects['MATERIAL']\n"
     ],
     "language": "python",
     "metadata": {},
     "outputs": [
      {
       "output_type": "stream",
       "stream": "stdout",
       "text": [
        "[\n",
        "MATERIAL,                 \n",
        "    Shiny new material object,    !- Name\n",
        "    ,                         !- Roughness\n",
        "    ,                         !- Thickness\n",
        "    ,                         !- Conductivity\n",
        "    ,                         !- Density\n",
        "    ,                         !- Specific Heat\n",
        "    0.9,                      !- Thermal Absorptance\n",
        "    0.7,                      !- Solar Absorptance\n",
        "    0.7;                      !- Visible Absorptance\n",
        ", \n",
        "MATERIAL,                 \n",
        "    third material,           !- Name\n",
        "    ,                         !- Roughness\n",
        "    ,                         !- Thickness\n",
        "    ,                         !- Conductivity\n",
        "    ,                         !- Density\n",
        "    ,                         !- Specific Heat\n",
        "    0.9,                      !- Thermal Absorptance\n",
        "    0.7,                      !- Solar Absorptance\n",
        "    0.7;                      !- Visible Absorptance\n",
        "]\n"
       ]
      }
     ],
     "prompt_number": 26
    },
    {
     "cell_type": "markdown",
     "metadata": {},
     "source": [
      "You can see that the second material is gone ! Now let us remove the first material, but do it using a different function"
     ]
    },
    {
     "cell_type": "code",
     "collapsed": false,
     "input": [
      "firstmaterial = idf.idfobjects['MATERIAL'][-1]\n"
     ],
     "language": "python",
     "metadata": {},
     "outputs": [],
     "prompt_number": 27
    },
    {
     "cell_type": "code",
     "collapsed": false,
     "input": [
      "idf.removeidfobject(firstmaterial)\n"
     ],
     "language": "python",
     "metadata": {},
     "outputs": [],
     "prompt_number": 28
    },
    {
     "cell_type": "code",
     "collapsed": false,
     "input": [
      "print idf.idfobjects['MATERIAL']\n"
     ],
     "language": "python",
     "metadata": {},
     "outputs": [
      {
       "output_type": "stream",
       "stream": "stdout",
       "text": [
        "[\n",
        "MATERIAL,                 \n",
        "    Shiny new material object,    !- Name\n",
        "    ,                         !- Roughness\n",
        "    ,                         !- Thickness\n",
        "    ,                         !- Conductivity\n",
        "    ,                         !- Density\n",
        "    ,                         !- Specific Heat\n",
        "    0.9,                      !- Thermal Absorptance\n",
        "    0.7,                      !- Solar Absorptance\n",
        "    0.7;                      !- Visible Absorptance\n",
        "]\n"
       ]
      }
     ],
     "prompt_number": 29
    },
    {
     "cell_type": "markdown",
     "metadata": {},
     "source": [
      "So we have two ways of deleting an idf object:\n",
      "\n",
      "1. popidfobject -> give it the idf key: \"MATERIAL\", and the index number\n",
      "2. removeidfobject -> give it the idf object to be deleted"
     ]
    },
    {
     "cell_type": "heading",
     "level": 3,
     "metadata": {},
     "source": [
      "Copying/Adding an idf object"
     ]
    },
    {
     "cell_type": "markdown",
     "metadata": {},
     "source": [
      "Having deleted two \"MATERIAL\" objects, we have only one left. Let us make a copy of this object and add it to our idf file"
     ]
    },
    {
     "cell_type": "code",
     "collapsed": false,
     "input": [
      "onlymaterial = idf.idfobjects[\"MATERIAL\"][0]"
     ],
     "language": "python",
     "metadata": {},
     "outputs": [],
     "prompt_number": 30
    },
    {
     "cell_type": "code",
     "collapsed": false,
     "input": [
      "idf.copyidfobject(onlymaterial)"
     ],
     "language": "python",
     "metadata": {},
     "outputs": [],
     "prompt_number": 31
    },
    {
     "cell_type": "code",
     "collapsed": false,
     "input": [
      "print idf.idfobjects[\"MATERIAL\"]"
     ],
     "language": "python",
     "metadata": {},
     "outputs": [
      {
       "output_type": "stream",
       "stream": "stdout",
       "text": [
        "[\n",
        "MATERIAL,                 \n",
        "    Shiny new material object,    !- Name\n",
        "    ,                         !- Roughness\n",
        "    ,                         !- Thickness\n",
        "    ,                         !- Conductivity\n",
        "    ,                         !- Density\n",
        "    ,                         !- Specific Heat\n",
        "    0.9,                      !- Thermal Absorptance\n",
        "    0.7,                      !- Solar Absorptance\n",
        "    0.7;                      !- Visible Absorptance\n",
        ", \n",
        "MATERIAL,                 \n",
        "    Shiny new material object,    !- Name\n",
        "    ,                         !- Roughness\n",
        "    ,                         !- Thickness\n",
        "    ,                         !- Conductivity\n",
        "    ,                         !- Density\n",
        "    ,                         !- Specific Heat\n",
        "    0.9,                      !- Thermal Absorptance\n",
        "    0.7,                      !- Solar Absorptance\n",
        "    0.7;                      !- Visible Absorptance\n",
        "]\n"
       ]
      }
     ],
     "prompt_number": 32
    },
    {
     "cell_type": "markdown",
     "metadata": {},
     "source": [
      "So now we have a copy of the material. You can use this method to copy idf objects from other idf files too."
     ]
    },
    {
     "cell_type": "heading",
     "level": 2,
     "metadata": {},
     "source": [
      "Making an idf object with named arguments"
     ]
    },
    {
     "cell_type": "markdown",
     "metadata": {},
     "source": [
      "What if we wanted to make an idf object with values for it's fields? We can do that too."
     ]
    },
    {
     "cell_type": "heading",
     "level": 2,
     "metadata": {},
     "source": [
      "Renaming an idf object"
     ]
    },
    {
     "cell_type": "code",
     "collapsed": false,
     "input": [
      "gypboard = idf.newidfobject('MATERIAL', Name=\"G01a 19mm gypsum board\",\n",
      "                            Roughness=\"MediumSmooth\",\n",
      "                            Thickness=0.019,\n",
      "                            Conductivity=0.16,\n",
      "                            Density=800,\n",
      "                            Specific_Heat=1090)"
     ],
     "language": "python",
     "metadata": {},
     "outputs": [],
     "prompt_number": 33
    },
    {
     "cell_type": "code",
     "collapsed": false,
     "input": [
      "print gypboard"
     ],
     "language": "python",
     "metadata": {},
     "outputs": [
      {
       "output_type": "stream",
       "stream": "stdout",
       "text": [
        "\n",
        "MATERIAL,                 \n",
        "    G01a 19mm gypsum board,    !- Name\n",
        "    MediumSmooth,             !- Roughness\n",
        "    0.019,                    !- Thickness\n",
        "    0.16,                     !- Conductivity\n",
        "    800,                      !- Density\n",
        "    1090,                     !- Specific Heat\n",
        "    0.9,                      !- Thermal Absorptance\n",
        "    0.7,                      !- Solar Absorptance\n",
        "    0.7;                      !- Visible Absorptance\n",
        "\n"
       ]
      }
     ],
     "prompt_number": 34
    },
    {
     "cell_type": "markdown",
     "metadata": {},
     "source": [
      "newidfobject() also fills in the default values like \"Thermal Absorptance\", \"Solar Absorptance\", etc."
     ]
    },
    {
     "cell_type": "code",
     "collapsed": false,
     "input": [
      "print idf.idfobjects[\"MATERIAL\"]"
     ],
     "language": "python",
     "metadata": {},
     "outputs": [
      {
       "output_type": "stream",
       "stream": "stdout",
       "text": [
        "[\n",
        "Material,                 \n",
        "    F08 Metal surface,        !- Name\n",
        "    Smooth,                   !- Roughness\n",
        "    0.0008,                   !- Thickness\n",
        "    45.28,                    !- Conductivity\n",
        "    7824.0,                   !- Density\n",
        "    500.0;                    !- Specific Heat\n",
        ", \n",
        "Material,                 \n",
        "    I01 25mm insulation board,    !- Name\n",
        "    MediumRough,              !- Roughness\n",
        "    0.0254,                   !- Thickness\n",
        "    0.03,                     !- Conductivity\n",
        "    43.0,                     !- Density\n",
        "    1210.0;                   !- Specific Heat\n",
        ", \n",
        "Material,                 \n",
        "    I02 50mm insulation board,    !- Name\n",
        "    MediumRough,              !- Roughness\n",
        "    0.0508,                   !- Thickness\n",
        "    0.03,                     !- Conductivity\n",
        "    43.0,                     !- Density\n",
        "    1210.0;                   !- Specific Heat\n",
        ", \n",
        "Material,                 \n",
        "    G01a 19mm gypsum board,    !- Name\n",
        "    MediumSmooth,             !- Roughness\n",
        "    0.019,                    !- Thickness\n",
        "    0.16,                     !- Conductivity\n",
        "    800.0,                    !- Density\n",
        "    1090.0;                   !- Specific Heat\n",
        ", \n",
        "Material,                 \n",
        "    M11 100mm lightweight concrete,    !- Name\n",
        "    MediumRough,              !- Roughness\n",
        "    0.1016,                   !- Thickness\n",
        "    0.53,                     !- Conductivity\n",
        "    1280.0,                   !- Density\n",
        "    840.0;                    !- Specific Heat\n",
        ", \n",
        "Material,                 \n",
        "    F16 Acoustic tile,        !- Name\n",
        "    MediumSmooth,             !- Roughness\n",
        "    0.0191,                   !- Thickness\n",
        "    0.06,                     !- Conductivity\n",
        "    368.0,                    !- Density\n",
        "    590.0;                    !- Specific Heat\n",
        ", \n",
        "Material,                 \n",
        "    M01 100mm brick,          !- Name\n",
        "    MediumRough,              !- Roughness\n",
        "    0.1016,                   !- Thickness\n",
        "    0.89,                     !- Conductivity\n",
        "    1920.0,                   !- Density\n",
        "    790.0;                    !- Specific Heat\n",
        ", \n",
        "Material,                 \n",
        "    M15 200mm heavyweight concrete,    !- Name\n",
        "    MediumRough,              !- Roughness\n",
        "    0.2032,                   !- Thickness\n",
        "    1.95,                     !- Conductivity\n",
        "    2240.0,                   !- Density\n",
        "    900.0;                    !- Specific Heat\n",
        ", \n",
        "Material,                 \n",
        "    M05 200mm concrete block,    !- Name\n",
        "    MediumRough,              !- Roughness\n",
        "    0.2032,                   !- Thickness\n",
        "    1.11,                     !- Conductivity\n",
        "    800.0,                    !- Density\n",
        "    920.0;                    !- Specific Heat\n",
        ", \n",
        "Material,                 \n",
        "    G05 25mm wood,            !- Name\n",
        "    MediumSmooth,             !- Roughness\n",
        "    0.0254,                   !- Thickness\n",
        "    0.15,                     !- Conductivity\n",
        "    608.0,                    !- Density\n",
        "    1630.0;                   !- Specific Heat\n",
        "]\n"
       ]
      }
     ],
     "prompt_number": 23
    },
    {
     "cell_type": "heading",
     "level": 2,
     "metadata": {},
     "source": [
      "Renaming an idf object"
     ]
    },
    {
     "cell_type": "markdown",
     "metadata": {},
     "source": [
      "It is easy to rename an idf object. If we want to rename the gypboard object that we created above, we simply say:\n"
     ]
    },
    {
     "cell_type": "raw",
     "metadata": {},
     "source": [
      "    gypboard.Name = \"a new name\".\n"
     ]
    },
    {
     "cell_type": "markdown",
     "metadata": {},
     "source": [
      "But this could create a problem. What if this gypboard is part of a \"CONSTRUCTION\" object. The construction object will refer to the gypboard by name. If we change the name of the gypboard, we should change it in the construction object. \n",
      "\n",
      "But there may be many constructions objects using the gypboard. Now we will have to change it in all those construction objects. Sounds painfull. \n",
      "\n",
      "Let us try this with an example:"
     ]
    },
    {
     "cell_type": "code",
     "collapsed": false,
     "input": [
      "interiorwall = idf.newidfobject(\"CONSTRUCTION\", Name=\"Interior Wall\",\n",
      "                 Outside_Layer=\"G01a 19mm gypsum board\",\n",
      "                 Layer_2=\"Shiny new material object\",\n",
      "                 Layer_3=\"G01a 19mm gypsum board\")\n",
      "print interiorwall\n"
     ],
     "language": "python",
     "metadata": {},
     "outputs": [
      {
       "output_type": "stream",
       "stream": "stdout",
       "text": [
        "\n",
        "CONSTRUCTION,             \n",
        "    Interior Wall,            !- Name\n",
        "    G01a 19mm gypsum board,    !- Outside Layer\n",
        "    Shiny new material object,    !- Layer 2\n",
        "    G01a 19mm gypsum board;    !- Layer 3\n",
        "\n"
       ]
      }
     ],
     "prompt_number": 24
    },
    {
     "cell_type": "markdown",
     "metadata": {},
     "source": [
      "to rename gypboard and have that name change in all the places we call modeleditor.rename(idf, key, oldname, newname)"
     ]
    },
    {
     "cell_type": "code",
     "collapsed": false,
     "input": [
      "modeleditor.rename(idf, \"MATERIAL\", \"G01a 19mm gypsum board\", \"peanut butter\")"
     ],
     "language": "python",
     "metadata": {},
     "outputs": [
      {
       "metadata": {},
       "output_type": "pyout",
       "prompt_number": 25,
       "text": [
        "\n",
        "Material,                 \n",
        "    peanut butter,            !- Name\n",
        "    MediumSmooth,             !- Roughness\n",
        "    0.019,                    !- Thickness\n",
        "    0.16,                     !- Conductivity\n",
        "    800.0,                    !- Density\n",
        "    1090.0;                   !- Specific Heat\n"
       ]
      }
     ],
     "prompt_number": 25
    },
    {
     "cell_type": "code",
     "collapsed": false,
     "input": [
      "print interiorwall"
     ],
     "language": "python",
     "metadata": {},
     "outputs": [
      {
       "output_type": "stream",
       "stream": "stdout",
       "text": [
        "\n",
        "CONSTRUCTION,             \n",
        "    Interior Wall,            !- Name\n",
        "    peanut butter,            !- Outside Layer\n",
        "    Shiny new material object,    !- Layer 2\n",
        "    peanut butter;            !- Layer 3\n",
        "\n"
       ]
      }
     ],
     "prompt_number": 26
    },
    {
     "cell_type": "markdown",
     "metadata": {},
     "source": [
      "Now we have \"peanut butter\" everywhere. At least where we need it. Let us look at the entir idf file, just to be sure"
     ]
    },
    {
     "cell_type": "code",
     "collapsed": false,
     "input": [
      "idf.printidf()"
     ],
     "language": "python",
     "metadata": {},
     "outputs": [
      {
       "output_type": "stream",
       "stream": "stdout",
       "text": [
        "\n",
        "Version,                  \n",
        "    7.2;                      !- Version Identifier\n",
        "\n",
        "SimulationControl,        \n",
        "    No,                       !- Do Zone Sizing Calculation\n",
        "    No,                       !- Do System Sizing Calculation\n",
        "    No,                       !- Do Plant Sizing Calculation\n",
        "    Yes,                      !- Run Simulation for Sizing Periods\n",
        "    Yes;                      !- Run Simulation for Weather File Run Periods\n",
        "\n",
        "Building,                 \n",
        "    Untitled,                 !- Name\n",
        "    0.0,                      !- North Axis\n",
        "    City,                     !- Terrain\n",
        "    0.04,                     !- Loads Convergence Tolerance Value\n",
        "    0.4,                      !- Temperature Convergence Tolerance Value\n",
        "    FullInteriorAndExterior,    !- Solar Distribution\n",
        "    25,                       !- Maximum Number of Warmup Days\n",
        "    ;                         !- Minimum Number of Warmup Days\n",
        "\n",
        "Timestep,                 \n",
        "    4;                        !- Number of Timesteps per Hour\n",
        "\n",
        "Site:Location,            \n",
        "    CHICAGO_IL_USA TMY2-94846,    !- Name\n",
        "    41.78,                    !- Latitude\n",
        "    -87.75,                   !- Longitude\n",
        "    -6.0,                     !- Time Zone\n",
        "    190.0;                    !- Elevation\n",
        "\n",
        "RunPeriodControl:SpecialDays,\n",
        "    New Years Day,            !- Name\n",
        "    January 1,                !- Start Date\n",
        "    1,                        !- Duration\n",
        "    Holiday;                  !- Special Day Type\n",
        "\n",
        "RunPeriodControl:SpecialDays,\n",
        "    Veterans Day,             !- Name\n",
        "    November 11,              !- Start Date\n",
        "    1,                        !- Duration\n",
        "    Holiday;                  !- Special Day Type\n",
        "\n",
        "RunPeriodControl:SpecialDays,\n",
        "    Christmas,                !- Name\n",
        "    December 25,              !- Start Date\n",
        "    1,                        !- Duration\n",
        "    Holiday;                  !- Special Day Type\n",
        "\n",
        "RunPeriodControl:SpecialDays,\n",
        "    Independence Day,         !- Name\n",
        "    July 4,                   !- Start Date\n",
        "    1,                        !- Duration\n",
        "    Holiday;                  !- Special Day Type\n",
        "\n",
        "RunPeriodControl:SpecialDays,\n",
        "    MLK Day,                  !- Name\n",
        "    3rd Monday in January,    !- Start Date\n",
        "    1,                        !- Duration\n",
        "    Holiday;                  !- Special Day Type\n",
        "\n",
        "RunPeriodControl:SpecialDays,\n",
        "    Presidents Day,           !- Name\n",
        "    3rd Monday in February,    !- Start Date\n",
        "    1,                        !- Duration\n",
        "    Holiday;                  !- Special Day Type\n",
        "\n",
        "RunPeriodControl:SpecialDays,\n",
        "    Memorial Day,             !- Name\n",
        "    Last Monday in May,       !- Start Date\n",
        "    1,                        !- Duration\n",
        "    Holiday;                  !- Special Day Type\n",
        "\n",
        "RunPeriodControl:SpecialDays,\n",
        "    Labor Day,                !- Name\n",
        "    1st Monday in September,    !- Start Date\n",
        "    1,                        !- Duration\n",
        "    Holiday;                  !- Special Day Type\n",
        "\n",
        "RunPeriodControl:SpecialDays,\n",
        "    Columbus Day,             !- Name\n",
        "    2nd Monday in October,    !- Start Date\n",
        "    1,                        !- Duration\n",
        "    Holiday;                  !- Special Day Type\n",
        "\n",
        "RunPeriodControl:SpecialDays,\n",
        "    Thanksgiving,             !- Name\n",
        "    4th Thursday in November,    !- Start Date\n",
        "    1,                        !- Duration\n",
        "    Holiday;                  !- Special Day Type\n",
        "\n",
        "RunPeriodControl:DaylightSavingTime,\n",
        "    2nd Sunday in March,      !- Start Date\n",
        "    1st Sunday in November;    !- End Date\n",
        "\n",
        "ScheduleTypeLimits,       \n",
        "    Any Number;               !- Name\n",
        "\n",
        "ScheduleTypeLimits,       \n",
        "    Fraction,                 !- Name\n",
        "    0.0,                      !- Lower Limit Value\n",
        "    1.0,                      !- Upper Limit Value\n",
        "    CONTINUOUS;               !- Numeric Type\n",
        "\n",
        "ScheduleTypeLimits,       \n",
        "    Temperature,              !- Name\n",
        "    -60,                      !- Lower Limit Value\n",
        "    200,                      !- Upper Limit Value\n",
        "    CONTINUOUS;               !- Numeric Type\n",
        "\n",
        "ScheduleTypeLimits,       \n",
        "    On/Off,                   !- Name\n",
        "    0,                        !- Lower Limit Value\n",
        "    1,                        !- Upper Limit Value\n",
        "    DISCRETE;                 !- Numeric Type\n",
        "\n",
        "ScheduleTypeLimits,       \n",
        "    Control Type,             !- Name\n",
        "    0,                        !- Lower Limit Value\n",
        "    4,                        !- Upper Limit Value\n",
        "    DISCRETE;                 !- Numeric Type\n",
        "\n",
        "ScheduleTypeLimits,       \n",
        "    Humidity,                 !- Name\n",
        "    10,                       !- Lower Limit Value\n",
        "    90,                       !- Upper Limit Value\n",
        "    CONTINUOUS;               !- Numeric Type\n",
        "\n",
        "ScheduleTypeLimits,       \n",
        "    Number;                   !- Name\n",
        "\n",
        "Schedule:Compact,         \n",
        "    Office Lights Schedule,    !- Name\n",
        "    Fraction,                 !- Schedule Type Limits Name\n",
        "    Through: 12/31,           !- Field 1\n",
        "    For: Weekdays,            !- Field 2\n",
        "    Until: 05:00,             !- Field 3\n",
        "    0.05,                     !- Field 4\n",
        "    Until: 07:00,             !- Field 5\n",
        "    0.1,                      !- Field 6\n",
        "    Until: 08:00,             !- Field 7\n",
        "    0.3,                      !- Field 8\n",
        "    Until: 17:00,             !- Field 9\n",
        "    0.9,                      !- Field 10\n",
        "    Until: 18:00,             !- Field 11\n",
        "    0.5,                      !- Field 12\n",
        "    Until: 20:00,             !- Field 13\n",
        "    0.3,                      !- Field 14\n",
        "    Until: 22:00,             !- Field 15\n",
        "    0.2,                      !- Field 16\n",
        "    Until: 23:00,             !- Field 17\n",
        "    0.1,                      !- Field 18\n",
        "    Until: 24:00,             !- Field 19\n",
        "    0.05,                     !- Field 20\n",
        "    For: SummerDesignDay,     !- Field 21\n",
        "    Until: 24:00,             !- Field 22\n",
        "    1.0,                      !- Field 23\n",
        "    For: Saturday,            !- Field 24\n",
        "    Until: 06:00,             !- Field 25\n",
        "    0.05,                     !- Field 26\n",
        "    Until: 08:00,             !- Field 27\n",
        "    0.1,                      !- Field 28\n",
        "    Until: 12:00,             !- Field 29\n",
        "    0.3,                      !- Field 30\n",
        "    Until: 17:00,             !- Field 31\n",
        "    0.15,                     !- Field 32\n",
        "    Until: 24:00,             !- Field 33\n",
        "    0.05,                     !- Field 34\n",
        "    For: WinterDesignDay,     !- Field 35\n",
        "    Until: 24:00,             !- Field 36\n",
        "    0.0,                      !- Field 37\n",
        "    For: Sunday Holidays AllOtherDays,    !- Field 38\n",
        "    Until: 24:00,             !- Field 39\n",
        "    0.05;                     !- Field 40\n",
        "\n",
        "Schedule:Compact,         \n",
        "    Office Equipment Schedule,    !- Name\n",
        "    Fraction,                 !- Schedule Type Limits Name\n",
        "    Through: 12/31,           !- Field 1\n",
        "    For: Weekdays,            !- Field 2\n",
        "    Until: 08:00,             !- Field 3\n",
        "    0.40,                     !- Field 4\n",
        "    Until: 12:00,             !- Field 5\n",
        "    0.90,                     !- Field 6\n",
        "    Until: 13:00,             !- Field 7\n",
        "    0.80,                     !- Field 8\n",
        "    Until: 17:00,             !- Field 9\n",
        "    0.90,                     !- Field 10\n",
        "    Until: 18:00,             !- Field 11\n",
        "    0.50,                     !- Field 12\n",
        "    Until: 24:00,             !- Field 13\n",
        "    0.40,                     !- Field 14\n",
        "    For: SummerDesignDay,     !- Field 15\n",
        "    Until: 24:00,             !- Field 16\n",
        "    1.0,                      !- Field 17\n",
        "    For: Saturday,            !- Field 18\n",
        "    Until: 06:00,             !- Field 19\n",
        "    0.30,                     !- Field 20\n",
        "    Until: 08:00,             !- Field 21\n",
        "    0.4,                      !- Field 22\n",
        "    Until: 12:00,             !- Field 23\n",
        "    0.5,                      !- Field 24\n",
        "    Until: 17:00,             !- Field 25\n",
        "    0.35,                     !- Field 26\n",
        "    Until: 24:00,             !- Field 27\n",
        "    0.30,                     !- Field 28\n",
        "    For: WinterDesignDay,     !- Field 29\n",
        "    Until: 24:00,             !- Field 30\n",
        "    0.0,                      !- Field 31\n",
        "    For: Sunday Holidays AllOtherDays,    !- Field 32\n",
        "    Until: 24:00,             !- Field 33\n",
        "    0.30;                     !- Field 34\n",
        "\n",
        "Schedule:Compact,         \n",
        "    Office Occupancy Schedule,    !- Name\n",
        "    Fraction,                 !- Schedule Type Limits Name\n",
        "    Through: 12/31,           !- Field 1\n",
        "    For: Weekdays,            !- Field 2\n",
        "    Until: 06:00,             !- Field 3\n",
        "    0.0,                      !- Field 4\n",
        "    Until: 07:00,             !- Field 5\n",
        "    0.1,                      !- Field 6\n",
        "    Until: 08:00,             !- Field 7\n",
        "    0.2,                      !- Field 8\n",
        "    Until: 12:00,             !- Field 9\n",
        "    0.95,                     !- Field 10\n",
        "    Until: 13:00,             !- Field 11\n",
        "    0.5,                      !- Field 12\n",
        "    Until: 17:00,             !- Field 13\n",
        "    0.95,                     !- Field 14\n",
        "    Until: 18:00,             !- Field 15\n",
        "    0.3,                      !- Field 16\n",
        "    Until: 20:00,             !- Field 17\n",
        "    0.1,                      !- Field 18\n",
        "    Until: 24:00,             !- Field 19\n",
        "    0.05,                     !- Field 20\n",
        "    For: SummerDesignDay,     !- Field 21\n",
        "    Until: 06:00,             !- Field 22\n",
        "    0.0,                      !- Field 23\n",
        "    Until: 22:00,             !- Field 24\n",
        "    1.0,                      !- Field 25\n",
        "    Until: 24:00,             !- Field 26\n",
        "    0.05,                     !- Field 27\n",
        "    For: Saturday,            !- Field 28\n",
        "    Until: 06:00,             !- Field 29\n",
        "    0.0,                      !- Field 30\n",
        "    Until: 08:00,             !- Field 31\n",
        "    0.1,                      !- Field 32\n",
        "    Until: 12:00,             !- Field 33\n",
        "    0.3,                      !- Field 34\n",
        "    Until: 17:00,             !- Field 35\n",
        "    0.1,                      !- Field 36\n",
        "    Until: 19:00,             !- Field 37\n",
        "    0.0,                      !- Field 38\n",
        "    Until: 24:00,             !- Field 39\n",
        "    0.0,                      !- Field 40\n",
        "    For: WinterDesignDay,     !- Field 41\n",
        "    Until: 24:00,             !- Field 42\n",
        "    0.0,                      !- Field 43\n",
        "    For: Sunday Holidays AllOtherDays,    !- Field 44\n",
        "    Until: 06:00,             !- Field 45\n",
        "    0.0,                      !- Field 46\n",
        "    Until: 18:00,             !- Field 47\n",
        "    0.0,                      !- Field 48\n",
        "    Until: 24:00,             !- Field 49\n",
        "    0.0;                      !- Field 50\n",
        "\n",
        "Schedule:Compact,         \n",
        "    Infiltration Schedule,    !- Name\n",
        "    Fraction,                 !- Schedule Type Limits Name\n",
        "    Through: 12/31,           !- Field 1\n",
        "    For: Weekdays SummerDesignDay,    !- Field 2\n",
        "    Until: 06:00,             !- Field 3\n",
        "    1.0,                      !- Field 4\n",
        "    Until: 22:00,             !- Field 5\n",
        "    0.0,                      !- Field 6\n",
        "    Until: 24:00,             !- Field 7\n",
        "    1.0,                      !- Field 8\n",
        "    For: Saturday WinterDesignDay,    !- Field 9\n",
        "    Until: 06:00,             !- Field 10\n",
        "    1.0,                      !- Field 11\n",
        "    Until: 18:00,             !- Field 12\n",
        "    0.0,                      !- Field 13\n",
        "    Until: 24:00,             !- Field 14\n",
        "    1.0,                      !- Field 15\n",
        "    For: Sunday Holidays AllOtherDays,    !- Field 16\n",
        "    Until: 24:00,             !- Field 17\n",
        "    1.0;                      !- Field 18\n",
        "\n",
        "Schedule:Compact,         \n",
        "    Infiltration Half On Schedule,    !- Name\n",
        "    Fraction,                 !- Schedule Type Limits Name\n",
        "    Through: 12/31,           !- Field 1\n",
        "    For: Weekdays SummerDesignDay,    !- Field 2\n",
        "    Until: 06:00,             !- Field 3\n",
        "    1.0,                      !- Field 4\n",
        "    Until: 22:00,             !- Field 5\n",
        "    0.5,                      !- Field 6\n",
        "    Until: 24:00,             !- Field 7\n",
        "    1.0,                      !- Field 8\n",
        "    For: Saturday WinterDesignDay,    !- Field 9\n",
        "    Until: 06:00,             !- Field 10\n",
        "    1.0,                      !- Field 11\n",
        "    Until: 18:00,             !- Field 12\n",
        "    0.5,                      !- Field 13\n",
        "    Until: 24:00,             !- Field 14\n",
        "    1.0,                      !- Field 15\n",
        "    For: Sunday Holidays AllOtherDays,    !- Field 16\n",
        "    Until: 24:00,             !- Field 17\n",
        "    1.0;                      !- Field 18\n",
        "\n",
        "Schedule:Compact,         \n",
        "    Infiltration Quarter On Schedule,    !- Name\n",
        "    Fraction,                 !- Schedule Type Limits Name\n",
        "    Through: 12/31,           !- Field 1\n",
        "    For: Weekdays SummerDesignDay,    !- Field 2\n",
        "    Until: 06:00,             !- Field 3\n",
        "    1.0,                      !- Field 4\n",
        "    Until: 22:00,             !- Field 5\n",
        "    0.25,                     !- Field 6\n",
        "    Until: 24:00,             !- Field 7\n",
        "    1.0,                      !- Field 8\n",
        "    For: Saturday WinterDesignDay,    !- Field 9\n",
        "    Until: 06:00,             !- Field 10\n",
        "    1.0,                      !- Field 11\n",
        "    Until: 18:00,             !- Field 12\n",
        "    0.25,                     !- Field 13\n",
        "    Until: 24:00,             !- Field 14\n",
        "    1.0,                      !- Field 15\n",
        "    For: Sunday Holidays AllOtherDays,    !- Field 16\n",
        "    Until: 24:00,             !- Field 17\n",
        "    1.0;                      !- Field 18\n",
        "\n",
        "Schedule:Compact,         \n",
        "    Hours of Operation Schedule,    !- Name\n",
        "    On/Off,                   !- Schedule Type Limits Name\n",
        "    Through: 12/31,           !- Field 1\n",
        "    For: Weekdays SummerDesignDay,    !- Field 2\n",
        "    Until: 06:00,             !- Field 3\n",
        "    0.0,                      !- Field 4\n",
        "    Until: 22:00,             !- Field 5\n",
        "    1.0,                      !- Field 6\n",
        "    Until: 24:00,             !- Field 7\n",
        "    0.0,                      !- Field 8\n",
        "    For: Saturday WinterDesignDay,    !- Field 9\n",
        "    Until: 06:00,             !- Field 10\n",
        "    0.0,                      !- Field 11\n",
        "    Until: 18:00,             !- Field 12\n",
        "    1.0,                      !- Field 13\n",
        "    Until: 24:00,             !- Field 14\n",
        "    0.0,                      !- Field 15\n",
        "    For: Sunday Holidays AllOtherDays,    !- Field 16\n",
        "    Until: 24:00,             !- Field 17\n",
        "    0.0;                      !- Field 18\n",
        "\n",
        "Schedule:Compact,         \n",
        "    Always On,                !- Name\n",
        "    Fraction,                 !- Schedule Type Limits Name\n",
        "    Through: 12/31,           !- Field 1\n",
        "    For: AllDays,             !- Field 2\n",
        "    Until: 24:00,             !- Field 3\n",
        "    1.0;                      !- Field 4\n",
        "\n",
        "Schedule:Compact,         \n",
        "    Always Off,               !- Name\n",
        "    Fraction,                 !- Schedule Type Limits Name\n",
        "    Through: 12/31,           !- Field 1\n",
        "    For: AllDays,             !- Field 2\n",
        "    Until: 24:00,             !- Field 3\n",
        "    0.0;                      !- Field 4\n",
        "\n",
        "Schedule:Compact,         \n",
        "    Heating Setpoint Schedule,    !- Name\n",
        "    Temperature,              !- Schedule Type Limits Name\n",
        "    Through: 12/31,           !- Field 1\n",
        "    For: Weekdays,            !- Field 2\n",
        "    Until: 05:00,             !- Field 3\n",
        "    15.6,                     !- Field 4\n",
        "    Until: 19:00,             !- Field 5\n",
        "    21.0,                     !- Field 6\n",
        "    Until: 24:00,             !- Field 7\n",
        "    15.6,                     !- Field 8\n",
        "    For SummerDesignDay,      !- Field 9\n",
        "    Until: 24:00,             !- Field 10\n",
        "    15.6,                     !- Field 11\n",
        "    For: Saturday,            !- Field 12\n",
        "    Until: 06:00,             !- Field 13\n",
        "    15.6,                     !- Field 14\n",
        "    Until: 17:00,             !- Field 15\n",
        "    21.0,                     !- Field 16\n",
        "    Until: 24:00,             !- Field 17\n",
        "    15.6,                     !- Field 18\n",
        "    For: WinterDesignDay,     !- Field 19\n",
        "    Until: 24:00,             !- Field 20\n",
        "    21.0,                     !- Field 21\n",
        "    For: Sunday Holidays AllOtherDays,    !- Field 22\n",
        "    Until: 24:00,             !- Field 23\n",
        "    15.6;                     !- Field 24\n",
        "\n",
        "Schedule:Compact,         \n",
        "    Cooling Setpoint Schedule,    !- Name\n",
        "    Temperature,              !- Schedule Type Limits Name\n",
        "    Through: 12/31,           !- Field 1\n",
        "    For: Weekdays SummerDesignDay,    !- Field 2\n",
        "    Until: 06:00,             !- Field 3\n",
        "    30.0,                     !- Field 4\n",
        "    Until: 22:00,             !- Field 5\n",
        "    24.0,                     !- Field 6\n",
        "    Until: 24:00,             !- Field 7\n",
        "    30.0,                     !- Field 8\n",
        "    For: Saturday,            !- Field 9\n",
        "    Until: 06:00,             !- Field 10\n",
        "    30.0,                     !- Field 11\n",
        "    Until: 18:00,             !- Field 12\n",
        "    24.0,                     !- Field 13\n",
        "    Until: 24:00,             !- Field 14\n",
        "    30.0,                     !- Field 15\n",
        "    For WinterDesignDay,      !- Field 16\n",
        "    Until: 24:00,             !- Field 17\n",
        "    30.0,                     !- Field 18\n",
        "    For: Sunday Holidays AllOtherDays,    !- Field 19\n",
        "    Until: 24:00,             !- Field 20\n",
        "    30.0;                     !- Field 21\n",
        "\n",
        "Schedule:Compact,         \n",
        "    Office Activity Schedule,    !- Name\n",
        "    Any Number,               !- Schedule Type Limits Name\n",
        "    Through: 12/31,           !- Field 1\n",
        "    For: AllDays,             !- Field 2\n",
        "    Until: 24:00,             !- Field 3\n",
        "    120.;                     !- Field 4\n",
        "\n",
        "Schedule:Compact,         \n",
        "    Office Work Eff. Schedule,    !- Name\n",
        "    Fraction,                 !- Schedule Type Limits Name\n",
        "    Through: 12/31,           !- Field 1\n",
        "    For: AllDays,             !- Field 2\n",
        "    Until: 24:00,             !- Field 3\n",
        "    0.0;                      !- Field 4\n",
        "\n",
        "Schedule:Compact,         \n",
        "    Office Clothing Schedule,    !- Name\n",
        "    Any Number,               !- Schedule Type Limits Name\n",
        "    Through: 04/30,           !- Field 1\n",
        "    For: AllDays,             !- Field 2\n",
        "    Until: 24:00,             !- Field 3\n",
        "    1.0,                      !- Field 4\n",
        "    Through: 09/30,           !- Field 5\n",
        "    For: AllDays,             !- Field 6\n",
        "    Until: 24:00,             !- Field 7\n",
        "    0.5,                      !- Field 8\n",
        "    Through: 12/31,           !- Field 9\n",
        "    For: AllDays,             !- Field 10\n",
        "    Until: 24:00,             !- Field 11\n",
        "    1.0;                      !- Field 12\n",
        "\n",
        "Material,                 \n",
        "    F08 Metal surface,        !- Name\n",
        "    Smooth,                   !- Roughness\n",
        "    0.0008,                   !- Thickness\n",
        "    45.28,                    !- Conductivity\n",
        "    7824.0,                   !- Density\n",
        "    500.0;                    !- Specific Heat\n",
        "\n",
        "Material,                 \n",
        "    I01 25mm insulation board,    !- Name\n",
        "    MediumRough,              !- Roughness\n",
        "    0.0254,                   !- Thickness\n",
        "    0.03,                     !- Conductivity\n",
        "    43.0,                     !- Density\n",
        "    1210.0;                   !- Specific Heat\n",
        "\n",
        "Material,                 \n",
        "    I02 50mm insulation board,    !- Name\n",
        "    MediumRough,              !- Roughness\n",
        "    0.0508,                   !- Thickness\n",
        "    0.03,                     !- Conductivity\n",
        "    43.0,                     !- Density\n",
        "    1210.0;                   !- Specific Heat\n",
        "\n",
        "Material,                 \n",
        "    peanut butter,            !- Name\n",
        "    MediumSmooth,             !- Roughness\n",
        "    0.019,                    !- Thickness\n",
        "    0.16,                     !- Conductivity\n",
        "    800.0,                    !- Density\n",
        "    1090.0;                   !- Specific Heat\n",
        "\n",
        "Material,                 \n",
        "    M11 100mm lightweight concrete,    !- Name\n",
        "    MediumRough,              !- Roughness\n",
        "    0.1016,                   !- Thickness\n",
        "    0.53,                     !- Conductivity\n",
        "    1280.0,                   !- Density\n",
        "    840.0;                    !- Specific Heat\n",
        "\n",
        "Material,                 \n",
        "    F16 Acoustic tile,        !- Name\n",
        "    MediumSmooth,             !- Roughness\n",
        "    0.0191,                   !- Thickness\n",
        "    0.06,                     !- Conductivity\n",
        "    368.0,                    !- Density\n",
        "    590.0;                    !- Specific Heat\n",
        "\n",
        "Material,                 \n",
        "    M01 100mm brick,          !- Name\n",
        "    MediumRough,              !- Roughness\n",
        "    0.1016,                   !- Thickness\n",
        "    0.89,                     !- Conductivity\n",
        "    1920.0,                   !- Density\n",
        "    790.0;                    !- Specific Heat\n",
        "\n",
        "Material,                 \n",
        "    M15 200mm heavyweight concrete,    !- Name\n",
        "    MediumRough,              !- Roughness\n",
        "    0.2032,                   !- Thickness\n",
        "    1.95,                     !- Conductivity\n",
        "    2240.0,                   !- Density\n",
        "    900.0;                    !- Specific Heat\n",
        "\n",
        "Material,                 \n",
        "    M05 200mm concrete block,    !- Name\n",
        "    MediumRough,              !- Roughness\n",
        "    0.2032,                   !- Thickness\n",
        "    1.11,                     !- Conductivity\n",
        "    800.0,                    !- Density\n",
        "    920.0;                    !- Specific Heat\n",
        "\n",
        "Material,                 \n",
        "    G05 25mm wood,            !- Name\n",
        "    MediumSmooth,             !- Roughness\n",
        "    0.0254,                   !- Thickness\n",
        "    0.15,                     !- Conductivity\n",
        "    608.0,                    !- Density\n",
        "    1630.0;                   !- Specific Heat\n",
        "\n",
        "Material:AirGap,          \n",
        "    F04 Wall air space resistance,    !- Name\n",
        "    0.15;                     !- Thermal Resistance\n",
        "\n",
        "Material:AirGap,          \n",
        "    F05 Ceiling air space resistance,    !- Name\n",
        "    0.18;                     !- Thermal Resistance\n",
        "\n",
        "WindowMaterial:Glazing,   \n",
        "    Clear 3mm,                !- Name\n",
        "    SpectralAverage,          !- Optical Data Type\n",
        "    ,                         !- Window Glass Spectral Data Set Name\n",
        "    0.003,                    !- Thickness\n",
        "    0.837,                    !- Solar Transmittance at Normal Incidence\n",
        "    0.075,                    !- Front Side Solar Reflectance at Normal Incidence\n",
        "    0.075,                    !- Back Side Solar Reflectance at Normal Incidence\n",
        "    0.898,                    !- Visible Transmittance at Normal Incidence\n",
        "    0.081,                    !- Front Side Visible Reflectance at Normal Incidence\n",
        "    0.081,                    !- Back Side Visible Reflectance at Normal Incidence\n",
        "    0.0,                      !- Infrared Transmittance at Normal Incidence\n",
        "    0.84,                     !- Front Side Infrared Hemispherical Emissivity\n",
        "    0.84,                     !- Back Side Infrared Hemispherical Emissivity\n",
        "    0.9;                      !- Conductivity\n",
        "\n",
        "WindowMaterial:Gas,       \n",
        "    Air 13mm,                 !- Name\n",
        "    Air,                      !- Gas Type\n",
        "    0.0127;                   !- Thickness\n",
        "\n",
        "Construction,             \n",
        "    Exterior Floor,           !- Name\n",
        "    I02 50mm insulation board,    !- Outside Layer\n",
        "    M15 200mm heavyweight concrete;    !- Layer 2\n",
        "\n",
        "Construction,             \n",
        "    Interior Floor,           !- Name\n",
        "    F16 Acoustic tile,        !- Outside Layer\n",
        "    F05 Ceiling air space resistance,    !- Layer 2\n",
        "    M11 100mm lightweight concrete;    !- Layer 3\n",
        "\n",
        "Construction,             \n",
        "    Exterior Wall,            !- Name\n",
        "    M01 100mm brick,          !- Outside Layer\n",
        "    M15 200mm heavyweight concrete,    !- Layer 2\n",
        "    I02 50mm insulation board,    !- Layer 3\n",
        "    F04 Wall air space resistance,    !- Layer 4\n",
        "    peanut butter;            !- Layer 5\n",
        "\n",
        "Construction,             \n",
        "    Interior Wall,            !- Name\n",
        "    peanut butter,            !- Outside Layer\n",
        "    F04 Wall air space resistance,    !- Layer 2\n",
        "    peanut butter;            !- Layer 3\n",
        "\n",
        "Construction,             \n",
        "    Exterior Roof,            !- Name\n",
        "    M11 100mm lightweight concrete,    !- Outside Layer\n",
        "    F05 Ceiling air space resistance,    !- Layer 2\n",
        "    F16 Acoustic tile;        !- Layer 3\n",
        "\n",
        "Construction,             \n",
        "    Interior Ceiling,         !- Name\n",
        "    M11 100mm lightweight concrete,    !- Outside Layer\n",
        "    F05 Ceiling air space resistance,    !- Layer 2\n",
        "    F16 Acoustic tile;        !- Layer 3\n",
        "\n",
        "Construction,             \n",
        "    Exterior Window,          !- Name\n",
        "    Clear 3mm,                !- Outside Layer\n",
        "    Air 13mm,                 !- Layer 2\n",
        "    Clear 3mm;                !- Layer 3\n",
        "\n",
        "Construction,             \n",
        "    Interior Window,          !- Name\n",
        "    Clear 3mm;                !- Outside Layer\n",
        "\n",
        "Construction,             \n",
        "    Exterior Door,            !- Name\n",
        "    F08 Metal surface,        !- Outside Layer\n",
        "    I01 25mm insulation board;    !- Layer 2\n",
        "\n",
        "Construction,             \n",
        "    Interior Door,            !- Name\n",
        "    G05 25mm wood;            !- Outside Layer\n",
        "\n",
        "CONSTRUCTION,             \n",
        "    Interior Wall,            !- Name\n",
        "    peanut butter,            !- Outside Layer\n",
        "    Shiny new material object,    !- Layer 2\n",
        "    peanut butter;            !- Layer 3\n",
        "\n",
        "GlobalGeometryRules,      \n",
        "    UpperLeftCorner,          !- Starting Vertex Position\n",
        "    Counterclockwise,         !- Vertex Entry Direction\n",
        "    Absolute,                 !- Coordinate System\n",
        "    Relative,                 !- Daylighting Reference Point Coordinate System\n",
        "    Absolute;                 !- Rectangular Surface Coordinate System\n",
        "\n",
        "Zone,                     \n",
        "    Box,                      !- Name\n",
        "    0.0,                      !- Direction of Relative North\n",
        "    0.288184,                 !- X Origin\n",
        "    0.756604,                 !- Y Origin\n",
        "    0.0,                      !- Z Origin\n",
        "    ,                         !- Type\n",
        "    1;                        !- Multiplier\n",
        "\n",
        "BuildingSurface:Detailed, \n",
        "    F_Surf,                   !- Name\n",
        "    Floor,                    !- Surface Type\n",
        "    Exterior Floor,           !- Construction Name\n",
        "    Box,                      !- Zone Name\n",
        "    Ground,                   !- Outside Boundary Condition\n",
        "    ,                         !- Outside Boundary Condition Object\n",
        "    NoSun,                    !- Sun Exposure\n",
        "    NoWind,                   !- Wind Exposure\n",
        "    0.0,                      !- View Factor to Ground\n",
        "    4,                        !- Number of Vertices\n",
        "    5.0,                      !- Vertex 1 Xcoordinate\n",
        "    6.0,                      !- Vertex 1 Ycoordinate\n",
        "    0.0,                      !- Vertex 1 Zcoordinate\n",
        "    5.0,                      !- Vertex 2 Xcoordinate\n",
        "    0.0,                      !- Vertex 2 Ycoordinate\n",
        "    0.0,                      !- Vertex 2 Zcoordinate\n",
        "    0.0,                      !- Vertex 3 Xcoordinate\n",
        "    0.0,                      !- Vertex 3 Ycoordinate\n",
        "    0.0,                      !- Vertex 3 Zcoordinate\n",
        "    0.0,                      !- Vertex 4 Xcoordinate\n",
        "    6.0,                      !- Vertex 4 Ycoordinate\n",
        "    0.0;                      !- Vertex 4 Zcoordinate\n",
        "\n",
        "BuildingSurface:Detailed, \n",
        "    S_Wall,                   !- Name\n",
        "    Wall,                     !- Surface Type\n",
        "    Exterior Wall,            !- Construction Name\n",
        "    Box,                      !- Zone Name\n",
        "    Outdoors,                 !- Outside Boundary Condition\n",
        "    ,                         !- Outside Boundary Condition Object\n",
        "    SunExposed,               !- Sun Exposure\n",
        "    WindExposed,              !- Wind Exposure\n",
        "    ,                         !- View Factor to Ground\n",
        "    4,                        !- Number of Vertices\n",
        "    0.0,                      !- Vertex 1 Xcoordinate\n",
        "    0.0,                      !- Vertex 1 Ycoordinate\n",
        "    3.0,                      !- Vertex 1 Zcoordinate\n",
        "    0.0,                      !- Vertex 2 Xcoordinate\n",
        "    0.0,                      !- Vertex 2 Ycoordinate\n",
        "    0.0,                      !- Vertex 2 Zcoordinate\n",
        "    5.0,                      !- Vertex 3 Xcoordinate\n",
        "    0.0,                      !- Vertex 3 Ycoordinate\n",
        "    0.0,                      !- Vertex 3 Zcoordinate\n",
        "    5.0,                      !- Vertex 4 Xcoordinate\n",
        "    0.0,                      !- Vertex 4 Ycoordinate\n",
        "    3.0;                      !- Vertex 4 Zcoordinate\n",
        "\n",
        "BuildingSurface:Detailed, \n",
        "    N_Wall,                   !- Name\n",
        "    Wall,                     !- Surface Type\n",
        "    Exterior Wall,            !- Construction Name\n",
        "    Box,                      !- Zone Name\n",
        "    Outdoors,                 !- Outside Boundary Condition\n",
        "    ,                         !- Outside Boundary Condition Object\n",
        "    SunExposed,               !- Sun Exposure\n",
        "    WindExposed,              !- Wind Exposure\n",
        "    ,                         !- View Factor to Ground\n",
        "    4,                        !- Number of Vertices\n",
        "    5.0,                      !- Vertex 1 Xcoordinate\n",
        "    6.0,                      !- Vertex 1 Ycoordinate\n",
        "    3.0,                      !- Vertex 1 Zcoordinate\n",
        "    5.0,                      !- Vertex 2 Xcoordinate\n",
        "    6.0,                      !- Vertex 2 Ycoordinate\n",
        "    0.0,                      !- Vertex 2 Zcoordinate\n",
        "    0.0,                      !- Vertex 3 Xcoordinate\n",
        "    6.0,                      !- Vertex 3 Ycoordinate\n",
        "    0.0,                      !- Vertex 3 Zcoordinate\n",
        "    0.0,                      !- Vertex 4 Xcoordinate\n",
        "    6.0,                      !- Vertex 4 Ycoordinate\n",
        "    3.0;                      !- Vertex 4 Zcoordinate\n",
        "\n",
        "BuildingSurface:Detailed, \n",
        "    R_surf,                   !- Name\n",
        "    Roof,                     !- Surface Type\n",
        "    Exterior Roof,            !- Construction Name\n",
        "    Box,                      !- Zone Name\n",
        "    Outdoors,                 !- Outside Boundary Condition\n",
        "    ,                         !- Outside Boundary Condition Object\n",
        "    SunExposed,               !- Sun Exposure\n",
        "    WindExposed,              !- Wind Exposure\n",
        "    ,                         !- View Factor to Ground\n",
        "    4,                        !- Number of Vertices\n",
        "    0.0,                      !- Vertex 1 Xcoordinate\n",
        "    6.0,                      !- Vertex 1 Ycoordinate\n",
        "    3.0,                      !- Vertex 1 Zcoordinate\n",
        "    0.0,                      !- Vertex 2 Xcoordinate\n",
        "    0.0,                      !- Vertex 2 Ycoordinate\n",
        "    3.0,                      !- Vertex 2 Zcoordinate\n",
        "    5.0,                      !- Vertex 3 Xcoordinate\n",
        "    0.0,                      !- Vertex 3 Ycoordinate\n",
        "    3.0,                      !- Vertex 3 Zcoordinate\n",
        "    5.0,                      !- Vertex 4 Xcoordinate\n",
        "    6.0,                      !- Vertex 4 Ycoordinate\n",
        "    3.0;                      !- Vertex 4 Zcoordinate\n",
        "\n",
        "BuildingSurface:Detailed, \n",
        "    W_Wall,                   !- Name\n",
        "    Wall,                     !- Surface Type\n",
        "    Exterior Wall,            !- Construction Name\n",
        "    Box,                      !- Zone Name\n",
        "    Outdoors,                 !- Outside Boundary Condition\n",
        "    ,                         !- Outside Boundary Condition Object\n",
        "    SunExposed,               !- Sun Exposure\n",
        "    WindExposed,              !- Wind Exposure\n",
        "    ,                         !- View Factor to Ground\n",
        "    4,                        !- Number of Vertices\n",
        "    0.0,                      !- Vertex 1 Xcoordinate\n",
        "    6.0,                      !- Vertex 1 Ycoordinate\n",
        "    3.0,                      !- Vertex 1 Zcoordinate\n",
        "    0.0,                      !- Vertex 2 Xcoordinate\n",
        "    6.0,                      !- Vertex 2 Ycoordinate\n",
        "    0.0,                      !- Vertex 2 Zcoordinate\n",
        "    0.0,                      !- Vertex 3 Xcoordinate\n",
        "    0.0,                      !- Vertex 3 Ycoordinate\n",
        "    0.0,                      !- Vertex 3 Zcoordinate\n",
        "    0.0,                      !- Vertex 4 Xcoordinate\n",
        "    0.0,                      !- Vertex 4 Ycoordinate\n",
        "    3.0;                      !- Vertex 4 Zcoordinate\n",
        "\n",
        "BuildingSurface:Detailed, \n",
        "    E_Wall,                   !- Name\n",
        "    Wall,                     !- Surface Type\n",
        "    Exterior Wall,            !- Construction Name\n",
        "    Box,                      !- Zone Name\n",
        "    Outdoors,                 !- Outside Boundary Condition\n",
        "    ,                         !- Outside Boundary Condition Object\n",
        "    SunExposed,               !- Sun Exposure\n",
        "    WindExposed,              !- Wind Exposure\n",
        "    ,                         !- View Factor to Ground\n",
        "    4,                        !- Number of Vertices\n",
        "    5.0,                      !- Vertex 1 Xcoordinate\n",
        "    0.0,                      !- Vertex 1 Ycoordinate\n",
        "    3.0,                      !- Vertex 1 Zcoordinate\n",
        "    5.0,                      !- Vertex 2 Xcoordinate\n",
        "    0.0,                      !- Vertex 2 Ycoordinate\n",
        "    0.0,                      !- Vertex 2 Zcoordinate\n",
        "    5.0,                      !- Vertex 3 Xcoordinate\n",
        "    6.0,                      !- Vertex 3 Ycoordinate\n",
        "    0.0,                      !- Vertex 3 Zcoordinate\n",
        "    5.0,                      !- Vertex 4 Xcoordinate\n",
        "    6.0,                      !- Vertex 4 Ycoordinate\n",
        "    3.0;                      !- Vertex 4 Zcoordinate\n",
        "\n",
        "FenestrationSurface:Detailed,\n",
        "    S_Window,                 !- Name\n",
        "    Window,                   !- Surface Type\n",
        "    Exterior Window,          !- Construction Name\n",
        "    S_Wall,                   !- Building Surface Name\n",
        "    ,                         !- Outside Boundary Condition Object\n",
        "    ,                         !- View Factor to Ground\n",
        "    ,                         !- Shading Control Name\n",
        "    ,                         !- Frame and Divider Name\n",
        "    ,                         !- Multiplier\n",
        "    4,                        !- Number of Vertices\n",
        "    1.64142641902,            !- Vertex 1 Xcoordinate\n",
        "    0.0,                      !- Vertex 1 Ycoordinate\n",
        "    2.264479674,              !- Vertex 1 Zcoordinate\n",
        "    1.64142641902,            !- Vertex 2 Xcoordinate\n",
        "    0.0,                      !- Vertex 2 Ycoordinate\n",
        "    1.264479674,              !- Vertex 2 Zcoordinate\n",
        "    3.64142641902,            !- Vertex 3 Xcoordinate\n",
        "    0.0,                      !- Vertex 3 Ycoordinate\n",
        "    1.264479674,              !- Vertex 3 Zcoordinate\n",
        "    3.64142641902,            !- Vertex 4 Xcoordinate\n",
        "    0.0,                      !- Vertex 4 Ycoordinate\n",
        "    2.264479674;              !- Vertex 4 Zcoordinate\n",
        "\n",
        "HVACTemplate:Thermostat,  \n",
        "    Constant Setpoint Thermostat,    !- Name\n",
        "    ,                         !- Heating Setpoint Schedule Name\n",
        "    20,                       !- Constant Heating Setpoint\n",
        "    ,                         !- Cooling Setpoint Schedule Name\n",
        "    25;                       !- Constant Cooling Setpoint\n",
        "\n",
        "Output:VariableDictionary,\n",
        "    IDF;                      !- Key Field\n",
        "\n"
       ]
      }
     ],
     "prompt_number": 27
    },
    {
     "cell_type": "heading",
     "level": 2,
     "metadata": {},
     "source": [
      "Zone area and volume"
     ]
    },
    {
     "cell_type": "markdown",
     "metadata": {},
     "source": [
      "The idf file has zones with surfaces and windows. It is easy to get the attributes of the surfaces and windows as we have seen in the tutorial. Let us review this once more:\n"
     ]
    },
    {
     "cell_type": "code",
     "collapsed": false,
     "input": [
      "from eppy import modeleditor \n",
      "from eppy.modeleditor import IDF\n",
      "iddfile = \"../eppy/resources/iddfiles/Energy+V7_2_0.idd\"\n",
      "fname1 = \"../eppy/resources/idffiles/V_7_2/box.idf\"\n",
      "# IDF.setiddname(iddfile)"
     ],
     "language": "python",
     "metadata": {},
     "outputs": [],
     "prompt_number": 28
    },
    {
     "cell_type": "code",
     "collapsed": false,
     "input": [
      "idf = IDF(fname1)"
     ],
     "language": "python",
     "metadata": {},
     "outputs": [],
     "prompt_number": 29
    },
    {
     "cell_type": "code",
     "collapsed": false,
     "input": [
      "surfaces = idf.idfobjects[\"BuildingSurface:Detailed\".upper()]\n",
      "surface = surfaces[0]\n",
      "print \"area = %s\" % (surface.area, )\n",
      "print \"tilt = %s\" % (surface.tilt, )\n",
      "print \"azimuth = %s\" % (surface.azimuth, )"
     ],
     "language": "python",
     "metadata": {},
     "outputs": [
      {
       "output_type": "stream",
       "stream": "stdout",
       "text": [
        "area = 30.0\n",
        "tilt = 180.0\n",
        "azimuth = 0.0\n"
       ]
      }
     ],
     "prompt_number": 30
    },
    {
     "cell_type": "markdown",
     "metadata": {},
     "source": [
      "Can we do the same for zones ? \n",
      "\n",
      "Not yet .. not yet. Not in this version on eppy\n",
      "\n",
      "But we can still get the area and volume of the zone\n"
     ]
    },
    {
     "cell_type": "code",
     "collapsed": false,
     "input": [
      "zones = idf.idfobjects[\"ZONE\"]\n",
      "zone = zones[0]\n",
      "area = modeleditor.zonearea(idf, zone.Name)\n",
      "volume = modeleditor.zonevolume(idf, zone.Name)\n",
      "print \"zone area = %s\" % (area, )\n",
      "print \"zone volume = %s\" % (volume, )"
     ],
     "language": "python",
     "metadata": {},
     "outputs": [
      {
       "output_type": "stream",
       "stream": "stdout",
       "text": [
        "zone area = 30.0\n",
        "zone volume = 90.0\n"
       ]
      }
     ],
     "prompt_number": 31
    },
    {
     "cell_type": "markdown",
     "metadata": {},
     "source": [
      "Not as slick, but still pretty easy"
     ]
    }
   ],
   "metadata": {}
  }
 ]
}