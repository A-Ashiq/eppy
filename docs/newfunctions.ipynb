{
 "metadata": {
  "name": ""
 },
 "nbformat": 3,
 "nbformat_minor": 0,
 "worksheets": [
  {
   "cells": [
    {
     "cell_type": "heading",
     "level": 1,
     "metadata": {},
     "source": [
      "New functions"
     ]
    },
    {
     "cell_type": "markdown",
     "metadata": {},
     "source": [
      "These are recently written functions that have not made it into the main documentation"
     ]
    },
    {
     "cell_type": "heading",
     "level": 2,
     "metadata": {},
     "source": [
      "Check range for fields"
     ]
    },
    {
     "cell_type": "markdown",
     "metadata": {},
     "source": [
      "demonstrate two new functions:\n",
      "\n",
      "- EpBunch.getrange(fieldname) # will return the ranges for that field\n",
      "- EpBunch.checkrange(fieldname) # will throw an exception if the value is outside the range"
     ]
    },
    {
     "cell_type": "code",
     "collapsed": false,
     "input": [
      "# you would normaly install eppy by doing\n",
      "# python setup.py install\n",
      "# or\n",
      "# pip install eppy\n",
      "# or\n",
      "# easy_install eppy\n",
      "\n",
      "# if you have not done so, uncomment the following three lines\n",
      "import sys\n",
      "# pathnameto_eppy = 'c:/eppy'\n",
      "pathnameto_eppy = '../'\n",
      "sys.path.append(pathnameto_eppy) \n",
      "\n",
      "from eppy import modeleditor \n",
      "from eppy.modeleditor import IDF\n",
      "iddfile = \"../eppy/resources/iddfiles/Energy+V7_2_0.idd\"\n",
      "fname1 = \"../eppy/resources/idffiles/V_7_2/smallfile.idf\""
     ],
     "language": "python",
     "metadata": {},
     "outputs": [],
     "prompt_number": 2
    },
    {
     "cell_type": "code",
     "collapsed": false,
     "input": [
      "IDF.setiddname(iddfile)\n",
      "idf1 = IDF(fname1)"
     ],
     "language": "python",
     "metadata": {},
     "outputs": [],
     "prompt_number": 3
    },
    {
     "cell_type": "code",
     "collapsed": false,
     "input": [
      "building = idf1.idfobjects['building'.upper()][0]\n",
      "print building"
     ],
     "language": "python",
     "metadata": {},
     "outputs": [
      {
       "output_type": "stream",
       "stream": "stdout",
       "text": [
        "\n",
        "BUILDING,                 \n",
        "    Empire State Building,    !- Name\n",
        "    30.0,                     !- North Axis\n",
        "    City,                     !- Terrain\n",
        "    0.04,                     !- Loads Convergence Tolerance Value\n",
        "    0.4,                      !- Temperature Convergence Tolerance Value\n",
        "    FullExterior,             !- Solar Distribution\n",
        "    25,                       !- Maximum Number of Warmup Days\n",
        "    6;                        !- Minimum Number of Warmup Days\n",
        "\n"
       ]
      }
     ],
     "prompt_number": 4
    },
    {
     "cell_type": "code",
     "collapsed": false,
     "input": [
      "print building.getrange(\"Loads_Convergence_Tolerance_Value\")"
     ],
     "language": "python",
     "metadata": {},
     "outputs": [
      {
       "output_type": "stream",
       "stream": "stdout",
       "text": [
        "{'maximum<': None, 'minimum': None, 'type': 'real', 'maximum': 0.5, 'minimum>': 0.0}\n"
       ]
      }
     ],
     "prompt_number": 5
    },
    {
     "cell_type": "code",
     "collapsed": false,
     "input": [
      "print building.checkrange(\"Loads_Convergence_Tolerance_Value\")"
     ],
     "language": "python",
     "metadata": {},
     "outputs": [
      {
       "output_type": "stream",
       "stream": "stdout",
       "text": [
        "0.04\n"
       ]
      }
     ],
     "prompt_number": 6
    },
    {
     "cell_type": "markdown",
     "metadata": {},
     "source": [
      "Let us set these values outside the range and see what happens"
     ]
    },
    {
     "cell_type": "code",
     "collapsed": false,
     "input": [
      "building.Loads_Convergence_Tolerance_Value = 0.6\n",
      "from eppy.bunch_subclass import RangeError\n",
      "try:\n",
      "    print building.checkrange(\"Loads_Convergence_Tolerance_Value\")\n",
      "except RangeError, e:\n",
      "    raise e"
     ],
     "language": "python",
     "metadata": {},
     "outputs": [
      {
       "ename": "RangeError",
       "evalue": "Value 0.6 is not less or equal to the 'maximum' of 0.5",
       "output_type": "pyerr",
       "traceback": [
        "\u001b[0;31m---------------------------------------------------------------------------\u001b[0m\n\u001b[0;31mRangeError\u001b[0m                                Traceback (most recent call last)",
        "\u001b[0;32m<ipython-input-13-11d1c9d2fc51>\u001b[0m in \u001b[0;36m<module>\u001b[0;34m()\u001b[0m\n\u001b[1;32m      6\u001b[0m     \u001b[0;32mprint\u001b[0m \u001b[0mbuilding\u001b[0m\u001b[0;34m.\u001b[0m\u001b[0mcheckrange\u001b[0m\u001b[0;34m(\u001b[0m\u001b[0;34m\"Loads_Convergence_Tolerance_Value\"\u001b[0m\u001b[0;34m)\u001b[0m\u001b[0;34m\u001b[0m\u001b[0m\n\u001b[1;32m      7\u001b[0m \u001b[0;32mexcept\u001b[0m \u001b[0mRangeError\u001b[0m\u001b[0;34m,\u001b[0m \u001b[0me\u001b[0m\u001b[0;34m:\u001b[0m\u001b[0;34m\u001b[0m\u001b[0m\n\u001b[0;32m----> 8\u001b[0;31m     \u001b[0;32mraise\u001b[0m \u001b[0me\u001b[0m\u001b[0;34m\u001b[0m\u001b[0m\n\u001b[0m",
        "\u001b[0;31mRangeError\u001b[0m: Value 0.6 is not less or equal to the 'maximum' of 0.5"
       ]
      }
     ],
     "prompt_number": 13
    },
    {
     "cell_type": "markdown",
     "metadata": {},
     "source": [
      "So the Range Check works"
     ]
    },
    {
     "cell_type": "heading",
     "level": 2,
     "metadata": {},
     "source": [
      "Blank idf file"
     ]
    },
    {
     "cell_type": "markdown",
     "metadata": {},
     "source": [
      "Until now in all our examples, we have been reading an idf file from disk:\n",
      "\n",
      "- How do I create a blank new idf file  \n",
      "- give it a file name\n",
      "- Save it to the disk\n",
      "\n",
      "Here are the steps to do that"
     ]
    },
    {
     "cell_type": "code",
     "collapsed": false,
     "input": [
      "# some initial steps\n",
      "from eppy.modeleditor import IDF\n",
      "iddfile = \"../eppy/resources/iddfiles/Energy+V7_2_0.idd\"\n",
      "IDF.setiddname(iddfile) # once the iddfile is set, it cannot be changed. \n",
      "\n",
      "# - Let us first open a file from the disk\n",
      "fname1 = \"../eppy/resources/idffiles/V_7_2/smallfile.idf\"\n",
      "idf_fromfilename = IDF(fname1) # initialize the IDF object with the file name\n",
      "\n",
      "idf_fromfilename.printidf()"
     ],
     "language": "python",
     "metadata": {},
     "outputs": [
      {
       "output_type": "stream",
       "stream": "stdout",
       "text": [
        "\n",
        "VERSION,                  \n",
        "    7.3;                      !- Version Identifier\n",
        "\n",
        "SIMULATIONCONTROL,        \n",
        "    Yes,                      !- Do Zone Sizing Calculation\n",
        "    Yes,                      !- Do System Sizing Calculation\n",
        "    Yes,                      !- Do Plant Sizing Calculation\n",
        "    No,                       !- Run Simulation for Sizing Periods\n",
        "    Yes;                      !- Run Simulation for Weather File Run Periods\n",
        "\n",
        "BUILDING,                 \n",
        "    Empire State Building,    !- Name\n",
        "    30.0,                     !- North Axis\n",
        "    City,                     !- Terrain\n",
        "    0.04,                     !- Loads Convergence Tolerance Value\n",
        "    0.4,                      !- Temperature Convergence Tolerance Value\n",
        "    FullExterior,             !- Solar Distribution\n",
        "    25,                       !- Maximum Number of Warmup Days\n",
        "    6;                        !- Minimum Number of Warmup Days\n",
        "\n",
        "SITE:LOCATION,            \n",
        "    CHICAGO_IL_USA TMY2-94846,    !- Name\n",
        "    41.78,                    !- Latitude\n",
        "    -87.75,                   !- Longitude\n",
        "    -6.0,                     !- Time Zone\n",
        "    190.0;                    !- Elevation\n",
        "\n"
       ]
      }
     ],
     "prompt_number": 14
    },
    {
     "cell_type": "code",
     "collapsed": false,
     "input": [
      "# - now let us open a file from the disk differently\n",
      "fname1 = \"../eppy/resources/idffiles/V_7_2/smallfile.idf\"\n",
      "fhandle = open(fname1, 'r') # open the file for reading and assign it a file handle\n",
      "idf_fromfilehandle = IDF(fhandle) # initialize the IDF object with the file handle\n",
      "\n",
      "idf_fromfilehandle.printidf()"
     ],
     "language": "python",
     "metadata": {},
     "outputs": [
      {
       "output_type": "stream",
       "stream": "stdout",
       "text": [
        "\n",
        "VERSION,                  \n",
        "    7.3;                      !- Version Identifier\n",
        "\n",
        "SIMULATIONCONTROL,        \n",
        "    Yes,                      !- Do Zone Sizing Calculation\n",
        "    Yes,                      !- Do System Sizing Calculation\n",
        "    Yes,                      !- Do Plant Sizing Calculation\n",
        "    No,                       !- Run Simulation for Sizing Periods\n",
        "    Yes;                      !- Run Simulation for Weather File Run Periods\n",
        "\n",
        "BUILDING,                 \n",
        "    Empire State Building,    !- Name\n",
        "    30.0,                     !- North Axis\n",
        "    City,                     !- Terrain\n",
        "    0.04,                     !- Loads Convergence Tolerance Value\n",
        "    0.4,                      !- Temperature Convergence Tolerance Value\n",
        "    FullExterior,             !- Solar Distribution\n",
        "    25,                       !- Maximum Number of Warmup Days\n",
        "    6;                        !- Minimum Number of Warmup Days\n",
        "\n",
        "SITE:LOCATION,            \n",
        "    CHICAGO_IL_USA TMY2-94846,    !- Name\n",
        "    41.78,                    !- Latitude\n",
        "    -87.75,                   !- Longitude\n",
        "    -6.0,                     !- Time Zone\n",
        "    190.0;                    !- Elevation\n",
        "\n"
       ]
      }
     ],
     "prompt_number": 15
    },
    {
     "cell_type": "code",
     "collapsed": false,
     "input": [
      "# So IDF object can be initialized with either a file name or a file handle\n",
      "\n",
      "# - How do I create a blank new idf file  \n",
      "idftxt = \"\" # empty string\n",
      "from StringIO import StringIO\n",
      "fhandle = StringIO(idftxt) # we can make a file handle of a string\n",
      "idf_emptyfile = IDF(fhandle) # initialize the IDF object with the file handle\n",
      "\n",
      "idf_emptyfile.printidf()"
     ],
     "language": "python",
     "metadata": {},
     "outputs": [
      {
       "output_type": "stream",
       "stream": "stdout",
       "text": [
        "\n"
       ]
      }
     ],
     "prompt_number": 17
    },
    {
     "cell_type": "markdown",
     "metadata": {},
     "source": [
      "It did not print anything. Why should it. It was empty. \n",
      "\n",
      "What if we give it a string that was not blank"
     ]
    },
    {
     "cell_type": "code",
     "collapsed": false,
     "input": [
      "# - The string does not have to be blank\n",
      "idftxt = \"VERSION, 7.3;\" # Not an emplty string. has just the version number\n",
      "fhandle = StringIO(idftxt) # we can make a file handle of a string\n",
      "idf_notemptyfile = IDF(fhandle) # initialize the IDF object with the file handle\n",
      "\n",
      "idf_notemptyfile.printidf()"
     ],
     "language": "python",
     "metadata": {},
     "outputs": [
      {
       "output_type": "stream",
       "stream": "stdout",
       "text": [
        "\n",
        "VERSION,                  \n",
        "    7.3;                      !- Version Identifier\n",
        "\n"
       ]
      }
     ],
     "prompt_number": 18
    },
    {
     "cell_type": "markdown",
     "metadata": {},
     "source": [
      "Aha !\n",
      "\n",
      "Now let us give it a file name"
     ]
    },
    {
     "cell_type": "code",
     "collapsed": false,
     "input": [
      "# - give it a file name\n",
      "idf_notemptyfile.idfname = \"notemptyfile.idf\"\n",
      "# - Save it to the disk\n",
      "idf_notemptyfile.save()"
     ],
     "language": "python",
     "metadata": {},
     "outputs": [],
     "prompt_number": 19
    },
    {
     "cell_type": "markdown",
     "metadata": {},
     "source": [
      "Let us confirm that the file was saved to disk"
     ]
    },
    {
     "cell_type": "code",
     "collapsed": false,
     "input": [
      "txt = open(\"notemptyfile.idf\", 'r').read()# read the file from the disk\n",
      "print txt"
     ],
     "language": "python",
     "metadata": {},
     "outputs": [
      {
       "output_type": "stream",
       "stream": "stdout",
       "text": [
        "\n",
        "VERSION,                  \n",
        "    7.3;                      !- Version Identifier\n",
        "\n"
       ]
      }
     ],
     "prompt_number": 20
    },
    {
     "cell_type": "markdown",
     "metadata": {},
     "source": [
      "Yup ! that file was saved. Let us delete it since we were just playing"
     ]
    },
    {
     "cell_type": "code",
     "collapsed": false,
     "input": [
      "import os\n",
      "os.remove(\"notemptyfile.idf\")"
     ],
     "language": "python",
     "metadata": {},
     "outputs": [],
     "prompt_number": 22
    },
    {
     "cell_type": "heading",
     "level": 2,
     "metadata": {},
     "source": [
      "Deleting idfobjects"
     ]
    },
    {
     "cell_type": "markdown",
     "metadata": {},
     "source": [
      "There are two ways of deleting idf objects. We'll show how both of them work.\n",
      "\n",
      "Sirst let us build up a file we can work with."
     ]
    },
    {
     "cell_type": "code",
     "collapsed": false,
     "input": [],
     "language": "python",
     "metadata": {},
     "outputs": []
    }
   ],
   "metadata": {}
  }
 ]
}