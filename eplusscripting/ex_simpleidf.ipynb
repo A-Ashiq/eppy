{
 "metadata": {
  "name": "ex_simpleidf"
 },
 "nbformat": 3,
 "nbformat_minor": 0,
 "worksheets": [
  {
   "cells": [
    {
     "cell_type": "code",
     "collapsed": false,
     "input": [
      "\"\"\"use pyenergyplus to ook at a simple file\"\"\"\n",
      "\n",
      "from idfreader import idfreader\n",
      "\n",
      "iddfile = \"../iddfiles/Energy+V7_2_0.idd\"\n",
      "fname = \"../idffiles/V_7_2/smallfile.idf\"\n",
      " \n",
      "\n",
      "bunchdt, data, commdct = idfreader(fname, iddfile)"
     ],
     "language": "python",
     "metadata": {},
     "outputs": []
    }
   ],
   "metadata": {}
  }
 ]
}