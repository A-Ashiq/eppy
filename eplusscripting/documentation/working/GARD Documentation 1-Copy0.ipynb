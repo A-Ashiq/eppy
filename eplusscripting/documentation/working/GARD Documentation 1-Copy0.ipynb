{
 "metadata": {
  "name": "GARD Documentation 1-Copy0"
 },
 "nbformat": 3,
 "nbformat_minor": 0,
 "worksheets": [
  {
   "cells": [
    {
     "cell_type": "heading",
     "level": 1,
     "metadata": {},
     "source": [
      "Python Interface for EnergyPlus"
     ]
    },
    {
     "cell_type": "heading",
     "level": 2,
     "metadata": {},
     "source": [
      "An Introduction"
     ]
    },
    {
     "cell_type": "markdown",
     "metadata": {},
     "source": [
      "**Why would you use a scripting language to help modify an IDF file?**\n",
      "Using a scripting language allows you to make several changes or create several new files very quickly. For example, suppose you wanted to change the material of every north-facing wall. Using the python interface, you can make this change very quickly.\n"
     ]
    },
    {
     "cell_type": "markdown",
     "metadata": {},
     "source": [
      "**How does an IDF file see its data?**\n",
      "The data in an IDF file is organized into a series of lists. These lists are simple \u2013 each item in the list is an object. \n",
      "\n",
      "Example:\n",
      "Walls\t\t\t\t\n",
      "    Name\t\t\t Bedroom wall 1,\n",
      "\tMaterial\t\t Wood,\n",
      "    Height   \t\t6\u20190\u201d,\n",
      "\tTexture\t\t  Grain,\t\n",
      "\tOrientation      North\n"
     ]
    },
    {
     "cell_type": "heading",
     "level": 2,
     "metadata": {},
     "source": [
      "Functionality"
     ]
    },
    {
     "cell_type": "code",
     "collapsed": false,
     "input": [],
     "language": "python",
     "metadata": {},
     "outputs": []
    }
   ],
   "metadata": {}
  }
 ]
}