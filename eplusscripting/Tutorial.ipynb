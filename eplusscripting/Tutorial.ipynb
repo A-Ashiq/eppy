{
 "metadata": {
  "name": "Tutorial"
 },
 "nbformat": 3,
 "nbformat_minor": 0,
 "worksheets": [
  {
   "cells": [
    {
     "cell_type": "heading",
     "level": 1,
     "metadata": {},
     "source": [
      "Tutorial for pyenergyplus\n"
     ]
    },
    {
     "cell_type": "heading",
     "level": 3,
     "metadata": {},
     "source": [
      "ex_readprint.py"
     ]
    },
    {
     "cell_type": "heading",
     "level": 4,
     "metadata": {},
     "source": [
      "read an idf file and print it to screen"
     ]
    },
    {
     "cell_type": "code",
     "collapsed": false,
     "input": [
      "\"\"\"read an idf file and print it to screen\"\"\"\n",
      "# ex_readprint.py\n",
      "\n",
      "from idfreader import idfreader\n",
      "\n",
      "iddfile = \"../iddfiles/Energy+V7_0_0_036.idd\"\n",
      "fname = \"../idffiles/V_7_0/5ZoneSupRetPlenRAB.idf\"\n",
      " \n",
      "bunchdt, data, commdct = idfreader(fname, iddfile)\n",
      "print data # will print the idf file to the terminal"
     ],
     "language": "python",
     "metadata": {},
     "outputs": [],
     "prompt_number": 3
    },
    {
     "cell_type": "heading",
     "level": 3,
     "metadata": {},
     "source": [
      "ex_readwrite.py"
     ]
    },
    {
     "cell_type": "heading",
     "level": 4,
     "metadata": {},
     "source": [
      "read a idf file and write it disk"
     ]
    },
    {
     "cell_type": "code",
     "collapsed": false,
     "input": [
      "\"\"\"read a idf file and write it disk\"\"\"\n",
      "# ex_readwrite.py\n",
      "\n",
      "from idfreader import idfreader\n",
      "\n",
      "iddfile = \"../iddfiles/Energy+V7_0_0_036.idd\"\n",
      "fname = \"../idffiles/V_7_0/5ZoneSupRetPlenRAB.idf\"\n",
      " \n",
      "bunchdt, data, commdct = idfreader(fname, iddfile)\n",
      "\n",
      "outfilename = \"afile.idf\"\n",
      "txt = str(data)\n",
      "open(outfilename, 'w').write(txt)"
     ],
     "language": "python",
     "metadata": {},
     "outputs": []
    },
    {
     "cell_type": "heading",
     "level": 4,
     "metadata": {},
     "source": [
      "The two lines below show what the print out looks like"
     ]
    },
    {
     "cell_type": "code",
     "collapsed": false,
     "input": [
      "txt = str(data)\n",
      "print txt[:500]"
     ],
     "language": "python",
     "metadata": {},
     "outputs": [
      {
       "output_type": "stream",
       "stream": "stdout",
       "text": [
        "Version,\n",
        "     7.0;\n",
        "\n",
        "SimulationControl,\n",
        "     Yes,\n",
        "     Yes,\n",
        "     No,\n",
        "     No,\n",
        "     Yes;\n",
        "\n",
        "Building,\n",
        "     Building,\n",
        "     30.,\n",
        "     City,\n",
        "     0.04,\n",
        "     0.4,\n",
        "     FullExterior,\n",
        "     25,\n",
        "     6;\n",
        "\n",
        "SurfaceConvectionAlgorithm:Inside,\n",
        "     Simple;\n",
        "\n",
        "SurfaceConvectionAlgorithm:Outside,\n",
        "     SimpleCombined;\n",
        "\n",
        "HeatBalanceAlgorithm,\n",
        "     ConductionTransferFunction;\n",
        "\n",
        "Timestep,\n",
        "     4;\n",
        "\n",
        "ConvergenceLimits,\n",
        "     1,\n",
        "     20,\n",
        "     4,\n",
        "     10;\n",
        "\n",
        "Site:Location,\n",
        "     CHICAGO_IL_USA TMY2-94846,\n",
        "     41.78,\n",
        "     -87.75,\n",
        "\n"
       ]
      }
     ],
     "prompt_number": 5
    },
    {
     "cell_type": "heading",
     "level": 2,
     "metadata": {},
     "source": [
      "ex_pythonic.py"
     ]
    },
    {
     "cell_type": "heading",
     "level": 4,
     "metadata": {},
     "source": [
      "examples of pythonic operations on energyplus objects"
     ]
    },
    {
     "cell_type": "code",
     "collapsed": false,
     "input": [
      "from idfreader import idfreader\n",
      "\n",
      "iddfile = \"../iddfiles/Energy+V7_0_0_036.idd\"\n",
      "fname = \"../idffiles/V_7_0/5ZoneSupRetPlenRAB.idf\"\n"
     ],
     "language": "python",
     "metadata": {},
     "outputs": [],
     "prompt_number": 6
    },
    {
     "cell_type": "code",
     "collapsed": false,
     "input": [
      "bunchdt, data, commdct = idfreader(fname, iddfile)"
     ],
     "language": "python",
     "metadata": {},
     "outputs": [],
     "prompt_number": 7
    },
    {
     "cell_type": "heading",
     "level": 4,
     "metadata": {},
     "source": [
      "give easy to remember names to objects that you are working on"
     ]
    },
    {
     "cell_type": "code",
     "collapsed": false,
     "input": [
      "# give easy to remember names to objects that you are working on\n",
      "zones = bunchdt['zone'.upper()] # all the zones\n",
      "surfaces = bunchdt['BUILDINGSURFACE:DETAILED'.upper()] # all the surfaces"
     ],
     "language": "python",
     "metadata": {},
     "outputs": [],
     "prompt_number": 8
    },
    {
     "cell_type": "heading",
     "level": 4,
     "metadata": {},
     "source": [
      "first zone - zone0"
     ]
    },
    {
     "cell_type": "code",
     "collapsed": false,
     "input": [
      "# first zone - zone0\n",
      "zone0 = zones[0]"
     ],
     "language": "python",
     "metadata": {},
     "outputs": [],
     "prompt_number": 9
    },
    {
     "cell_type": "heading",
     "level": 4,
     "metadata": {},
     "source": [
      "name of zone0"
     ]
    },
    {
     "cell_type": "code",
     "collapsed": false,
     "input": [
      "# name of zone0\n",
      "print zone0.Name"
     ],
     "language": "python",
     "metadata": {},
     "outputs": [
      {
       "output_type": "stream",
       "stream": "stdout",
       "text": [
        "PLENUM-1\n"
       ]
      }
     ],
     "prompt_number": 10
    },
    {
     "cell_type": "heading",
     "level": 4,
     "metadata": {},
     "source": [
      "all zone names"
     ]
    },
    {
     "cell_type": "code",
     "collapsed": false,
     "input": [
      "# allzone names\n",
      "zonenames = [zone.Name for zone in zones]\n",
      "print zonenames"
     ],
     "language": "python",
     "metadata": {},
     "outputs": [
      {
       "output_type": "stream",
       "stream": "stdout",
       "text": [
        "['PLENUM-1', 'SPACE1-1', 'SPACE2-1', 'SPACE3-1', 'SPACE4-1', 'SPACE5-1', 'Sup-PLENUM-1']\n"
       ]
      }
     ],
     "prompt_number": 12
    },
    {
     "cell_type": "heading",
     "level": 4,
     "metadata": {},
     "source": [
      "zone volumes"
     ]
    },
    {
     "cell_type": "code",
     "collapsed": false,
     "input": [
      "zonevolumes = [zone.Volume for zone in zones]\n",
      "print zonevolumes\n",
      "# note that zone volumes are strings, not floats\n",
      "# future version will automatically have them as floats"
     ],
     "language": "python",
     "metadata": {},
     "outputs": [
      {
       "output_type": "stream",
       "stream": "stdout",
       "text": [
        "['283.2', '239.247360229', '103.311355591', '239.247360229', '103.311355591', '447.682556152', '208.6']\n"
       ]
      }
     ],
     "prompt_number": 13
    },
    {
     "cell_type": "code",
     "collapsed": false,
     "input": [],
     "language": "python",
     "metadata": {},
     "outputs": []
    }
   ],
   "metadata": {}
  }
 ]
}