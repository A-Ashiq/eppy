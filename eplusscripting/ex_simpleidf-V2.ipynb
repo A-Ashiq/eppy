{
 "metadata": {
  "name": "ex_simpleidf-V2"
 },
 "nbformat": 3,
 "nbformat_minor": 0,
 "worksheets": [
  {
   "cells": [
    {
     "cell_type": "heading",
     "level": 1,
     "metadata": {},
     "source": [
      "Eppy Documentation"
     ]
    },
    {
     "cell_type": "markdown",
     "metadata": {},
     "source": [
      "Authors: Santosh Philip, Leora Tanjuatco"
     ]
    },
    {
     "cell_type": "markdown",
     "metadata": {},
     "source": [
      "Eppy is a scripting language for E+ idf files, and E+ output files. Eppy is written in the programming language Python. As a result it takes full advantage of the rich data structure and idioms that are avaliable in python. You can programmatically navigate, search, and modify E+ idf files useing eppy. The power of using a scripting language allows you to do the following:\n",
      "\n",
      "- Make a large number of changes in an idf file with a few lines of eppy code.\n",
      "- Use conditions and filters when making changes to a idf file\n",
      "- Make changes to multiple idf files.\n",
      "- Read data from the output files of a E+ simulation run.\n",
      "- Based to the results of a E+ simulation run, generate the input file for the next simulation run.\n",
      "\n",
      "So what does this matter?   \n",
      "Here are some of the things you can do with eppy:\n",
      "\n",
      "- Change construction for all north facing walls.\n",
      "- Change the glass type for all windows larger than 2 square meters.\n",
      "- Change the number of people in all the interior zones.\n",
      "- Change the lighting power in all south facing zones. \n",
      "- Change the efficiency and fan power of all rooftop units.\n",
      "- Find the energy use of all the models in a folder (or of models that were run after a certain date) \n",
      "- If a model is using more energy than expected, keep increasing the R-value of the roof until you get to the expected energy use."
     ]
    },
    {
     "cell_type": "heading",
     "level": 2,
     "metadata": {},
     "source": [
      "Quick Start"
     ]
    },
    {
     "cell_type": "markdown",
     "metadata": {},
     "source": [
      "Here is a short IDF file that I\u2019ll be using as an example to start us off:"
     ]
    },
    {
     "cell_type": "raw",
     "metadata": {},
     "source": [
      "VERSION,\n",
      "    7.2;                     !- Version Identifier\n",
      "\n",
      "SIMULATIONCONTROL,\n",
      "    Yes,                     !- Do Zone Sizing Calculation\n",
      "    Yes,                     !- Do System Sizing Calculation\n",
      "    Yes,                     !- Do Plant Sizing Calculation\n",
      "    No,                      !- Run Simulation for Sizing Periods\n",
      "    Yes;                     !- Run Simulation for Weather File Run Periods\n",
      "\n",
      "BUILDING,\n",
      "    White House,             !- Name\n",
      "    30.,                     !- North Axis {deg}\n",
      "    City,                    !- Terrain\n",
      "    0.04,                    !- Loads Convergence Tolerance Value\n",
      "    0.4,                     !- Temperature Convergence Tolerance Value {deltaC}\n",
      "    FullExterior,            !- Solar Distribution\n",
      "    25,                      !- Maximum Number of Warmup Days\n",
      "    6;                       !- Minimum Number of Warmup Days\n",
      "\n",
      "SITE:LOCATION,\n",
      "    CHICAGO_IL_USA TMY2-94846,  !- Name\n",
      "    41.78,                   !- Latitude {deg}\n",
      "    -87.75,                  !- Longitude {deg}\n",
      "    -6.00,                   !- Time Zone {hr}\n",
      "    190.00;                  !- Elevation {m}\n"
     ]
    },
    {
     "cell_type": "markdown",
     "metadata": {},
     "source": [
      "To use eppy to look at this model, we have to run a little code first:"
     ]
    },
    {
     "cell_type": "code",
     "collapsed": false,
     "input": [
      "import modeleditor\n",
      "from modeleditor import IDF\n",
      "\n",
      "iddfile = \"../iddfiles/Energy+V7_2_0.idd\"\n",
      "IDF.setiddname(iddfile)\n",
      "\n",
      "fname1 = \"../idffiles/V_7_2/smallfile.idf\"\n",
      "idf1 = IDF(fname1)"
     ],
     "language": "python",
     "metadata": {},
     "outputs": [],
     "prompt_number": 102
    },
    {
     "cell_type": "markdown",
     "metadata": {},
     "source": [
      "Now that the behind-the-scenes work is done,    \n",
      "we can print the model using this command:\n"
     ]
    },
    {
     "cell_type": "raw",
     "metadata": {},
     "source": [
      " filename.printidf()"
     ]
    },
    {
     "cell_type": "markdown",
     "metadata": {},
     "source": [
      "For this example, we have named the file \"idf1\". So the command looks like this:"
     ]
    },
    {
     "cell_type": "code",
     "collapsed": false,
     "input": [
      "idf1.printidf()"
     ],
     "language": "python",
     "metadata": {},
     "outputs": [
      {
       "output_type": "stream",
       "stream": "stdout",
       "text": [
        "VERSION,\n",
        "     7.3;\n",
        "\n",
        "SIMULATIONCONTROL,\n",
        "     Yes,\n",
        "     Yes,\n",
        "     Yes,\n",
        "     No,\n",
        "     Yes;\n",
        "\n",
        "BUILDING,\n",
        "     White House,\n",
        "     30.0,\n",
        "     City,\n",
        "     0.04,\n",
        "     0.4,\n",
        "     FullExterior,\n",
        "     25,\n",
        "     6;\n",
        "\n",
        "SITE:LOCATION,\n",
        "     CHICAGO_IL_USA TMY2-94846,\n",
        "     41.78,\n",
        "     -87.75,\n",
        "     -6.0,\n",
        "     190.0;\n",
        "\n",
        "\n"
       ]
      }
     ],
     "prompt_number": 103
    },
    {
     "cell_type": "markdown",
     "metadata": {},
     "source": [
      "Looks like the same file as before, except that all the comments have been removed. Well ... this version of eppy is not smart enough to deal with comments. It just removes all of them :-("
     ]
    },
    {
     "cell_type": "markdown",
     "metadata": {},
     "source": [
      "As you can see, this file has four objects:\n",
      "\n",
      "- VERSION\n",
      "- SIMULATIONCONTROL\n",
      "- BUILDING\n",
      "- SITE:LOCATION\n",
      "\n",
      "\n",
      "So, let us look take a closer look at the BUILDING object:"
     ]
    },
    {
     "cell_type": "code",
     "collapsed": false,
     "input": [
      "print idf1.idfobjects['BUILDING']  # put the name of the object you'd like to look at in brackets"
     ],
     "language": "python",
     "metadata": {},
     "outputs": [
      {
       "output_type": "stream",
       "stream": "stdout",
       "text": [
        "[\n",
        "BUILDING,                 \n",
        "    White House,              !- Name\n",
        "    30.0,                     !- North Axis\n",
        "    City,                     !- Terrain\n",
        "    0.04,                     !- Loads Convergence Tolerance Value\n",
        "    0.4,                      !- Temperature Convergence Tolerance Value\n",
        "    FullExterior,             !- Solar Distribution\n",
        "    25,                       !- Maximum Number of Warmup Days\n",
        "    6;                        !- Minimum Number of Warmup Days\n",
        "]\n"
       ]
      }
     ],
     "prompt_number": 104
    },
    {
     "cell_type": "markdown",
     "metadata": {},
     "source": [
      "We can also zoom in on the object and look just at its individual parts.  \n",
      "For example, let us look at the name of the building:"
     ]
    },
    {
     "cell_type": "code",
     "collapsed": false,
     "input": [
      "building = idf1.idfobjects['BUILDING'][0] # more behind-the-scenes work\n",
      "                                          # we'll explain the [0] later"
     ],
     "language": "python",
     "metadata": {},
     "outputs": [],
     "prompt_number": 105
    },
    {
     "cell_type": "code",
     "collapsed": false,
     "input": [
      "print building.Name"
     ],
     "language": "python",
     "metadata": {},
     "outputs": [
      {
       "output_type": "stream",
       "stream": "stdout",
       "text": [
        "White House\n"
       ]
      }
     ],
     "prompt_number": 106
    },
    {
     "cell_type": "markdown",
     "metadata": {},
     "source": [
      "Now that we've isolated the building name, we can change it."
     ]
    },
    {
     "cell_type": "code",
     "collapsed": false,
     "input": [
      "building.Name = \"Empire State Building\""
     ],
     "language": "python",
     "metadata": {},
     "outputs": [],
     "prompt_number": 107
    },
    {
     "cell_type": "code",
     "collapsed": false,
     "input": [
      "print building.Name"
     ],
     "language": "python",
     "metadata": {},
     "outputs": [
      {
       "output_type": "stream",
       "stream": "stdout",
       "text": [
        "Empire State Building\n"
       ]
      }
     ],
     "prompt_number": 108
    },
    {
     "cell_type": "markdown",
     "metadata": {},
     "source": [
      "Did this actually change the name in the model ? Let us print the entire model and see."
     ]
    },
    {
     "cell_type": "code",
     "collapsed": false,
     "input": [
      "idf1.printidf()"
     ],
     "language": "python",
     "metadata": {},
     "outputs": [
      {
       "output_type": "stream",
       "stream": "stdout",
       "text": [
        "VERSION,\n",
        "     7.3;\n",
        "\n",
        "SIMULATIONCONTROL,\n",
        "     Yes,\n",
        "     Yes,\n",
        "     Yes,\n",
        "     No,\n",
        "     Yes;\n",
        "\n",
        "BUILDING,\n",
        "     Empire State Building,\n",
        "     30.0,\n",
        "     City,\n",
        "     0.04,\n",
        "     0.4,\n",
        "     FullExterior,\n",
        "     25,\n",
        "     6;\n",
        "\n",
        "SITE:LOCATION,\n",
        "     CHICAGO_IL_USA TMY2-94846,\n",
        "     41.78,\n",
        "     -87.75,\n",
        "     -6.0,\n",
        "     190.0;\n",
        "\n",
        "\n"
       ]
      }
     ],
     "prompt_number": 109
    },
    {
     "cell_type": "markdown",
     "metadata": {},
     "source": [
      "Yes! It did. So we know we can change any field in any object. "
     ]
    },
    {
     "cell_type": "markdown",
     "metadata": {},
     "source": [
      "Energyplus models are made up of objects such as \"BUILDING\", \"SITE:LOCATION\", \"ZONE\", \"PEOPLE\", \"LIGHTS\".   \n",
      "There can be a number of \"ZONE\" objects, a number of \"PEOPLE\" objects and a number of \"LIGHTS\" object.   \n",
      "\n",
      " \n"
     ]
    },
    {
     "cell_type": "code",
     "collapsed": false,
     "input": [
      "# There may be a number of BUILDING objects\n",
      "idf1.idfobjects['BUILDING']\n",
      "# this finds all the objects in the model that are BUILDING objects  \n",
      "# buildings is a list of objects\n",
      "# a list is a data structure from python"
     ],
     "language": "python",
     "metadata": {},
     "outputs": [
      {
       "output_type": "pyout",
       "prompt_number": 110,
       "text": [
        "[\n",
        "BUILDING,                 \n",
        "    Empire State Building,    !- Name\n",
        "    30.0,                     !- North Axis\n",
        "    City,                     !- Terrain\n",
        "    0.04,                     !- Loads Convergence Tolerance Value\n",
        "    0.4,                      !- Temperature Convergence Tolerance Value\n",
        "    FullExterior,             !- Solar Distribution\n",
        "    25,                       !- Maximum Number of Warmup Days\n",
        "    6;                        !- Minimum Number of Warmup Days\n",
        "]"
       ]
      }
     ],
     "prompt_number": 110
    },
    {
     "cell_type": "heading",
     "level": 2,
     "metadata": {},
     "source": [
      "A message from the world of python - (about lists)"
     ]
    },
    {
     "cell_type": "markdown",
     "metadata": {},
     "source": [
      "Eppy holds these objects in a python structure called list.   \n",
      "Let us take a look at how lists work in python. "
     ]
    },
    {
     "cell_type": "code",
     "collapsed": false,
     "input": [
      "fruits = [\"apple\", \"orange\", \"bannana\"] \n",
      "# fruits is a list with three items in it."
     ],
     "language": "python",
     "metadata": {},
     "outputs": [],
     "prompt_number": 111
    },
    {
     "cell_type": "markdown",
     "metadata": {},
     "source": [
      "To get the first item in fruits we say: "
     ]
    },
    {
     "cell_type": "code",
     "collapsed": false,
     "input": [
      "fruits[0]  \n"
     ],
     "language": "python",
     "metadata": {},
     "outputs": [
      {
       "output_type": "pyout",
       "prompt_number": 112,
       "text": [
        "'apple'"
       ]
      }
     ],
     "prompt_number": 112
    },
    {
     "cell_type": "markdown",
     "metadata": {},
     "source": [
      "Why \"0\" ?  \n",
      "Because, unlike us, python starts counting from zero in a list.  \n",
      "So, to get the third item in the list we'd need to input 2, like this:"
     ]
    },
    {
     "cell_type": "code",
     "collapsed": false,
     "input": [
      "print fruits[2]"
     ],
     "language": "python",
     "metadata": {},
     "outputs": [
      {
       "output_type": "stream",
       "stream": "stdout",
       "text": [
        "bannana\n"
       ]
      }
     ],
     "prompt_number": 113
    },
    {
     "cell_type": "markdown",
     "metadata": {},
     "source": [
      "But calling the first fruit \"fruit[0]\" is rather cumbersome.  \n",
      "Why don't we call it firstfruit?  "
     ]
    },
    {
     "cell_type": "code",
     "collapsed": false,
     "input": [
      "firstfruit = fruits[0]\n",
      "print firstfruit"
     ],
     "language": "python",
     "metadata": {},
     "outputs": [
      {
       "output_type": "stream",
       "stream": "stdout",
       "text": [
        "apple\n"
       ]
      }
     ],
     "prompt_number": 114
    },
    {
     "cell_type": "markdown",
     "metadata": {},
     "source": [
      "We also can say"
     ]
    },
    {
     "cell_type": "code",
     "collapsed": false,
     "input": [
      "goodfruit = fruits[0]\n",
      "redfruit = fruits[0]\n",
      "\n",
      "print firstfruit\n",
      "print goodfruit\n",
      "print redfruit\n",
      "print fruits[0]"
     ],
     "language": "python",
     "metadata": {},
     "outputs": [
      {
       "output_type": "stream",
       "stream": "stdout",
       "text": [
        "apple\n",
        "apple\n",
        "apple\n",
        "apple\n"
       ]
      }
     ],
     "prompt_number": 115
    },
    {
     "cell_type": "markdown",
     "metadata": {},
     "source": [
      " As you see, we can call that item in the list whatever we want.  "
     ]
    },
    {
     "cell_type": "heading",
     "level": 4,
     "metadata": {},
     "source": [
      "How many items in the list"
     ]
    },
    {
     "cell_type": "markdown",
     "metadata": {},
     "source": [
      "To know how many items are in a list, we ask for the length of the list.  \n",
      "The function 'len' will do this for us."
     ]
    },
    {
     "cell_type": "code",
     "collapsed": false,
     "input": [
      "print len(fruits)"
     ],
     "language": "python",
     "metadata": {},
     "outputs": [
      {
       "output_type": "stream",
       "stream": "stdout",
       "text": [
        "3\n"
       ]
      }
     ],
     "prompt_number": 116
    },
    {
     "cell_type": "markdown",
     "metadata": {},
     "source": [
      "There are 3 fruits in the list."
     ]
    },
    {
     "cell_type": "heading",
     "level": 3,
     "metadata": {},
     "source": [
      "Back to the pyeplus documentation"
     ]
    },
    {
     "cell_type": "code",
     "collapsed": false,
     "input": [
      "# There may be a number of BUILDING objects\n",
      "buildings = model[\"BUILDING\"] \n",
      "# finds all the objects in the model that are BUILDING objects  "
     ],
     "language": "python",
     "metadata": {},
     "outputs": [],
     "prompt_number": 117
    },
    {
     "cell_type": "markdown",
     "metadata": {},
     "source": [
      "\"buildings\" is a list with many \"BUILDING\" objects  \n",
      "We can get the first item in the list by  "
     ]
    },
    {
     "cell_type": "code",
     "collapsed": false,
     "input": [
      "building = buildings[0]"
     ],
     "language": "python",
     "metadata": {},
     "outputs": [
      {
       "ename": "IndexError",
       "evalue": "list index out of range",
       "output_type": "pyerr",
       "traceback": [
        "\u001b[0;31m---------------------------------------------------------------------------\u001b[0m\n\u001b[0;31mIndexError\u001b[0m                                Traceback (most recent call last)",
        "\u001b[0;32m<ipython-input-118-4d8b64fb1019>\u001b[0m in \u001b[0;36m<module>\u001b[0;34m()\u001b[0m\n\u001b[0;32m----> 1\u001b[0;31m \u001b[0mbuilding\u001b[0m \u001b[0;34m=\u001b[0m \u001b[0mbuildings\u001b[0m\u001b[0;34m[\u001b[0m\u001b[0;36m0\u001b[0m\u001b[0;34m]\u001b[0m\u001b[0;34m\u001b[0m\u001b[0m\n\u001b[0m",
        "\u001b[0;31mIndexError\u001b[0m: list index out of range"
       ]
      }
     ],
     "prompt_number": 118
    },
    {
     "cell_type": "markdown",
     "metadata": {},
     "source": [
      "We know that in a E+ model, there will be only ONE \"BUILDING\" object. This will be the first and only item in the list \"buildings\".  \n",
      " \n",
      "Earlier we changed building.Name from \"White House\" to \"Empire State Building\".  "
     ]
    },
    {
     "cell_type": "code",
     "collapsed": false,
     "input": [
      "print building.Name"
     ],
     "language": "python",
     "metadata": {},
     "outputs": []
    },
    {
     "cell_type": "markdown",
     "metadata": {},
     "source": [
      "\"Name\" is one of the fields in \"building\".  \n",
      "How did we know this?  \n",
      "\n",
      "Are there other fields?  \n",
      "What are they called?\n",
      "\n",
      "Let us take a look at the \"IDF Editor\"."
     ]
    },
    {
     "cell_type": "code",
     "collapsed": false,
     "input": [
      "import ex_inits\n",
      "for_images = ex_inits# initializes the images used in this documentation\n",
      "for_images.display_png(for_images.idfeditor) # show the image below"
     ],
     "language": "python",
     "metadata": {},
     "outputs": []
    },
    {
     "cell_type": "markdown",
     "metadata": {},
     "source": [
      "In the IDF Editor, the building object is selected.  \n",
      "We can see all the fields of the object \"BUILDING\".  \n",
      "They are: \n",
      "\n",
      "- Name\n",
      "- North Axis\n",
      "- Terrain\n",
      "- Loads Convergence Tolerance Value\n",
      "- Temperature Convergence Tolerance Value\n",
      "- Solar Distribution\n",
      "- Maximum Number of Warmup Days\n",
      "- Minimum Number of Warmup Days\n",
      "\n",
      "Let us try to access the other fields"
     ]
    },
    {
     "cell_type": "code",
     "collapsed": false,
     "input": [
      "print building.Terrain"
     ],
     "language": "python",
     "metadata": {},
     "outputs": []
    },
    {
     "cell_type": "markdown",
     "metadata": {},
     "source": [
      "How about the field \"North Axis\" ?\n",
      "It is not a single word, but two words.  \n",
      "In a programming language, a varaible has to be a single word without any spaces.  \n",
      "\n",
      "To solve this problem, peplus expects an underscore where there is a space.  \n",
      "So \"North Axis\" becomes \"North_Axis\"."
     ]
    },
    {
     "cell_type": "code",
     "collapsed": false,
     "input": [
      "print building.North_Axis"
     ],
     "language": "python",
     "metadata": {},
     "outputs": []
    },
    {
     "cell_type": "markdown",
     "metadata": {},
     "source": [
      "Now we can do:"
     ]
    },
    {
     "cell_type": "code",
     "collapsed": false,
     "input": [
      "print building.Name\n",
      "print building.North_Axis\n",
      "print building.Terrain\n",
      "print building.Loads_Convergence_Tolerance_Value\n",
      "print building.Temperature_Convergence_Tolerance_Value\n",
      "print building.Solar_Distribution\n",
      "print building.Maximum_Number_of_Warmup_Days\n",
      "print building.Minimum_Number_of_Warmup_Days"
     ],
     "language": "python",
     "metadata": {},
     "outputs": []
    },
    {
     "cell_type": "markdown",
     "metadata": {},
     "source": [
      "Where else can we find the field names?  \n",
      "The IDF Editor saves the idf file with the field name commented next to field.  \n",
      "Let us take a look at the \"BUILDING\" object in the text file that the IDF Editor saves"
     ]
    },
    {
     "cell_type": "raw",
     "metadata": {},
     "source": [
      "BUILDING,\n",
      "    White House,             !- Name\n",
      "    30.,                     !- North Axis {deg}\n",
      "    City,                    !- Terrain\n",
      "    0.04,                    !- Loads Convergence Tolerance Value\n",
      "    0.4,                     !- Temperature Convergence Tolerance Value {deltaC}\n",
      "    FullExterior,            !- Solar Distribution\n",
      "    25,                      !- Maximum Number of Warmup Days\n",
      "    6;                       !- Minimum Number of Warmup Days"
     ]
    },
    {
     "cell_type": "markdown",
     "metadata": {},
     "source": [
      "This a good place to find the field names too. \n",
      "It is easy to copy and paste from here. You can't do that from the IDF Editor."
     ]
    },
    {
     "cell_type": "heading",
     "level": 2,
     "metadata": {},
     "source": [
      "Saving an idf file"
     ]
    },
    {
     "cell_type": "markdown",
     "metadata": {},
     "source": [
      "This is easy:"
     ]
    },
    {
     "cell_type": "code",
     "collapsed": false,
     "input": [
      "model.save() "
     ],
     "language": "python",
     "metadata": {},
     "outputs": []
    },
    {
     "cell_type": "markdown",
     "metadata": {},
     "source": [
      "If you'd like to do a \"Save as...\" use this:"
     ]
    },
    {
     "cell_type": "code",
     "collapsed": false,
     "input": [
      "model.saveas('something.idf')"
     ],
     "language": "python",
     "metadata": {},
     "outputs": []
    },
    {
     "cell_type": "code",
     "collapsed": false,
     "input": [
      "# and we write it to a file.\n",
      "filename = \"model.idf\"\n",
      "open(filename, 'w').write(idftext) # viola ! it is done."
     ],
     "language": "python",
     "metadata": {},
     "outputs": []
    },
    {
     "cell_type": "heading",
     "level": 2,
     "metadata": {},
     "source": [
      "Working with E+ objects"
     ]
    },
    {
     "cell_type": "markdown",
     "metadata": {},
     "source": [
      "Let us open a small idf file that has only \"CONSTRUCTION\" and \"MATERIAL\" objects in it.  \n",
      "You can go into \"../idffiles/V_7_2/constructions.idf\" and take a look at the file.   \n",
      "We are not printing it here because it is too big.  \n",
      "\n",
      "So let us open it using the idfreader"
     ]
    },
    {
     "cell_type": "code",
     "collapsed": false,
     "input": [
      "from idfreader import idfreader\n",
      "\n",
      "iddfile = \"../iddfiles/Energy+V7_2_0.idd\" # You can work on any version of E+. Just use the appropiate idd file\n",
      "idf_filename = \"../idffiles/V_7_2/constructions.idf\" # This is the idf file you are going to work on\n",
      " \n",
      "\n",
      "model, to_print, idd_info = idfreader(idf_filename, iddfile) # reads the idf file here\n"
     ],
     "language": "python",
     "metadata": {},
     "outputs": []
    },
    {
     "cell_type": "code",
     "collapsed": false,
     "input": [
      "print model_2"
     ],
     "language": "python",
     "metadata": {},
     "outputs": []
    },
    {
     "cell_type": "markdown",
     "metadata": {},
     "source": [
      "Let us get all the \"MATERIAL\" objects in this model"
     ]
    },
    {
     "cell_type": "code",
     "collapsed": false,
     "input": [
      "materials = model_2.idfobjects[\"MATERIAL\"]"
     ],
     "language": "python",
     "metadata": {},
     "outputs": []
    },
    {
     "cell_type": "markdown",
     "metadata": {},
     "source": [
      "There are many material objects in this idf file.  \n",
      "materials now contains a list of \"MATERIAL\" objects.  \n",
      "You already know a little about lists, so let us take a look at the items in this list.  "
     ]
    },
    {
     "cell_type": "code",
     "collapsed": false,
     "input": [
      "firstmaterial = materials[0]\n",
      "secondmaterial = materials[1]"
     ],
     "language": "python",
     "metadata": {},
     "outputs": []
    },
    {
     "cell_type": "code",
     "collapsed": false,
     "input": [
      "print firstmaterial"
     ],
     "language": "python",
     "metadata": {},
     "outputs": []
    },
    {
     "cell_type": "markdown",
     "metadata": {},
     "source": [
      "hey ! I thought it could not print the comments.  \n",
      "Well .... each object is smart enough to print the comments, but the entire model is not :-(\n",
      "\n",
      "Let us print secondmaterial"
     ]
    },
    {
     "cell_type": "code",
     "collapsed": false,
     "input": [
      "print secondmaterial"
     ],
     "language": "python",
     "metadata": {},
     "outputs": []
    },
    {
     "cell_type": "markdown",
     "metadata": {},
     "source": [
      "This is awesome!! Why?  \n",
      "To understand what you can do with your objects organized as lists, you'll have to learn a little more about lists."
     ]
    },
    {
     "cell_type": "heading",
     "level": 3,
     "metadata": {},
     "source": [
      "Python again: more about lists"
     ]
    },
    {
     "cell_type": "heading",
     "level": 4,
     "metadata": {},
     "source": [
      "More ways to access items in a list"
     ]
    },
    {
     "cell_type": "markdown",
     "metadata": {},
     "source": [
      "You should remember that you can access any item in a list by passing in its index.  \n",
      "The tricky part is that python starts counting at 0, so you need to input 0 in order to get the first item in a list.   \n",
      "Following the same logic, you need to input 3 in order to get the fourth item on the list. Like so:"
     ]
    },
    {
     "cell_type": "code",
     "collapsed": false,
     "input": [
      "bad_architects = [\"Donald Trump\", \"Mick Jagger\", \"Steve Jobs\", \"Lady Gaga\", \"Santa Clause\"]\n",
      "print bad_architects[3]"
     ],
     "language": "python",
     "metadata": {},
     "outputs": []
    },
    {
     "cell_type": "markdown",
     "metadata": {},
     "source": [
      "But there's another way to access items in a list. If you input -1, it will return the last item. -2 will give you the second-to-last item, etc."
     ]
    },
    {
     "cell_type": "code",
     "collapsed": false,
     "input": [
      "print bad_architects[-1]\n",
      "print bad_architects[-2]"
     ],
     "language": "python",
     "metadata": {},
     "outputs": []
    },
    {
     "cell_type": "heading",
     "level": 4,
     "metadata": {},
     "source": [
      "Slicing a list"
     ]
    },
    {
     "cell_type": "markdown",
     "metadata": {},
     "source": [
      "You can also get more than one item in a list:\n"
     ]
    },
    {
     "cell_type": "raw",
     "metadata": {},
     "source": [
      "bad_architects[first_slice:second_slice]"
     ]
    },
    {
     "cell_type": "code",
     "collapsed": false,
     "input": [
      "print bad_architects[1:3] # slices at 1 and 3"
     ],
     "language": "python",
     "metadata": {},
     "outputs": []
    },
    {
     "cell_type": "markdown",
     "metadata": {},
     "source": [
      "How do I make sense of this?  \n",
      "To understand this you need to see the list in the following manner:"
     ]
    },
    {
     "cell_type": "raw",
     "metadata": {},
     "source": [
      "[ \"Donald Trump\", \"Mick Jagger\", \"Steve Jobs\", \"Lady Gaga\", \"Santa Clause\" ]\n",
      " ^               ^              ^             ^            ^              ^\n",
      " 0               1              2             3            4              5\n",
      "-5              -4             -3            -2           -1"
     ]
    },
    {
     "cell_type": "markdown",
     "metadata": {},
     "source": [
      "The slice operation bad_architects[1:3] slices right where the numbers are.  \n",
      "Does that make sense?"
     ]
    },
    {
     "cell_type": "markdown",
     "metadata": {},
     "source": [
      "Let us try a few other slices:"
     ]
    },
    {
     "cell_type": "code",
     "collapsed": false,
     "input": [
      "print bad_architects[2:-1] # slices at 2 and -1\n",
      "print bad_architects[-3:-1] # slices at -3 and -1"
     ],
     "language": "python",
     "metadata": {},
     "outputs": []
    },
    {
     "cell_type": "markdown",
     "metadata": {},
     "source": [
      "You can also slice in the following way:"
     ]
    },
    {
     "cell_type": "code",
     "collapsed": false,
     "input": [
      "print bad_architects[3:] \n",
      "print bad_architects[:2] \n",
      "print bad_architects[-3:] \n",
      "print bad_architects[:-2] "
     ],
     "language": "python",
     "metadata": {},
     "outputs": [
      {
       "ename": "NameError",
       "evalue": "name 'bad_architects' is not defined",
       "output_type": "pyerr",
       "traceback": [
        "\u001b[0;31m---------------------------------------------------------------------------\u001b[0m\n\u001b[0;31mNameError\u001b[0m                                 Traceback (most recent call last)",
        "\u001b[0;32m<ipython-input-119-c90768983b07>\u001b[0m in \u001b[0;36m<module>\u001b[0;34m()\u001b[0m\n\u001b[0;32m----> 1\u001b[0;31m \u001b[0;32mprint\u001b[0m \u001b[0mbad_architects\u001b[0m\u001b[0;34m[\u001b[0m\u001b[0;36m3\u001b[0m\u001b[0;34m:\u001b[0m\u001b[0;34m]\u001b[0m\u001b[0;34m\u001b[0m\u001b[0m\n\u001b[0m\u001b[1;32m      2\u001b[0m \u001b[0;32mprint\u001b[0m \u001b[0mbad_architects\u001b[0m\u001b[0;34m[\u001b[0m\u001b[0;34m:\u001b[0m\u001b[0;36m2\u001b[0m\u001b[0;34m]\u001b[0m\u001b[0;34m\u001b[0m\u001b[0m\n\u001b[1;32m      3\u001b[0m \u001b[0;32mprint\u001b[0m \u001b[0mbad_architects\u001b[0m\u001b[0;34m[\u001b[0m\u001b[0;34m-\u001b[0m\u001b[0;36m3\u001b[0m\u001b[0;34m:\u001b[0m\u001b[0;34m]\u001b[0m\u001b[0;34m\u001b[0m\u001b[0m\n\u001b[1;32m      4\u001b[0m \u001b[0;32mprint\u001b[0m \u001b[0mbad_architects\u001b[0m\u001b[0;34m[\u001b[0m\u001b[0;34m:\u001b[0m\u001b[0;34m-\u001b[0m\u001b[0;36m2\u001b[0m\u001b[0;34m]\u001b[0m\u001b[0;34m\u001b[0m\u001b[0m\n",
        "\u001b[0;31mNameError\u001b[0m: name 'bad_architects' is not defined"
       ]
      }
     ],
     "prompt_number": 119
    },
    {
     "cell_type": "markdown",
     "metadata": {},
     "source": [
      "I'll let you figure that out on your own."
     ]
    },
    {
     "cell_type": "heading",
     "level": 4,
     "metadata": {},
     "source": [
      "Adding to a list"
     ]
    },
    {
     "cell_type": "markdown",
     "metadata": {},
     "source": [
      "This is simple: the append function adds an item to the end of the list.  \n",
      "The following command will add 'something' to the end of the list called listname:"
     ]
    },
    {
     "cell_type": "raw",
     "metadata": {},
     "source": [
      "listname.append(something)"
     ]
    },
    {
     "cell_type": "code",
     "collapsed": false,
     "input": [
      "bad_architects.append(\"First-year students\")\n",
      "print bad_architects"
     ],
     "language": "python",
     "metadata": {},
     "outputs": [
      {
       "ename": "NameError",
       "evalue": "name 'bad_architects' is not defined",
       "output_type": "pyerr",
       "traceback": [
        "\u001b[0;31m---------------------------------------------------------------------------\u001b[0m\n\u001b[0;31mNameError\u001b[0m                                 Traceback (most recent call last)",
        "\u001b[0;32m<ipython-input-120-0842707ff179>\u001b[0m in \u001b[0;36m<module>\u001b[0;34m()\u001b[0m\n\u001b[0;32m----> 1\u001b[0;31m \u001b[0mbad_architects\u001b[0m\u001b[0;34m.\u001b[0m\u001b[0mappend\u001b[0m\u001b[0;34m(\u001b[0m\u001b[0;34m\"First-year students\"\u001b[0m\u001b[0;34m)\u001b[0m\u001b[0;34m\u001b[0m\u001b[0m\n\u001b[0m\u001b[1;32m      2\u001b[0m \u001b[0;32mprint\u001b[0m \u001b[0mbad_architects\u001b[0m\u001b[0;34m\u001b[0m\u001b[0m\n",
        "\u001b[0;31mNameError\u001b[0m: name 'bad_architects' is not defined"
       ]
      }
     ],
     "prompt_number": 120
    },
    {
     "cell_type": "heading",
     "level": 4,
     "metadata": {},
     "source": [
      "Deleting from a list"
     ]
    },
    {
     "cell_type": "markdown",
     "metadata": {},
     "source": [
      "There are two ways to do this, based on the information you have. If you have the value of the object, you'll want to use the remove function. It looks like this:  \n"
     ]
    },
    {
     "cell_type": "raw",
     "metadata": {},
     "source": [
      "listname.remove(value) "
     ]
    },
    {
     "cell_type": "markdown",
     "metadata": {},
     "source": [
      "An example:"
     ]
    },
    {
     "cell_type": "code",
     "collapsed": false,
     "input": [
      "bad_architects.remove(\"First-year students\")\n",
      "print bad_architects"
     ],
     "language": "python",
     "metadata": {},
     "outputs": [
      {
       "ename": "NameError",
       "evalue": "name 'bad_architects' is not defined",
       "output_type": "pyerr",
       "traceback": [
        "\u001b[0;31m---------------------------------------------------------------------------\u001b[0m\n\u001b[0;31mNameError\u001b[0m                                 Traceback (most recent call last)",
        "\u001b[0;32m<ipython-input-121-6cc989ba7c0b>\u001b[0m in \u001b[0;36m<module>\u001b[0;34m()\u001b[0m\n\u001b[0;32m----> 1\u001b[0;31m \u001b[0mbad_architects\u001b[0m\u001b[0;34m.\u001b[0m\u001b[0mremove\u001b[0m\u001b[0;34m(\u001b[0m\u001b[0;34m\"First-year students\"\u001b[0m\u001b[0;34m)\u001b[0m\u001b[0;34m\u001b[0m\u001b[0m\n\u001b[0m\u001b[1;32m      2\u001b[0m \u001b[0;32mprint\u001b[0m \u001b[0mbad_architects\u001b[0m\u001b[0;34m\u001b[0m\u001b[0m\n",
        "\u001b[0;31mNameError\u001b[0m: name 'bad_architects' is not defined"
       ]
      }
     ],
     "prompt_number": 121
    },
    {
     "cell_type": "markdown",
     "metadata": {},
     "source": [
      "What if you know the index of the item you want to remove?   \n",
      "What if you appended an item by mistake and just want to remove the last item in the list?   \n",
      "You should use the pop function. It looks like this:"
     ]
    },
    {
     "cell_type": "raw",
     "metadata": {},
     "source": [
      "listname.pop(index)"
     ]
    },
    {
     "cell_type": "code",
     "collapsed": false,
     "input": [
      "what_i_ate_today = [\"coffee\", \"bacon\", \"eggs\"]\n",
      "print what_i_ate_today"
     ],
     "language": "python",
     "metadata": {},
     "outputs": [
      {
       "output_type": "stream",
       "stream": "stdout",
       "text": [
        "['coffee', 'bacon', 'eggs']\n"
       ]
      }
     ],
     "prompt_number": 122
    },
    {
     "cell_type": "code",
     "collapsed": false,
     "input": [
      "what_i_ate_today.append(\"vegetables\") # adds vegetables to the end of the list\n",
      "# but I don't like vegetables\n",
      "print what_i_ate_today"
     ],
     "language": "python",
     "metadata": {},
     "outputs": [
      {
       "output_type": "stream",
       "stream": "stdout",
       "text": [
        "['coffee', 'bacon', 'eggs', 'vegetables']\n"
       ]
      }
     ],
     "prompt_number": 123
    },
    {
     "cell_type": "code",
     "collapsed": false,
     "input": [
      "# since I don't like vegetables\n",
      "what_i_ate_today.pop(-1) # use index of -1, since vegetables is the last item in the list\n",
      "print what_i_ate_today"
     ],
     "language": "python",
     "metadata": {},
     "outputs": [
      {
       "output_type": "stream",
       "stream": "stdout",
       "text": [
        "['coffee', 'bacon', 'eggs']\n"
       ]
      }
     ],
     "prompt_number": 124
    },
    {
     "cell_type": "markdown",
     "metadata": {},
     "source": [
      "You can also remove the second item."
     ]
    },
    {
     "cell_type": "code",
     "collapsed": false,
     "input": [
      "what_i_ate_today.pop(1)"
     ],
     "language": "python",
     "metadata": {},
     "outputs": [
      {
       "output_type": "pyout",
       "prompt_number": 125,
       "text": [
        "'bacon'"
       ]
      }
     ],
     "prompt_number": 125
    },
    {
     "cell_type": "markdown",
     "metadata": {},
     "source": [
      "Notice the 'bacon' in the line above.   \n",
      "pop actually 'pops' the value (the one you just removed from the list) back to you.  \n",
      "\n",
      "Let us pop the first item."
     ]
    },
    {
     "cell_type": "code",
     "collapsed": false,
     "input": [
      "was_first_item = what_i_ate_today.pop(0)\n",
      "print 'was_first_item =', was_first_item\n",
      "print 'what_i_ate_today = ', what_i_ate_today"
     ],
     "language": "python",
     "metadata": {},
     "outputs": [
      {
       "output_type": "stream",
       "stream": "stdout",
       "text": [
        "was_first_item = coffee\n",
        "what_i_ate_today =  ['eggs']\n"
       ]
      }
     ],
     "prompt_number": 126
    },
    {
     "cell_type": "markdown",
     "metadata": {},
     "source": [
      "what_i_ate_today is just 'eggs'?  \n",
      "That is not much of a breakfast!  \n",
      "\n",
      "Let us get back to eppy."
     ]
    },
    {
     "cell_type": "heading",
     "level": 3,
     "metadata": {},
     "source": [
      "Continuing to work with E+ objects"
     ]
    },
    {
     "cell_type": "markdown",
     "metadata": {},
     "source": [
      "Let us get those \"MATERIAL\" objects again"
     ]
    },
    {
     "cell_type": "code",
     "collapsed": false,
     "input": [
      "materials = model_2[\"MATERIAL\"]"
     ],
     "language": "python",
     "metadata": {},
     "outputs": [
      {
       "ename": "NameError",
       "evalue": "name 'model_2' is not defined",
       "output_type": "pyerr",
       "traceback": [
        "\u001b[0;31m---------------------------------------------------------------------------\u001b[0m\n\u001b[0;31mNameError\u001b[0m                                 Traceback (most recent call last)",
        "\u001b[0;32m<ipython-input-127-d0ae0b99f2bf>\u001b[0m in \u001b[0;36m<module>\u001b[0;34m()\u001b[0m\n\u001b[0;32m----> 1\u001b[0;31m \u001b[0mmaterials\u001b[0m \u001b[0;34m=\u001b[0m \u001b[0mmodel_2\u001b[0m\u001b[0;34m[\u001b[0m\u001b[0;34m\"MATERIAL\"\u001b[0m\u001b[0;34m]\u001b[0m\u001b[0;34m\u001b[0m\u001b[0m\n\u001b[0m",
        "\u001b[0;31mNameError\u001b[0m: name 'model_2' is not defined"
       ]
      }
     ],
     "prompt_number": 127
    },
    {
     "cell_type": "markdown",
     "metadata": {},
     "source": [
      "With our newfound knowledge of lists, we can do a lot of things.  \n",
      "Let us get the last material:"
     ]
    },
    {
     "cell_type": "code",
     "collapsed": false,
     "input": [
      "print materials[-1]"
     ],
     "language": "python",
     "metadata": {},
     "outputs": [
      {
       "ename": "NameError",
       "evalue": "name 'materials' is not defined",
       "output_type": "pyerr",
       "traceback": [
        "\u001b[0;31m---------------------------------------------------------------------------\u001b[0m\n\u001b[0;31mNameError\u001b[0m                                 Traceback (most recent call last)",
        "\u001b[0;32m<ipython-input-128-b95e855cbad2>\u001b[0m in \u001b[0;36m<module>\u001b[0;34m()\u001b[0m\n\u001b[0;32m----> 1\u001b[0;31m \u001b[0;32mprint\u001b[0m \u001b[0mmaterials\u001b[0m\u001b[0;34m[\u001b[0m\u001b[0;34m-\u001b[0m\u001b[0;36m1\u001b[0m\u001b[0;34m]\u001b[0m\u001b[0;34m\u001b[0m\u001b[0m\n\u001b[0m",
        "\u001b[0;31mNameError\u001b[0m: name 'materials' is not defined"
       ]
      }
     ],
     "prompt_number": 128
    },
    {
     "cell_type": "markdown",
     "metadata": {},
     "source": [
      "How about the last two?"
     ]
    },
    {
     "cell_type": "code",
     "collapsed": false,
     "input": [
      "print materials[-2:]"
     ],
     "language": "python",
     "metadata": {},
     "outputs": [
      {
       "ename": "NameError",
       "evalue": "name 'materials' is not defined",
       "output_type": "pyerr",
       "traceback": [
        "\u001b[0;31m---------------------------------------------------------------------------\u001b[0m\n\u001b[0;31mNameError\u001b[0m                                 Traceback (most recent call last)",
        "\u001b[0;32m<ipython-input-129-0e85dcff9977>\u001b[0m in \u001b[0;36m<module>\u001b[0;34m()\u001b[0m\n\u001b[0;32m----> 1\u001b[0;31m \u001b[0;32mprint\u001b[0m \u001b[0mmaterials\u001b[0m\u001b[0;34m[\u001b[0m\u001b[0;34m-\u001b[0m\u001b[0;36m2\u001b[0m\u001b[0;34m:\u001b[0m\u001b[0;34m]\u001b[0m\u001b[0;34m\u001b[0m\u001b[0m\n\u001b[0m",
        "\u001b[0;31mNameError\u001b[0m: name 'materials' is not defined"
       ]
      }
     ],
     "prompt_number": 129
    },
    {
     "cell_type": "markdown",
     "metadata": {},
     "source": [
      "Pretty good."
     ]
    },
    {
     "cell_type": "heading",
     "level": 4,
     "metadata": {},
     "source": [
      "Counting all the materials ( or counting all objects )"
     ]
    },
    {
     "cell_type": "markdown",
     "metadata": {},
     "source": [
      "How many materials are in this model ?"
     ]
    },
    {
     "cell_type": "code",
     "collapsed": false,
     "input": [
      "print len(materials)"
     ],
     "language": "python",
     "metadata": {},
     "outputs": [
      {
       "ename": "NameError",
       "evalue": "name 'materials' is not defined",
       "output_type": "pyerr",
       "traceback": [
        "\u001b[0;31m---------------------------------------------------------------------------\u001b[0m\n\u001b[0;31mNameError\u001b[0m                                 Traceback (most recent call last)",
        "\u001b[0;32m<ipython-input-130-d830c2be87a1>\u001b[0m in \u001b[0;36m<module>\u001b[0;34m()\u001b[0m\n\u001b[0;32m----> 1\u001b[0;31m \u001b[0;32mprint\u001b[0m \u001b[0mlen\u001b[0m\u001b[0;34m(\u001b[0m\u001b[0mmaterials\u001b[0m\u001b[0;34m)\u001b[0m\u001b[0;34m\u001b[0m\u001b[0m\n\u001b[0m",
        "\u001b[0;31mNameError\u001b[0m: name 'materials' is not defined"
       ]
      }
     ],
     "prompt_number": 130
    },
    {
     "cell_type": "heading",
     "level": 4,
     "metadata": {},
     "source": [
      "Removing a material"
     ]
    },
    {
     "cell_type": "markdown",
     "metadata": {},
     "source": [
      "Let us remove the last material in the list"
     ]
    },
    {
     "cell_type": "code",
     "collapsed": false,
     "input": [
      "was_last_material = materials.pop(-1)"
     ],
     "language": "python",
     "metadata": {},
     "outputs": [
      {
       "ename": "NameError",
       "evalue": "name 'materials' is not defined",
       "output_type": "pyerr",
       "traceback": [
        "\u001b[0;31m---------------------------------------------------------------------------\u001b[0m\n\u001b[0;31mNameError\u001b[0m                                 Traceback (most recent call last)",
        "\u001b[0;32m<ipython-input-131-d3daef2e738d>\u001b[0m in \u001b[0;36m<module>\u001b[0;34m()\u001b[0m\n\u001b[0;32m----> 1\u001b[0;31m \u001b[0mwas_last_material\u001b[0m \u001b[0;34m=\u001b[0m \u001b[0mmaterials\u001b[0m\u001b[0;34m.\u001b[0m\u001b[0mpop\u001b[0m\u001b[0;34m(\u001b[0m\u001b[0;34m-\u001b[0m\u001b[0;36m1\u001b[0m\u001b[0;34m)\u001b[0m\u001b[0;34m\u001b[0m\u001b[0m\n\u001b[0m",
        "\u001b[0;31mNameError\u001b[0m: name 'materials' is not defined"
       ]
      }
     ],
     "prompt_number": 131
    },
    {
     "cell_type": "code",
     "collapsed": false,
     "input": [
      "print len(materials)"
     ],
     "language": "python",
     "metadata": {},
     "outputs": [
      {
       "ename": "NameError",
       "evalue": "name 'materials' is not defined",
       "output_type": "pyerr",
       "traceback": [
        "\u001b[0;31m---------------------------------------------------------------------------\u001b[0m\n\u001b[0;31mNameError\u001b[0m                                 Traceback (most recent call last)",
        "\u001b[0;32m<ipython-input-132-d830c2be87a1>\u001b[0m in \u001b[0;36m<module>\u001b[0;34m()\u001b[0m\n\u001b[0;32m----> 1\u001b[0;31m \u001b[0;32mprint\u001b[0m \u001b[0mlen\u001b[0m\u001b[0;34m(\u001b[0m\u001b[0mmaterials\u001b[0m\u001b[0;34m)\u001b[0m\u001b[0;34m\u001b[0m\u001b[0m\n\u001b[0m",
        "\u001b[0;31mNameError\u001b[0m: name 'materials' is not defined"
       ]
      }
     ],
     "prompt_number": 132
    },
    {
     "cell_type": "markdown",
     "metadata": {},
     "source": [
      "Success! We have only 9 materials now."
     ]
    },
    {
     "cell_type": "markdown",
     "metadata": {},
     "source": [
      "The last material used to be:  \n",
      "'G05 25mm wood'"
     ]
    },
    {
     "cell_type": "code",
     "collapsed": false,
     "input": [
      "print materials[-1]"
     ],
     "language": "python",
     "metadata": {},
     "outputs": [
      {
       "ename": "NameError",
       "evalue": "name 'materials' is not defined",
       "output_type": "pyerr",
       "traceback": [
        "\u001b[0;31m---------------------------------------------------------------------------\u001b[0m\n\u001b[0;31mNameError\u001b[0m                                 Traceback (most recent call last)",
        "\u001b[0;32m<ipython-input-133-b95e855cbad2>\u001b[0m in \u001b[0;36m<module>\u001b[0;34m()\u001b[0m\n\u001b[0;32m----> 1\u001b[0;31m \u001b[0;32mprint\u001b[0m \u001b[0mmaterials\u001b[0m\u001b[0;34m[\u001b[0m\u001b[0;34m-\u001b[0m\u001b[0;36m1\u001b[0m\u001b[0;34m]\u001b[0m\u001b[0;34m\u001b[0m\u001b[0m\n\u001b[0m",
        "\u001b[0;31mNameError\u001b[0m: name 'materials' is not defined"
       ]
      }
     ],
     "prompt_number": 133
    },
    {
     "cell_type": "markdown",
     "metadata": {},
     "source": [
      "Now the last material in the list is:  \n",
      "'M15 200mm heavyweight concrete'"
     ]
    },
    {
     "cell_type": "heading",
     "level": 4,
     "metadata": {},
     "source": [
      "Adding a material to the list"
     ]
    },
    {
     "cell_type": "markdown",
     "metadata": {},
     "source": [
      "We still have the old last material"
     ]
    },
    {
     "cell_type": "code",
     "collapsed": false,
     "input": [
      "print was_last_material"
     ],
     "language": "python",
     "metadata": {},
     "outputs": [
      {
       "ename": "NameError",
       "evalue": "name 'was_last_material' is not defined",
       "output_type": "pyerr",
       "traceback": [
        "\u001b[0;31m---------------------------------------------------------------------------\u001b[0m\n\u001b[0;31mNameError\u001b[0m                                 Traceback (most recent call last)",
        "\u001b[0;32m<ipython-input-134-0f1160f80db8>\u001b[0m in \u001b[0;36m<module>\u001b[0;34m()\u001b[0m\n\u001b[0;32m----> 1\u001b[0;31m \u001b[0;32mprint\u001b[0m \u001b[0mwas_last_material\u001b[0m\u001b[0;34m\u001b[0m\u001b[0m\n\u001b[0m",
        "\u001b[0;31mNameError\u001b[0m: name 'was_last_material' is not defined"
       ]
      }
     ],
     "prompt_number": 134
    },
    {
     "cell_type": "markdown",
     "metadata": {},
     "source": [
      "Let us add it back to the list"
     ]
    },
    {
     "cell_type": "code",
     "collapsed": false,
     "input": [
      "materials.append(was_last_material)"
     ],
     "language": "python",
     "metadata": {},
     "outputs": [
      {
       "ename": "NameError",
       "evalue": "name 'materials' is not defined",
       "output_type": "pyerr",
       "traceback": [
        "\u001b[0;31m---------------------------------------------------------------------------\u001b[0m\n\u001b[0;31mNameError\u001b[0m                                 Traceback (most recent call last)",
        "\u001b[0;32m<ipython-input-135-ee4178bf799a>\u001b[0m in \u001b[0;36m<module>\u001b[0;34m()\u001b[0m\n\u001b[0;32m----> 1\u001b[0;31m \u001b[0mmaterials\u001b[0m\u001b[0;34m.\u001b[0m\u001b[0mappend\u001b[0m\u001b[0;34m(\u001b[0m\u001b[0mwas_last_material\u001b[0m\u001b[0;34m)\u001b[0m\u001b[0;34m\u001b[0m\u001b[0m\n\u001b[0m",
        "\u001b[0;31mNameError\u001b[0m: name 'materials' is not defined"
       ]
      }
     ],
     "prompt_number": 135
    },
    {
     "cell_type": "code",
     "collapsed": false,
     "input": [
      "print len(materials)"
     ],
     "language": "python",
     "metadata": {},
     "outputs": [
      {
       "ename": "NameError",
       "evalue": "name 'materials' is not defined",
       "output_type": "pyerr",
       "traceback": [
        "\u001b[0;31m---------------------------------------------------------------------------\u001b[0m\n\u001b[0;31mNameError\u001b[0m                                 Traceback (most recent call last)",
        "\u001b[0;32m<ipython-input-136-d830c2be87a1>\u001b[0m in \u001b[0;36m<module>\u001b[0;34m()\u001b[0m\n\u001b[0;32m----> 1\u001b[0;31m \u001b[0;32mprint\u001b[0m \u001b[0mlen\u001b[0m\u001b[0;34m(\u001b[0m\u001b[0mmaterials\u001b[0m\u001b[0;34m)\u001b[0m\u001b[0;34m\u001b[0m\u001b[0m\n\u001b[0m",
        "\u001b[0;31mNameError\u001b[0m: name 'materials' is not defined"
       ]
      }
     ],
     "prompt_number": 136
    },
    {
     "cell_type": "markdown",
     "metadata": {},
     "source": [
      "Once again we have 10 materials and the last material is:"
     ]
    },
    {
     "cell_type": "code",
     "collapsed": false,
     "input": [
      "print materials[-1]"
     ],
     "language": "python",
     "metadata": {},
     "outputs": [
      {
       "ename": "NameError",
       "evalue": "name 'materials' is not defined",
       "output_type": "pyerr",
       "traceback": [
        "\u001b[0;31m---------------------------------------------------------------------------\u001b[0m\n\u001b[0;31mNameError\u001b[0m                                 Traceback (most recent call last)",
        "\u001b[0;32m<ipython-input-137-b95e855cbad2>\u001b[0m in \u001b[0;36m<module>\u001b[0;34m()\u001b[0m\n\u001b[0;32m----> 1\u001b[0;31m \u001b[0;32mprint\u001b[0m \u001b[0mmaterials\u001b[0m\u001b[0;34m[\u001b[0m\u001b[0;34m-\u001b[0m\u001b[0;36m1\u001b[0m\u001b[0;34m]\u001b[0m\u001b[0;34m\u001b[0m\u001b[0m\n\u001b[0m",
        "\u001b[0;31mNameError\u001b[0m: name 'materials' is not defined"
       ]
      }
     ],
     "prompt_number": 137
    },
    {
     "cell_type": "heading",
     "level": 4,
     "metadata": {},
     "source": [
      "Add a new material to the model"
     ]
    },
    {
     "cell_type": "markdown",
     "metadata": {},
     "source": [
      "So far we have been working only with materials that were already in the list.  \n",
      "What if we want to make new material?  \n",
      "Obviously we would use the function 'addobject'."
     ]
    },
    {
     "cell_type": "code",
     "collapsed": false,
     "input": [
      "import modeleditor # has functions that let you edit the model\n",
      "modeleditor.addobject(model, to_print, idd_info, \"MATERIAL\", aname=\"Flashy new material\")\n",
      "\n",
      "# we need to use the to_print and idd_info that we got when we first read the idf file\n",
      "# remember when we did this:\n",
      "# model, to_print, idd_info = idfreader(idf_filename, iddfile)\n",
      "# \"MATERIAL\" tells it what kind of object we are making"
     ],
     "language": "python",
     "metadata": {},
     "outputs": [],
     "prompt_number": 138
    },
    {
     "cell_type": "code",
     "collapsed": false,
     "input": [
      "model_2.newidfobject(\"MATERIAL\")"
     ],
     "language": "python",
     "metadata": {},
     "outputs": [
      {
       "ename": "NameError",
       "evalue": "name 'model_2' is not defined",
       "output_type": "pyerr",
       "traceback": [
        "\u001b[0;31m---------------------------------------------------------------------------\u001b[0m\n\u001b[0;31mNameError\u001b[0m                                 Traceback (most recent call last)",
        "\u001b[0;32m<ipython-input-139-f08b3883a20e>\u001b[0m in \u001b[0;36m<module>\u001b[0;34m()\u001b[0m\n\u001b[0;32m----> 1\u001b[0;31m \u001b[0mmodel_2\u001b[0m\u001b[0;34m.\u001b[0m\u001b[0mnewidfobject\u001b[0m\u001b[0;34m(\u001b[0m\u001b[0;34m\"MATERIAL\"\u001b[0m\u001b[0;34m)\u001b[0m\u001b[0;34m\u001b[0m\u001b[0m\n\u001b[0m",
        "\u001b[0;31mNameError\u001b[0m: name 'model_2' is not defined"
       ]
      }
     ],
     "prompt_number": 139
    },
    {
     "cell_type": "code",
     "collapsed": false,
     "input": [
      "len(materials)"
     ],
     "language": "python",
     "metadata": {},
     "outputs": [
      {
       "ename": "NameError",
       "evalue": "name 'materials' is not defined",
       "output_type": "pyerr",
       "traceback": [
        "\u001b[0;31m---------------------------------------------------------------------------\u001b[0m\n\u001b[0;31mNameError\u001b[0m                                 Traceback (most recent call last)",
        "\u001b[0;32m<ipython-input-140-4c51eca6ec34>\u001b[0m in \u001b[0;36m<module>\u001b[0;34m()\u001b[0m\n\u001b[0;32m----> 1\u001b[0;31m \u001b[0mlen\u001b[0m\u001b[0;34m(\u001b[0m\u001b[0mmaterials\u001b[0m\u001b[0;34m)\u001b[0m\u001b[0;34m\u001b[0m\u001b[0m\n\u001b[0m",
        "\u001b[0;31mNameError\u001b[0m: name 'materials' is not defined"
       ]
      }
     ],
     "prompt_number": 140
    },
    {
     "cell_type": "markdown",
     "metadata": {},
     "source": [
      "We have 11 items in the materials list.  \n",
      "Let us take a look at the last material in the list, where this fancy new material was added"
     ]
    },
    {
     "cell_type": "code",
     "collapsed": false,
     "input": [
      "print materials[-1]"
     ],
     "language": "python",
     "metadata": {},
     "outputs": [
      {
       "ename": "NameError",
       "evalue": "name 'materials' is not defined",
       "output_type": "pyerr",
       "traceback": [
        "\u001b[0;31m---------------------------------------------------------------------------\u001b[0m\n\u001b[0;31mNameError\u001b[0m                                 Traceback (most recent call last)",
        "\u001b[0;32m<ipython-input-141-b95e855cbad2>\u001b[0m in \u001b[0;36m<module>\u001b[0;34m()\u001b[0m\n\u001b[0;32m----> 1\u001b[0;31m \u001b[0;32mprint\u001b[0m \u001b[0mmaterials\u001b[0m\u001b[0;34m[\u001b[0m\u001b[0;34m-\u001b[0m\u001b[0;36m1\u001b[0m\u001b[0;34m]\u001b[0m\u001b[0;34m\u001b[0m\u001b[0m\n\u001b[0m",
        "\u001b[0;31mNameError\u001b[0m: name 'materials' is not defined"
       ]
      }
     ],
     "prompt_number": 141
    },
    {
     "cell_type": "markdown",
     "metadata": {},
     "source": [
      "Looks a little different from the other materials.  \n",
      "It does have the name we gave it.  \n",
      "Why do some fields have values and others are blank ?  \n",
      "\n",
      "\"addobject\" puts in all the default values, and leaves the others blank.  \n",
      "It is up to us to put values in the the new fields.  \n",
      "Let's do it now.  "
     ]
    },
    {
     "cell_type": "code",
     "collapsed": false,
     "input": [
      "materials[-1].Roughness = 'MediumSmooth'\n",
      "materials[-1].Thickness = 0.03\n",
      "materials[-1].Conductivity = 0.16\n",
      "materials[-1].Density = 600\n",
      "materials[-1].Specific_Heat = 1500"
     ],
     "language": "python",
     "metadata": {},
     "outputs": [
      {
       "ename": "NameError",
       "evalue": "name 'materials' is not defined",
       "output_type": "pyerr",
       "traceback": [
        "\u001b[0;31m---------------------------------------------------------------------------\u001b[0m\n\u001b[0;31mNameError\u001b[0m                                 Traceback (most recent call last)",
        "\u001b[0;32m<ipython-input-142-38a4730e4774>\u001b[0m in \u001b[0;36m<module>\u001b[0;34m()\u001b[0m\n\u001b[0;32m----> 1\u001b[0;31m \u001b[0mmaterials\u001b[0m\u001b[0;34m[\u001b[0m\u001b[0;34m-\u001b[0m\u001b[0;36m1\u001b[0m\u001b[0;34m]\u001b[0m\u001b[0;34m.\u001b[0m\u001b[0mRoughness\u001b[0m \u001b[0;34m=\u001b[0m \u001b[0;34m'MediumSmooth'\u001b[0m\u001b[0;34m\u001b[0m\u001b[0m\n\u001b[0m\u001b[1;32m      2\u001b[0m \u001b[0mmaterials\u001b[0m\u001b[0;34m[\u001b[0m\u001b[0;34m-\u001b[0m\u001b[0;36m1\u001b[0m\u001b[0;34m]\u001b[0m\u001b[0;34m.\u001b[0m\u001b[0mThickness\u001b[0m \u001b[0;34m=\u001b[0m \u001b[0;36m0.03\u001b[0m\u001b[0;34m\u001b[0m\u001b[0m\n\u001b[1;32m      3\u001b[0m \u001b[0mmaterials\u001b[0m\u001b[0;34m[\u001b[0m\u001b[0;34m-\u001b[0m\u001b[0;36m1\u001b[0m\u001b[0;34m]\u001b[0m\u001b[0;34m.\u001b[0m\u001b[0mConductivity\u001b[0m \u001b[0;34m=\u001b[0m \u001b[0;36m0.16\u001b[0m\u001b[0;34m\u001b[0m\u001b[0m\n\u001b[1;32m      4\u001b[0m \u001b[0mmaterials\u001b[0m\u001b[0;34m[\u001b[0m\u001b[0;34m-\u001b[0m\u001b[0;36m1\u001b[0m\u001b[0;34m]\u001b[0m\u001b[0;34m.\u001b[0m\u001b[0mDensity\u001b[0m \u001b[0;34m=\u001b[0m \u001b[0;36m600\u001b[0m\u001b[0;34m\u001b[0m\u001b[0m\n\u001b[1;32m      5\u001b[0m \u001b[0mmaterials\u001b[0m\u001b[0;34m[\u001b[0m\u001b[0;34m-\u001b[0m\u001b[0;36m1\u001b[0m\u001b[0;34m]\u001b[0m\u001b[0;34m.\u001b[0m\u001b[0mSpecific_Heat\u001b[0m \u001b[0;34m=\u001b[0m \u001b[0;36m1500\u001b[0m\u001b[0;34m\u001b[0m\u001b[0m\n",
        "\u001b[0;31mNameError\u001b[0m: name 'materials' is not defined"
       ]
      }
     ],
     "prompt_number": 142
    },
    {
     "cell_type": "code",
     "collapsed": false,
     "input": [
      "print materials[-1]"
     ],
     "language": "python",
     "metadata": {},
     "outputs": [
      {
       "ename": "NameError",
       "evalue": "name 'materials' is not defined",
       "output_type": "pyerr",
       "traceback": [
        "\u001b[0;31m---------------------------------------------------------------------------\u001b[0m\n\u001b[0;31mNameError\u001b[0m                                 Traceback (most recent call last)",
        "\u001b[0;32m<ipython-input-143-b95e855cbad2>\u001b[0m in \u001b[0;36m<module>\u001b[0;34m()\u001b[0m\n\u001b[0;32m----> 1\u001b[0;31m \u001b[0;32mprint\u001b[0m \u001b[0mmaterials\u001b[0m\u001b[0;34m[\u001b[0m\u001b[0;34m-\u001b[0m\u001b[0;36m1\u001b[0m\u001b[0;34m]\u001b[0m\u001b[0;34m\u001b[0m\u001b[0m\n\u001b[0m",
        "\u001b[0;31mNameError\u001b[0m: name 'materials' is not defined"
       ]
      }
     ],
     "prompt_number": 143
    },
    {
     "cell_type": "heading",
     "level": 4,
     "metadata": {},
     "source": [
      "Copy an existing material"
     ]
    },
    {
     "cell_type": "code",
     "collapsed": false,
     "input": [
      "import copy\n",
      "# material_copy = copy.deepcopy(materials[0])\n",
      "# TODO: write a copy function for bunch."
     ],
     "language": "python",
     "metadata": {},
     "outputs": [],
     "prompt_number": 144
    },
    {
     "cell_type": "heading",
     "level": 3,
     "metadata": {},
     "source": [
      "Taking an item from one model and adding it to another model"
     ]
    },
    {
     "cell_type": "markdown",
     "metadata": {},
     "source": []
    },
    {
     "cell_type": "heading",
     "level": 3,
     "metadata": {},
     "source": [
      "More python: indentation and looping through lists"
     ]
    },
    {
     "cell_type": "markdown",
     "metadata": {},
     "source": [
      "I'm tired of doing all this work, it's time to make python do some heavy lifting for us!  "
     ]
    },
    {
     "cell_type": "markdown",
     "metadata": {},
     "source": [
      "Python can go through each item in a list and perform an operation on any (or every) item in the list.    \n",
      "This is called looping through the list.    \n",
      "Here's how to tell python to step through each item in a list, and then do something to every single item.   \n",
      "We'll use a 'for' loop to do this."
     ]
    },
    {
     "cell_type": "raw",
     "metadata": {},
     "source": [
      "for <variable> in <listname>:\n",
      "    <do something>"
     ]
    },
    {
     "cell_type": "markdown",
     "metadata": {},
     "source": [
      "A quick note about the second line. Notice that it's indented? There are 4 blank spaces before the code starts."
     ]
    },
    {
     "cell_type": "raw",
     "metadata": {},
     "source": [
      "    in python, indentations are used    \n",
      "    to determine the grouping of statements  \n",
      "           some languages use symbols to mark \n",
      "           where the function code starts and stops   \n",
      "           but python uses indentation to tell you this  \n",
      "                    i'm using indentation to\n",
      "                    show the beginning and end of a sentence\n",
      "           this is a very simple explanation\n",
      "           of indentation in python\n",
      "     if you'd like to know more, there is plenty of information\n",
      "     about indentation in python on the web"
     ]
    },
    {
     "cell_type": "markdown",
     "metadata": {},
     "source": [
      "It's elegant, but it means that the indentation of the code holds meaning.   \n",
      "So make sure to indent the second (and third and forth) lines of your loops!\n",
      "\n",
      "Now let's make some fruit loops.  "
     ]
    },
    {
     "cell_type": "code",
     "collapsed": false,
     "input": [
      "fruits = [\"apple\", \"orange\", \"bannana\"] "
     ],
     "language": "python",
     "metadata": {},
     "outputs": [],
     "prompt_number": 145
    },
    {
     "cell_type": "markdown",
     "metadata": {},
     "source": [
      "Given the syntax I gave you before I started rambling about indentation,  \n",
      "we can easily print every item in the fruits list by using a 'for' loop."
     ]
    },
    {
     "cell_type": "code",
     "collapsed": false,
     "input": [
      "for fruit in fruits:\n",
      "   print fruit"
     ],
     "language": "python",
     "metadata": {},
     "outputs": [
      {
       "output_type": "stream",
       "stream": "stdout",
       "text": [
        "apple\n",
        "orange\n",
        "bannana\n"
       ]
      }
     ],
     "prompt_number": 146
    },
    {
     "cell_type": "markdown",
     "metadata": {},
     "source": [
      "That was easy! But it can get complicated pretty quickly...  \n",
      "Let's make it do something more complicated than just print the fruits.  \n",
      "Let's have python add some words to each fruit. "
     ]
    },
    {
     "cell_type": "code",
     "collapsed": false,
     "input": [
      "for fruit in fruits:\n",
      "    print \"I am a fruit said the\", fruit"
     ],
     "language": "python",
     "metadata": {},
     "outputs": [
      {
       "output_type": "stream",
       "stream": "stdout",
       "text": [
        "I am a fruit said the apple\n",
        "I am a fruit said the orange\n",
        "I am a fruit said the bannana\n"
       ]
      }
     ],
     "prompt_number": 147
    },
    {
     "cell_type": "markdown",
     "metadata": {},
     "source": [
      "Now we'll try to confuse you:"
     ]
    },
    {
     "cell_type": "code",
     "collapsed": false,
     "input": [
      "rottenfruits = [] # makes a blank list called rottenfruits\n",
      "for fruit in fruits: # steps through every item in fruits\n",
      "    rottenfruit = \"rotten \" + fruit # changes each item to \"rotten _____\"\n",
      "    rottenfruits.append(rottenfruit) # adds each changed item to the formerly empty list"
     ],
     "language": "python",
     "metadata": {},
     "outputs": [],
     "prompt_number": 148
    },
    {
     "cell_type": "code",
     "collapsed": false,
     "input": [
      "print rottenfruits"
     ],
     "language": "python",
     "metadata": {},
     "outputs": [
      {
       "output_type": "stream",
       "stream": "stdout",
       "text": [
        "['rotten apple', 'rotten orange', 'rotten bannana']\n"
       ]
      }
     ],
     "prompt_number": 149
    },
    {
     "cell_type": "code",
     "collapsed": false,
     "input": [
      "# here's a shorter way of writing it\n",
      "rottenfruits = [\"rotten \" + fruit for fruit in fruits]"
     ],
     "language": "python",
     "metadata": {},
     "outputs": [],
     "prompt_number": 150
    },
    {
     "cell_type": "markdown",
     "metadata": {},
     "source": [
      "Did you follow all that?? \n",
      "Just in case you didn't, let's review that last one..."
     ]
    },
    {
     "cell_type": "raw",
     "metadata": {},
     "source": [
      "[\"rotten \" + fruit for fruit in fruits]\n",
      "                   -------------------\n",
      "                   This is the \"for loop\"\n",
      "                   it steps through each fruit in fruits\n",
      "\n",
      "[\"rotten \" + fruit for fruit in fruits]\n",
      " -----------------\n",
      " add \"rotten \" to the fruit at each step\n",
      " this is your \"do something\"\n",
      " \n",
      "[\"rotten \" + fruit for fruit in fruits]\n",
      "---------------------------------------\n",
      "give a new list that is a result of the \"do something\""
     ]
    },
    {
     "cell_type": "code",
     "collapsed": false,
     "input": [
      "print rottenfruits"
     ],
     "language": "python",
     "metadata": {},
     "outputs": [
      {
       "output_type": "stream",
       "stream": "stdout",
       "text": [
        "['rotten apple', 'rotten orange', 'rotten bannana']\n"
       ]
      }
     ],
     "prompt_number": 151
    },
    {
     "cell_type": "heading",
     "level": 4,
     "metadata": {},
     "source": [
      "Filtering in a loop"
     ]
    },
    {
     "cell_type": "markdown",
     "metadata": {},
     "source": [
      "But what if you don't want to change *every* item in a list?  \n",
      "We can use an 'if' statement to operate on only some items in the list.  \n",
      "\n",
      "Indentation is also important in 'if' statements, as you'll see:"
     ]
    },
    {
     "cell_type": "raw",
     "metadata": {},
     "source": [
      "if <someconstraint>:\n",
      "    <if the first line is true, do this>\n",
      "<but if it's false, do this>"
     ]
    },
    {
     "cell_type": "code",
     "collapsed": false,
     "input": [
      "fruits = [\"apple\", \"orange\", \"pear\", \"berry\", \"mango\", \"plum\", \"peach\", \"melon\", \"bannana\"]"
     ],
     "language": "python",
     "metadata": {},
     "outputs": [],
     "prompt_number": 152
    },
    {
     "cell_type": "code",
     "collapsed": false,
     "input": [
      "for fruit in fruits:               # steps through every fruit in fruits\n",
      "    if len(fruit) > 5:             # checks to see if the length of the word is more than 5\n",
      "        print fruit                # if true, print the fruit\n",
      "                                   # if false, python goes back to the 'for' loop \n",
      "                                      # and checks the next item in the list"
     ],
     "language": "python",
     "metadata": {},
     "outputs": [
      {
       "output_type": "stream",
       "stream": "stdout",
       "text": [
        "orange\n",
        "bannana\n"
       ]
      }
     ],
     "prompt_number": 153
    },
    {
     "cell_type": "markdown",
     "metadata": {},
     "source": [
      "Let's say we want to pick only the fruits that start with the letter 'p'. "
     ]
    },
    {
     "cell_type": "code",
     "collapsed": false,
     "input": [
      "p_fruits = []                      # creates an empty list called p_fruits\n",
      "for fruit in fruits:               # steps through every fruit in fruits\n",
      "    if fruit.startswith(\"p\"):      # checks to see if the first letter is 'p', using a built-in function\n",
      "        p_fruits.append(fruit)     # if the first letter is 'p', the item is added to p_fruits\n",
      "                                   # if the first letter is not 'p', python goes back to the 'for' loop\n",
      "                                      # and checks the next item in the list"
     ],
     "language": "python",
     "metadata": {},
     "outputs": [],
     "prompt_number": 154
    },
    {
     "cell_type": "code",
     "collapsed": false,
     "input": [
      "print p_fruits"
     ],
     "language": "python",
     "metadata": {},
     "outputs": [
      {
       "output_type": "stream",
       "stream": "stdout",
       "text": [
        "['pear', 'plum', 'peach']\n"
       ]
      }
     ],
     "prompt_number": 155
    },
    {
     "cell_type": "code",
     "collapsed": false,
     "input": [
      "# here's a shorter way to write it\n",
      "p_fruits = [fruit for fruit in fruits if fruit.startswith(\"p\")]"
     ],
     "language": "python",
     "metadata": {},
     "outputs": [],
     "prompt_number": 156
    },
    {
     "cell_type": "raw",
     "metadata": {},
     "source": [
      "[fruit for fruit in fruits if fruit.startswith(\"p\")]\n",
      "       -------------------\n",
      "       for loop\n",
      "\n",
      "[fruit for fruit in fruits if fruit.startswith(\"p\")]\n",
      "                           ------------------------\n",
      "                           pick only some of the fruits\n",
      "\n",
      "[fruit for fruit in fruits if fruit.startswith(\"p\")]\n",
      " -----\n",
      " give me the variable fruit as it appears in the list, don't change it\n",
      " \n",
      "[fruit for fruit in fruits if fruit.startswith(\"p\")]\n",
      "----------------------------------------------------\n",
      "a fresh new list with those fruits"
     ]
    },
    {
     "cell_type": "code",
     "collapsed": false,
     "input": [
      "print p_fruits"
     ],
     "language": "python",
     "metadata": {},
     "outputs": [
      {
       "output_type": "stream",
       "stream": "stdout",
       "text": [
        "['pear', 'plum', 'peach']\n"
       ]
      }
     ],
     "prompt_number": 157
    },
    {
     "cell_type": "heading",
     "level": 4,
     "metadata": {},
     "source": [
      "Counting through loops"
     ]
    },
    {
     "cell_type": "markdown",
     "metadata": {},
     "source": [
      "This is not really needed, but it is nice to know. You can safely skip this."
     ]
    },
    {
     "cell_type": "markdown",
     "metadata": {},
     "source": [
      "Python's built-in function range() makes a list of numbers within a range that you specify.    \n",
      "This is useful because you can use these lists inside of loops."
     ]
    },
    {
     "cell_type": "code",
     "collapsed": false,
     "input": [
      "range(4) # makes a list"
     ],
     "language": "python",
     "metadata": {},
     "outputs": [
      {
       "output_type": "pyout",
       "prompt_number": 158,
       "text": [
        "[0, 1, 2, 3]"
       ]
      }
     ],
     "prompt_number": 158
    },
    {
     "cell_type": "code",
     "collapsed": false,
     "input": [
      "for i in range(4):\n",
      "    print i"
     ],
     "language": "python",
     "metadata": {},
     "outputs": [
      {
       "output_type": "stream",
       "stream": "stdout",
       "text": [
        "0\n",
        "1\n",
        "2\n",
        "3\n"
       ]
      }
     ],
     "prompt_number": 159
    },
    {
     "cell_type": "code",
     "collapsed": false,
     "input": [
      "len(p_fruits)"
     ],
     "language": "python",
     "metadata": {},
     "outputs": [
      {
       "output_type": "pyout",
       "prompt_number": 160,
       "text": [
        "3"
       ]
      }
     ],
     "prompt_number": 160
    },
    {
     "cell_type": "code",
     "collapsed": false,
     "input": [
      "for i in range(len(p_fruits)):\n",
      "    print i"
     ],
     "language": "python",
     "metadata": {},
     "outputs": [
      {
       "output_type": "stream",
       "stream": "stdout",
       "text": [
        "0\n",
        "1\n",
        "2\n"
       ]
      }
     ],
     "prompt_number": 161
    },
    {
     "cell_type": "code",
     "collapsed": false,
     "input": [
      "for i in range(len(p_fruits)):\n",
      "    print p_fruits[i]"
     ],
     "language": "python",
     "metadata": {},
     "outputs": [
      {
       "output_type": "stream",
       "stream": "stdout",
       "text": [
        "pear\n",
        "plum\n",
        "peach\n"
       ]
      }
     ],
     "prompt_number": 162
    },
    {
     "cell_type": "code",
     "collapsed": false,
     "input": [
      "for i in range(len(p_fruits)):\n",
      "    print i,  p_fruits[i]"
     ],
     "language": "python",
     "metadata": {},
     "outputs": [
      {
       "output_type": "stream",
       "stream": "stdout",
       "text": [
        "0 pear\n",
        "1 plum\n",
        "2 peach\n"
       ]
      }
     ],
     "prompt_number": 163
    },
    {
     "cell_type": "code",
     "collapsed": false,
     "input": [
      "for item_from_enumerate in enumerate(p_fruits):\n",
      "    print item_from_enumerate"
     ],
     "language": "python",
     "metadata": {},
     "outputs": [
      {
       "output_type": "stream",
       "stream": "stdout",
       "text": [
        "(0, 'pear')\n",
        "(1, 'plum')\n",
        "(2, 'peach')\n"
       ]
      }
     ],
     "prompt_number": 164
    },
    {
     "cell_type": "code",
     "collapsed": false,
     "input": [
      "for i, fruit in enumerate(p_fruits):\n",
      "    print i, fruit"
     ],
     "language": "python",
     "metadata": {},
     "outputs": [
      {
       "output_type": "stream",
       "stream": "stdout",
       "text": [
        "0 pear\n",
        "1 plum\n",
        "2 peach\n"
       ]
      }
     ],
     "prompt_number": 165
    },
    {
     "cell_type": "heading",
     "level": 2,
     "metadata": {},
     "source": [
      "Looping to E+ objects"
     ]
    },
    {
     "cell_type": "markdown",
     "metadata": {},
     "source": [
      "If you have read the python explanation of loops, you are now masters of using loops.  \n",
      "Let us use the loops with E+ objects.  \n",
      "We'll continue to work with the materials list."
     ]
    },
    {
     "cell_type": "code",
     "collapsed": false,
     "input": [
      "for material in materials:\n",
      "    print material.Name    "
     ],
     "language": "python",
     "metadata": {},
     "outputs": [
      {
       "ename": "NameError",
       "evalue": "name 'materials' is not defined",
       "output_type": "pyerr",
       "traceback": [
        "\u001b[0;31m---------------------------------------------------------------------------\u001b[0m\n\u001b[0;31mNameError\u001b[0m                                 Traceback (most recent call last)",
        "\u001b[0;32m<ipython-input-166-f88e6542ae7b>\u001b[0m in \u001b[0;36m<module>\u001b[0;34m()\u001b[0m\n\u001b[0;32m----> 1\u001b[0;31m \u001b[0;32mfor\u001b[0m \u001b[0mmaterial\u001b[0m \u001b[0;32min\u001b[0m \u001b[0mmaterials\u001b[0m\u001b[0;34m:\u001b[0m\u001b[0;34m\u001b[0m\u001b[0m\n\u001b[0m\u001b[1;32m      2\u001b[0m     \u001b[0;32mprint\u001b[0m \u001b[0mmaterial\u001b[0m\u001b[0;34m.\u001b[0m\u001b[0mName\u001b[0m\u001b[0;34m\u001b[0m\u001b[0m\n",
        "\u001b[0;31mNameError\u001b[0m: name 'materials' is not defined"
       ]
      }
     ],
     "prompt_number": 166
    },
    {
     "cell_type": "code",
     "collapsed": false,
     "input": [
      "[material.Name for material in materials] "
     ],
     "language": "python",
     "metadata": {},
     "outputs": [
      {
       "ename": "NameError",
       "evalue": "name 'materials' is not defined",
       "output_type": "pyerr",
       "traceback": [
        "\u001b[0;31m---------------------------------------------------------------------------\u001b[0m\n\u001b[0;31mNameError\u001b[0m                                 Traceback (most recent call last)",
        "\u001b[0;32m<ipython-input-167-ef3059390c5d>\u001b[0m in \u001b[0;36m<module>\u001b[0;34m()\u001b[0m\n\u001b[0;32m----> 1\u001b[0;31m \u001b[0;34m[\u001b[0m\u001b[0mmaterial\u001b[0m\u001b[0;34m.\u001b[0m\u001b[0mName\u001b[0m \u001b[0;32mfor\u001b[0m \u001b[0mmaterial\u001b[0m \u001b[0;32min\u001b[0m \u001b[0mmaterials\u001b[0m\u001b[0;34m]\u001b[0m\u001b[0;34m\u001b[0m\u001b[0m\n\u001b[0m",
        "\u001b[0;31mNameError\u001b[0m: name 'materials' is not defined"
       ]
      }
     ],
     "prompt_number": 167
    },
    {
     "cell_type": "code",
     "collapsed": false,
     "input": [
      "[material.Roughness for material in materials]"
     ],
     "language": "python",
     "metadata": {},
     "outputs": [
      {
       "ename": "NameError",
       "evalue": "name 'materials' is not defined",
       "output_type": "pyerr",
       "traceback": [
        "\u001b[0;31m---------------------------------------------------------------------------\u001b[0m\n\u001b[0;31mNameError\u001b[0m                                 Traceback (most recent call last)",
        "\u001b[0;32m<ipython-input-168-6cd544164015>\u001b[0m in \u001b[0;36m<module>\u001b[0;34m()\u001b[0m\n\u001b[0;32m----> 1\u001b[0;31m \u001b[0;34m[\u001b[0m\u001b[0mmaterial\u001b[0m\u001b[0;34m.\u001b[0m\u001b[0mRoughness\u001b[0m \u001b[0;32mfor\u001b[0m \u001b[0mmaterial\u001b[0m \u001b[0;32min\u001b[0m \u001b[0mmaterials\u001b[0m\u001b[0;34m]\u001b[0m\u001b[0;34m\u001b[0m\u001b[0m\n\u001b[0m",
        "\u001b[0;31mNameError\u001b[0m: name 'materials' is not defined"
       ]
      }
     ],
     "prompt_number": 168
    },
    {
     "cell_type": "code",
     "collapsed": false,
     "input": [
      "[material.Thickness for material in materials]"
     ],
     "language": "python",
     "metadata": {},
     "outputs": [
      {
       "ename": "NameError",
       "evalue": "name 'materials' is not defined",
       "output_type": "pyerr",
       "traceback": [
        "\u001b[0;31m---------------------------------------------------------------------------\u001b[0m\n\u001b[0;31mNameError\u001b[0m                                 Traceback (most recent call last)",
        "\u001b[0;32m<ipython-input-169-0de7e34dff73>\u001b[0m in \u001b[0;36m<module>\u001b[0;34m()\u001b[0m\n\u001b[0;32m----> 1\u001b[0;31m \u001b[0;34m[\u001b[0m\u001b[0mmaterial\u001b[0m\u001b[0;34m.\u001b[0m\u001b[0mThickness\u001b[0m \u001b[0;32mfor\u001b[0m \u001b[0mmaterial\u001b[0m \u001b[0;32min\u001b[0m \u001b[0mmaterials\u001b[0m\u001b[0;34m]\u001b[0m\u001b[0;34m\u001b[0m\u001b[0m\n\u001b[0m",
        "\u001b[0;31mNameError\u001b[0m: name 'materials' is not defined"
       ]
      }
     ],
     "prompt_number": 169
    },
    {
     "cell_type": "code",
     "collapsed": false,
     "input": [
      "[material.Thickness for material in materials if material.Thickness > 0.1]"
     ],
     "language": "python",
     "metadata": {},
     "outputs": [
      {
       "ename": "NameError",
       "evalue": "name 'materials' is not defined",
       "output_type": "pyerr",
       "traceback": [
        "\u001b[0;31m---------------------------------------------------------------------------\u001b[0m\n\u001b[0;31mNameError\u001b[0m                                 Traceback (most recent call last)",
        "\u001b[0;32m<ipython-input-170-3b3c4e3d00e0>\u001b[0m in \u001b[0;36m<module>\u001b[0;34m()\u001b[0m\n\u001b[0;32m----> 1\u001b[0;31m \u001b[0;34m[\u001b[0m\u001b[0mmaterial\u001b[0m\u001b[0;34m.\u001b[0m\u001b[0mThickness\u001b[0m \u001b[0;32mfor\u001b[0m \u001b[0mmaterial\u001b[0m \u001b[0;32min\u001b[0m \u001b[0mmaterials\u001b[0m \u001b[0;32mif\u001b[0m \u001b[0mmaterial\u001b[0m\u001b[0;34m.\u001b[0m\u001b[0mThickness\u001b[0m \u001b[0;34m>\u001b[0m \u001b[0;36m0.1\u001b[0m\u001b[0;34m]\u001b[0m\u001b[0;34m\u001b[0m\u001b[0m\n\u001b[0m",
        "\u001b[0;31mNameError\u001b[0m: name 'materials' is not defined"
       ]
      }
     ],
     "prompt_number": 170
    },
    {
     "cell_type": "code",
     "collapsed": false,
     "input": [
      "[material.Name for material in materials if material.Thickness > 0.1]"
     ],
     "language": "python",
     "metadata": {},
     "outputs": [
      {
       "ename": "NameError",
       "evalue": "name 'materials' is not defined",
       "output_type": "pyerr",
       "traceback": [
        "\u001b[0;31m---------------------------------------------------------------------------\u001b[0m\n\u001b[0;31mNameError\u001b[0m                                 Traceback (most recent call last)",
        "\u001b[0;32m<ipython-input-171-18cb35c91c9b>\u001b[0m in \u001b[0;36m<module>\u001b[0;34m()\u001b[0m\n\u001b[0;32m----> 1\u001b[0;31m \u001b[0;34m[\u001b[0m\u001b[0mmaterial\u001b[0m\u001b[0;34m.\u001b[0m\u001b[0mName\u001b[0m \u001b[0;32mfor\u001b[0m \u001b[0mmaterial\u001b[0m \u001b[0;32min\u001b[0m \u001b[0mmaterials\u001b[0m \u001b[0;32mif\u001b[0m \u001b[0mmaterial\u001b[0m\u001b[0;34m.\u001b[0m\u001b[0mThickness\u001b[0m \u001b[0;34m>\u001b[0m \u001b[0;36m0.1\u001b[0m\u001b[0;34m]\u001b[0m\u001b[0;34m\u001b[0m\u001b[0m\n\u001b[0m",
        "\u001b[0;31mNameError\u001b[0m: name 'materials' is not defined"
       ]
      }
     ],
     "prompt_number": 171
    },
    {
     "cell_type": "code",
     "collapsed": false,
     "input": [
      "thick_materials = [material for material in materials if material.Thickness > 0.1]"
     ],
     "language": "python",
     "metadata": {},
     "outputs": [
      {
       "ename": "NameError",
       "evalue": "name 'materials' is not defined",
       "output_type": "pyerr",
       "traceback": [
        "\u001b[0;31m---------------------------------------------------------------------------\u001b[0m\n\u001b[0;31mNameError\u001b[0m                                 Traceback (most recent call last)",
        "\u001b[0;32m<ipython-input-172-c9fc8d68d900>\u001b[0m in \u001b[0;36m<module>\u001b[0;34m()\u001b[0m\n\u001b[0;32m----> 1\u001b[0;31m \u001b[0mthick_materials\u001b[0m \u001b[0;34m=\u001b[0m \u001b[0;34m[\u001b[0m\u001b[0mmaterial\u001b[0m \u001b[0;32mfor\u001b[0m \u001b[0mmaterial\u001b[0m \u001b[0;32min\u001b[0m \u001b[0mmaterials\u001b[0m \u001b[0;32mif\u001b[0m \u001b[0mmaterial\u001b[0m\u001b[0;34m.\u001b[0m\u001b[0mThickness\u001b[0m \u001b[0;34m>\u001b[0m \u001b[0;36m0.1\u001b[0m\u001b[0;34m]\u001b[0m\u001b[0;34m\u001b[0m\u001b[0m\n\u001b[0m",
        "\u001b[0;31mNameError\u001b[0m: name 'materials' is not defined"
       ]
      }
     ],
     "prompt_number": 172
    },
    {
     "cell_type": "code",
     "collapsed": false,
     "input": [
      "thick_materials"
     ],
     "language": "python",
     "metadata": {},
     "outputs": [
      {
       "ename": "NameError",
       "evalue": "name 'thick_materials' is not defined",
       "output_type": "pyerr",
       "traceback": [
        "\u001b[0;31m---------------------------------------------------------------------------\u001b[0m\n\u001b[0;31mNameError\u001b[0m                                 Traceback (most recent call last)",
        "\u001b[0;32m<ipython-input-173-f13951565607>\u001b[0m in \u001b[0;36m<module>\u001b[0;34m()\u001b[0m\n\u001b[0;32m----> 1\u001b[0;31m \u001b[0mthick_materials\u001b[0m\u001b[0;34m\u001b[0m\u001b[0m\n\u001b[0m",
        "\u001b[0;31mNameError\u001b[0m: name 'thick_materials' is not defined"
       ]
      }
     ],
     "prompt_number": 173
    },
    {
     "cell_type": "code",
     "collapsed": false,
     "input": [
      "# change the names of the thick materials\n",
      "for material in thick_materials:\n",
      "    material.Name = \"THICK \" + material.Name"
     ],
     "language": "python",
     "metadata": {},
     "outputs": [
      {
       "ename": "NameError",
       "evalue": "name 'thick_materials' is not defined",
       "output_type": "pyerr",
       "traceback": [
        "\u001b[0;31m---------------------------------------------------------------------------\u001b[0m\n\u001b[0;31mNameError\u001b[0m                                 Traceback (most recent call last)",
        "\u001b[0;32m<ipython-input-174-e71add7f9901>\u001b[0m in \u001b[0;36m<module>\u001b[0;34m()\u001b[0m\n\u001b[1;32m      1\u001b[0m \u001b[0;31m# change the names of the thick materials\u001b[0m\u001b[0;34m\u001b[0m\u001b[0;34m\u001b[0m\u001b[0m\n\u001b[0;32m----> 2\u001b[0;31m \u001b[0;32mfor\u001b[0m \u001b[0mmaterial\u001b[0m \u001b[0;32min\u001b[0m \u001b[0mthick_materials\u001b[0m\u001b[0;34m:\u001b[0m\u001b[0;34m\u001b[0m\u001b[0m\n\u001b[0m\u001b[1;32m      3\u001b[0m     \u001b[0mmaterial\u001b[0m\u001b[0;34m.\u001b[0m\u001b[0mName\u001b[0m \u001b[0;34m=\u001b[0m \u001b[0;34m\"THICK \"\u001b[0m \u001b[0;34m+\u001b[0m \u001b[0mmaterial\u001b[0m\u001b[0;34m.\u001b[0m\u001b[0mName\u001b[0m\u001b[0;34m\u001b[0m\u001b[0m\n",
        "\u001b[0;31mNameError\u001b[0m: name 'thick_materials' is not defined"
       ]
      }
     ],
     "prompt_number": 174
    },
    {
     "cell_type": "code",
     "collapsed": false,
     "input": [
      "thick_materials"
     ],
     "language": "python",
     "metadata": {},
     "outputs": [
      {
       "ename": "NameError",
       "evalue": "name 'thick_materials' is not defined",
       "output_type": "pyerr",
       "traceback": [
        "\u001b[0;31m---------------------------------------------------------------------------\u001b[0m\n\u001b[0;31mNameError\u001b[0m                                 Traceback (most recent call last)",
        "\u001b[0;32m<ipython-input-175-f13951565607>\u001b[0m in \u001b[0;36m<module>\u001b[0;34m()\u001b[0m\n\u001b[0;32m----> 1\u001b[0;31m \u001b[0mthick_materials\u001b[0m\u001b[0;34m\u001b[0m\u001b[0m\n\u001b[0m",
        "\u001b[0;31mNameError\u001b[0m: name 'thick_materials' is not defined"
       ]
      }
     ],
     "prompt_number": 175
    },
    {
     "cell_type": "markdown",
     "metadata": {},
     "source": [
      "So now we're working with two different lists: materials and thick_materials.  \n",
      "But even though the items can be separated into two lists, we're still working with the same items.  \n",
      "Here's a helpful illustration:"
     ]
    },
    {
     "cell_type": "code",
     "collapsed": false,
     "input": [
      "for_images.display_png(for_images.material_lists) # display the image below"
     ],
     "language": "python",
     "metadata": {},
     "outputs": [
      {
       "output_type": "display_data",
       "png": "[encoded data removed]",
       "text": [
        "<IPython.core.display.Image at 0x103254c10>"
       ]
      }
     ],
     "prompt_number": 176
    },
    {
     "cell_type": "code",
     "collapsed": false,
     "input": [
      "# here's the same concept, demonstrated with code\n",
      "# remember, we changed the names of the items in the list thick_materials\n",
      "# these changes are visible when we print the materials list, because the thick materials are also in the materials list \n",
      "[material.Name for material in materials]"
     ],
     "language": "python",
     "metadata": {},
     "outputs": [
      {
       "ename": "NameError",
       "evalue": "name 'materials' is not defined",
       "output_type": "pyerr",
       "traceback": [
        "\u001b[0;31m---------------------------------------------------------------------------\u001b[0m\n\u001b[0;31mNameError\u001b[0m                                 Traceback (most recent call last)",
        "\u001b[0;32m<ipython-input-177-fb17fa5bedee>\u001b[0m in \u001b[0;36m<module>\u001b[0;34m()\u001b[0m\n\u001b[1;32m      2\u001b[0m \u001b[0;31m# remember, we changed the names of the items in the list thick_materials\u001b[0m\u001b[0;34m\u001b[0m\u001b[0;34m\u001b[0m\u001b[0m\n\u001b[1;32m      3\u001b[0m \u001b[0;31m# these changes are visible when we print the materials list, because the thick materials are also in the materials list\u001b[0m\u001b[0;34m\u001b[0m\u001b[0;34m\u001b[0m\u001b[0m\n\u001b[0;32m----> 4\u001b[0;31m \u001b[0;34m[\u001b[0m\u001b[0mmaterial\u001b[0m\u001b[0;34m.\u001b[0m\u001b[0mName\u001b[0m \u001b[0;32mfor\u001b[0m \u001b[0mmaterial\u001b[0m \u001b[0;32min\u001b[0m \u001b[0mmaterials\u001b[0m\u001b[0;34m]\u001b[0m\u001b[0;34m\u001b[0m\u001b[0m\n\u001b[0m",
        "\u001b[0;31mNameError\u001b[0m: name 'materials' is not defined"
       ]
      }
     ],
     "prompt_number": 177
    },
    {
     "cell_type": "heading",
     "level": 2,
     "metadata": {},
     "source": [
      "Geometry functions in pyeplus"
     ]
    },
    {
     "cell_type": "markdown",
     "metadata": {},
     "source": [
      "Sometimes, we want information about the E+ object that is not in the fields.    \n",
      "For example, it would be useful to know the areas and orientations of the surfaces. These attributes of the surfaces are not in the fields of surfaces, but surface objects *do* have fields that have the coordinates of the surface. The areas and orientations can be calculated from these coordinates.  \n",
      "Pyeplus has some functions that will do the calculations.  \n",
      "\n",
      "In the present version, pyeplus will calculate:\n",
      "\n",
      "- surface azimuth\n",
      "- surface tilt\n",
      "- surface area\n",
      "\n",
      "Let us explore these functions"
     ]
    },
    {
     "cell_type": "code",
     "collapsed": false,
     "input": [
      "from idfreader import idfreader\n",
      "\n",
      "iddfile = \"../iddfiles/Energy+V7_0_0_036.idd\"\n",
      "fname = \"../idffiles/V_7_0/5ZoneSupRetPlenRAB.idf\"\n",
      " \n",
      "model, to_print, idd_info = idfreader(fname, iddfile)\n",
      "surfaces = model['BUILDINGSURFACE:DETAILED'] # all the surfaces"
     ],
     "language": "python",
     "metadata": {},
     "outputs": []
    },
    {
     "cell_type": "code",
     "collapsed": false,
     "input": [
      "# Let us look at the first surface\n",
      "surface = surfaces[0]\n",
      "print \"surface azimuth =\",  surface.azimuth, \"degrees\"\n",
      "print \"surface tilt =\", surface.tilt, \"degrees\"\n",
      "print \"surface area =\", surface.area, \"m2\""
     ],
     "language": "python",
     "metadata": {},
     "outputs": []
    },
    {
     "cell_type": "code",
     "collapsed": false,
     "input": [
      "# all the surface names\n",
      "s_names = [surface.Name for surface in surfaces]\n",
      "print s_names[:5] # print five of them"
     ],
     "language": "python",
     "metadata": {},
     "outputs": []
    },
    {
     "cell_type": "code",
     "collapsed": false,
     "input": [
      "# surface names and azimuths\n",
      "s_names_azm = [(sf.Name, sf.azimuth) for sf in surfaces]\n",
      "print s_names_azm[:5] # print five of them"
     ],
     "language": "python",
     "metadata": {},
     "outputs": []
    },
    {
     "cell_type": "code",
     "collapsed": false,
     "input": [
      "# or to do that in pretty printing\n",
      "for name, azimuth in s_names_azm[:5]: # just five of them\n",
      "    print name, azimuth"
     ],
     "language": "python",
     "metadata": {},
     "outputs": []
    },
    {
     "cell_type": "code",
     "collapsed": false,
     "input": [
      "# surface names and tilt\n",
      "s_names_tilt = [(sf.Name, sf.tilt) for sf in surfaces]\n",
      "for name, tilt in s_names_tilt[:5]: # just five of them\n",
      "    print name, tilt"
     ],
     "language": "python",
     "metadata": {},
     "outputs": []
    },
    {
     "cell_type": "code",
     "collapsed": false,
     "input": [
      "# surface names and areas\n",
      "s_names_area = [(sf.Name, sf.area) for sf in surfaces]\n",
      "for name, area in s_names_area[:5]: # just five of them\n",
      "    print name, area, \"m2\""
     ],
     "language": "python",
     "metadata": {},
     "outputs": []
    },
    {
     "cell_type": "markdown",
     "metadata": {},
     "source": [
      "Let us try to isolate the exterior north facing walls and change their construnctions"
     ]
    },
    {
     "cell_type": "code",
     "collapsed": false,
     "input": [
      "# just vertical walls\n",
      "vertical_walls = [sf for sf in surfaces if sf.tilt == 90.0]\n",
      "print [sf.Name for sf in vertical_walls]"
     ],
     "language": "python",
     "metadata": {},
     "outputs": []
    },
    {
     "cell_type": "code",
     "collapsed": false,
     "input": [
      "# north facing walls\n",
      "north_walls = [sf for sf in vertical_walls if sf.azimuth == 0.0]\n",
      "print [sf.Name for sf in north_walls]"
     ],
     "language": "python",
     "metadata": {},
     "outputs": []
    },
    {
     "cell_type": "code",
     "collapsed": false,
     "input": [
      "# north facing exterior walls\n",
      "exterior_nwall = [sf for sf in north_walls if sf.Outside_Boundary_Condition == \"Outdoors\"]\n",
      "print [sf.Name for sf in exterior_nwall]"
     ],
     "language": "python",
     "metadata": {},
     "outputs": []
    },
    {
     "cell_type": "code",
     "collapsed": false,
     "input": [
      "# print out some more details of the north wall\n",
      "north_wall_info = [(sf.Name, sf.azimuth, sf.Construction_Name) for sf in exterior_nwall]\n",
      "for name, azimuth, construction in north_wall_info:\n",
      "    print name, azimuth, construction"
     ],
     "language": "python",
     "metadata": {},
     "outputs": []
    },
    {
     "cell_type": "code",
     "collapsed": false,
     "input": [
      "# change the construction in the exterior north walls\n",
      "for wall in exterior_nwall:\n",
      "    wall.Construction_Name = \"NORTHERN-WALL\" # make sure such a construction exists in the model"
     ],
     "language": "python",
     "metadata": {},
     "outputs": []
    },
    {
     "cell_type": "code",
     "collapsed": false,
     "input": [
      "# see the change\n",
      "north_wall_info = [(sf.Name, sf.azimuth, sf.Construction_Name) for sf in exterior_nwall]\n",
      "for name, azimuth, construction in north_wall_info:\n",
      "    print name, azimuth, construction"
     ],
     "language": "python",
     "metadata": {},
     "outputs": []
    },
    {
     "cell_type": "code",
     "collapsed": false,
     "input": [
      "# see this in all surfaces\n",
      "for sf in surfaces:\n",
      "    print sf.Name, sf.azimuth, sf.Construction_Name"
     ],
     "language": "python",
     "metadata": {},
     "outputs": []
    },
    {
     "cell_type": "markdown",
     "metadata": {},
     "source": [
      "You can see the \"NORTHERN-WALL\" in the print out above.  \n",
      "This shows that very sophisticated modification can be made to the model rather quickly. "
     ]
    },
    {
     "cell_type": "heading",
     "level": 2,
     "metadata": {},
     "source": [
      "Reading outputs from E+"
     ]
    },
    {
     "cell_type": "heading",
     "level": 2,
     "metadata": {},
     "source": [
      "Examples of using pyeplus"
     ]
    },
    {
     "cell_type": "heading",
     "level": 3,
     "metadata": {},
     "source": [
      "Elimination parametrics using pyeplus"
     ]
    },
    {
     "cell_type": "heading",
     "level": 3,
     "metadata": {},
     "source": [
      "Other Examples"
     ]
    },
    {
     "cell_type": "code",
     "collapsed": false,
     "input": [],
     "language": "python",
     "metadata": {},
     "outputs": []
    }
   ],
   "metadata": {}
  }
 ]
}